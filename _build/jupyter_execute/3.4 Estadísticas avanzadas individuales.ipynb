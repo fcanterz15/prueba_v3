{
 "cells": [
  {
   "cell_type": "code",
   "execution_count": 1,
   "id": "42361d4d-bb13-4116-b154-7354a36fade5",
   "metadata": {},
   "outputs": [],
   "source": [
    "import pandas as pd\n",
    "import os\n",
    "from funciones_auxiliares import *\n",
    "import warnings\n",
    "warnings.filterwarnings('ignore')"
   ]
  },
  {
   "cell_type": "markdown",
   "id": "4f29d09e-2615-420c-8468-e8afcb8c90df",
   "metadata": {},
   "source": [
    "# 3.4 *Estadisticas avanzadas individuales*"
   ]
  },
  {
   "cell_type": "markdown",
   "id": "3f9d7e16-e838-4036-9dde-88e2e1639efa",
   "metadata": {},
   "source": [
    "Las *estadísticas avnzadas individuales* son el tipo de estadística definida por *Dean Oliver* en su libro *Basketball on Paper* las cuales permiten medir diferentes aspectos de los jugadores de baloncesto a partir de las *estadísticas totales* en un periodo de tiempo. En este notebook se buscará dar explicación de manera entendible y visualizada a todo el procesamiento realizado para la construcción de estas estadísticas a través de los siguientes puntos:\n",
    "* **1. Base teórica de la construcción de las estadísticas.** Se realizará la explicación teórica de los pasos realizados para la construcción de este tipo de estadísticas.\n",
    "* **2. Procesamiento de los datos.** Se realizará la explicación guiada del procesamiento de los datos para la construcción de las estadísticas totales.\n",
    "\n",
    "A través de esos puntos se realizará la comprensión y entendimiento del trabajo realizado para la construcción de las *estadísticas totales*."
   ]
  },
  {
   "cell_type": "markdown",
   "id": "a6a96935-b9ea-45c3-b831-8ee12fb02f8d",
   "metadata": {},
   "source": [
    "## 1. Base teórica de la construcción de las estadísticas"
   ]
  },
  {
   "cell_type": "markdown",
   "id": "1b7a8f4e-89ef-4802-b3b9-33be960dd1fe",
   "metadata": {},
   "source": [
    "Como ha sido comentado al inicio de este notebook, las *estadísticas avanzadas individuales* fueron diseñadas por *Dean Oliver* en su libro *Baskeball on Paper* en el cual se definieron diferentes métricas las cuales permiten saber el desempeño de los jugadores de baloncesto en función de su estadísticas individuales totales. Estas estadísticas permite mostrar el desempeño de los jugadores de baloncesto dentro de una pista ya que representan cada una de las estadísticas teniendo en cuenta el contexto en el que las realizó el jugador. Es por este motivo que para la construcción de las *estadísticas avanzadas individuales* han sido utilizadas las estadísticas totales contruidas en el apartado [Construcción de las *estadísticas totales*.](3.1%20Estadisticas%20totales) tanto de jugadores como de equipos. Mediante este tipo de estadísticas será construidas las siguientes estadísticas avanzadas:\n",
    "* *eFG%  - Effective Field Goal Percentage.* El *eFG%* conocida como *porcentaje de eficiencia del tiro*, es la métrica que permite conocer como de bunos han sido los tiros realizados por el jugador. Esta métrica es calcula a patir de la fórmula *eFG% = (Tiros anotados + 0.5 * Tiros de tres anotados) / Tiros lanzdaos*.\n",
    "* *3Pr - Three-Point rating.* El *3Pr* conocida como *volumen de tiros de tres lanzados*, es la métrica que permite conocer el porcentaje de tiros de tres que ha sido lanzado por el jugador con respecto a su tiros totales. Est métrica es calculada a partir de la fórmula *3Pr = Tiros de tres lanzados / Tiros lanzados.\n",
    "* *FTr - Free Throw rating.* El *Ftr* conocida como *volumen de tiros libres* es la métrica que permite conocer el volumen de tiros libres anotados con respecto a los tiros lanzados por el jugador. Esta métrica es calculada a partir de la fórmula *FTr = Tiros libres anotados / Tiros de campo lanzados.\n",
    "* *ORB% -  Offensive Rebound Percentage.* El *ORB%* tambien conocida por *Volumen de rebotes ofensivos* es la métrica que permite conocer cuantos rebotes ofensivos del total de rebotes diponibles fue capaz de capturar el jugador. Esta métrica es calculada a partir de la fórmula *ORB% = (Rebotes ofensivos capturados por el jugador * (Minutos jugados por el equipo / 5)) / (Minutos jugados por el jugador * (Rebotes ofensivos del equipo + Rebotes defensivos del equipo rival))*.\n",
    "* *DRB% -  Defensive Rebound Percentage.* El *DRB%* también conocida por *volumen de rebotes defensivos* es la métrica que permite conocer cuantos rebotes defensivos del total de rebotes dispones fue capaz de capturar el jugador. Esta métrica es calculada a a partir de la fórmula *DRB% = (Rebotes defensivos capturados por el jugador * (Minutos jugados por el equipo / 5)) / (Minutos jugados por el jugador * (Rebotes defensivos del equipo + Rebotes ofensivos del equipos rival))*.\n",
    "* *STL% - Steal Percentage.* El *STL%* también conocida como *volumen de recuperaciones realizadas* es la métrica que permite conocer cuantos balones fueron robados por el jugador con respecto al total de balones robados por el equipo. Esta métrica es calculada a partir de la fórmula *STL% = (Robos realizados por el jugador * (Minutos jugados por el equipo / 5)) / (Minutos jugados por el jugador * Posesiones realizadas por el rival)*.\n",
    "* *BLK% - Block Percentage.* El *BLK%* también conocida como *volumen de tapones realizados* es la métrica que permite conocer cuanto tiros del oponente fueron taponados con respecto al volumen total de tiros. Esta métrica es calculada a partir de la fórmula *BLK% = Tapones realizados por el jugador * (Minutos jugados por el equipo / 5)) / (Minutos jugados por el jugador * (Tiros de campo anotados por el rival - Tiros de tres anotados por el rival)*.\n",
    "* *TOV% - Turnover Percentage.* El *TOV%* también conocida como *volumen de pérdidas realizadas* es la métrica que permite conocer cuantos balonces fueron perdidos por el jugador con respecto al total de balones perdidos del equipo. Esta métrica es calculada a partir de la fórmula *TOV% = Pérdidas realizadas por el jugador / (Tiros de campo anotados por el jugador + 0.44 * Tiros libres anotados por el jugador + Pérdidas realizadas por el jugador)*.\n",
    "* *AST% - Assist Percentage.* El *AST%* también conocida como *volumen de asistencias realizadas* es la metrica que permite conoces el volumen de asistencias realizadas por el jugadr con respecto a los tiros realizados del equipo. Esta métrica es calculada a apartir de la fórmula *AST% = Asistencias del jugador / (((Minutos jugados por el jugador / (Minutos jugados por el equipo / 5)) * Tiros realizados por el equipo) - Tiros realizados por el jugador*.\n",
    "* *USG% - Usage Percentage.* El *USG%* también conocida como *porcentaje de uso* es la métrica que permite conocer cuantas posesiones del equipo fueron finalizadas por el jugador ya sea por tiro, pérdida o falta recibida de tiro. Esta métrica es calculada a partir de la fórmula *USG% = (Tiros de campo lanzados por el jugador + 0.44 * Tiros libres lanzados por el jugador + Pérdidas realizadas por el jugador) * (Minutos jugados por el equipo / 5)) / (Minutos jugados por el jugador * (Tiros de campo lanzados por el jugador + 0.44 * Tiros libres lanzados por el equipo + Péridas realizadas por el equipo)*.\n",
    "* *STOP%.*\n",
    "\n",
    "A partir de estas estadísticas han sido creadas las estadísticas individuales de los jugadores. Para ello, ha sido creado el script de código [04_Procesamiento_ESTADISTICA_AVANZADA](04_Procesamiento_ESTADISTICA_AVANZADA.py) con el cual se realiza la construcción de las estadísticas avanzadas para cada jugador en cada una de las temporadas para las que han sido construidas las *estadísticas totales*."
   ]
  },
  {
   "cell_type": "markdown",
   "id": "9811306a-3079-4219-b9d3-5a741e1a34d0",
   "metadata": {},
   "source": [
    "# 2. Procesamiento de los datos"
   ]
  },
  {
   "cell_type": "markdown",
   "id": "5e3e678a-519b-4eec-8b42-eaf7428a66c6",
   "metadata": {},
   "source": [
    "Como ha sido explicado en el apartado anterior, para el cálculo de las *estadísticas avanzadas individuales* es necesario tener la información por un lado de las estadísticas totales realizadas por los jugadores, las estadísticas totales de los equipos y las estadísticas totales de los rivales a lo que se haya enfrentado el equipo. Es por este motivo que para la construcción de este tipo de estadística se realiza la carga de todas las estadísticas totales del Real Madrid durante la temporada *2022-2023*:"
   ]
  },
  {
   "cell_type": "code",
   "execution_count": 2,
   "id": "62d43451-2935-401b-88f6-bc36a69081df",
   "metadata": {},
   "outputs": [
    {
     "name": "stdout",
     "output_type": "stream",
     "text": [
      "##################################################################################\n",
      "# ESTADISTICAS TOTALES DE LOS JUGADORES DEL REAL MADRID EN LA TEMPORADA 2022-2023\n",
      "##################################################################################\n",
      " NO.         JUGADOR  MIN  PTS   RO   RD   RT   AS  PER  REC  TAP   TR  MAT   FP   FR    +-   VAL  T2A  T2L  T3A  T3L  TLA  TLL\n",
      "   0 N.Williams-Goss  370  137    6   35   41   63   23   16    5    5    0   39   13 154.0 144.0   42   79   16   41    5    7\n",
      "   1      F. Causeur  562  238    7   48   55   47   32   25    4   10    0   52   47 167.0 201.0   49   94   37  102   29   40\n",
      "  11      M. Hezonja  570  282   11  114  125   40   44   23    8    4    8   59   49 126.0 301.0   51   92   46  116   42   50\n",
      "  13    S. Rodríguez  447  156    4   45   49  101   42   12    0    2    0   37   36  49.0 204.0   23   48   30   71   20   23\n",
      "  14         G. Deck  473  209   31   79  110   37   23   16    2    7    5   30   46 178.0 290.0   66  112   13   28   38   47\n",
      "  17      V. Poirier  472  219   66   59  125   24   25   11   28    5   40   54   63 173.0 295.0   78  149    3    4   54   73\n",
      "  19        E. Demin    1    0    0    0    0    0    0    0    0    1    0    0    0   1.0  -3.0    0    1    0    1    0    0\n",
      "  21     P. Cornelie  456  133   21   70   91   17   15   12    7    5   11   54   35 201.0 146.0   28   51   16   61   29   36\n",
      "  22      W. Tavares  594  303   67  109  176   37   41   21   57    5   32   66   83 211.0 490.0  122  176    1    1   56   77\n",
      "  23        S. Llull  416  166    6   36   42   72   27   15    1    5    0   29   46  80.0 174.0   23   61   27   87   39   48\n",
      "  28     G. Yabusele  686  321   44   80  124   27   28   36   11   14   19   42   88 115.0 385.0   81  142   30   82   69   94\n",
      "   3     A. Randolph  101   39    2   30   32    3    4    2    1    0    1   10   10  26.0  49.0    6   15    7   21    6    7\n",
      "  30       E. Ndiaye  183   42   13   30   43    8   12    5    9    1    2   29   15 -13.0  49.0   13   28    3   15    7   11\n",
      "  31         D. Musa  652  469   19   66   85   64   50   28    5   10    5   46  131 270.0 521.0   85  143   57  120  128  162\n",
      "   4       I. Diagne    1    1    1    0    1    0    0    0    0    0    0    0    1   1.0   2.0    0    0    0    0    1    2\n",
      "   5    R. Fernández  117   58    1    9   10    5   11    3    1    1    0   10    4  23.0  37.0    5    7   16   36    0    0\n",
      "   6       A. Abalde  406  127   10   45   55   32   31   11    0    2    1   42   25  49.0 100.0   29   52   17   64   18   23\n",
      "   7     H. González    7    6    0    0    0    0    0    0    0    0    0    0    2   0.0   8.0    1    1    0    0    4    4\n",
      "   8        A. Hanga  287   99    9   30   39   32   24   13    3    3    3   33   22  69.0  92.0   23   42   13   41   14   23\n",
      "\n",
      "##################################################################################\n",
      "# ESTADISTICAS TOTALES DEL REAL MADRID EN LA TEMPORADA 2022-2023\n",
      "##################################################################################\n",
      "EQUIPO  MIN  PTS   RO   RD   RT   AS  PER  REC  TAP   TR  MAT   FP   FR     +-    VAL  T2A  T2L  T3A  T3L  TLA  TLL\n",
      "EQUIPO 6801 3005  318  885 1203  609  432  249  142   80  127  632  716 1880.0 3485.0  725 1293  332  891  559  727\n",
      "\n",
      "##################################################################################\n",
      "# ESTADISTICAS TOTALES DE LOS RIVALES DEL REAL MADRID EN LA TEMPORADA 2022-2023\n",
      "##################################################################################\n",
      "     JUGADOR  MIN  PTS   RO   RD   RT   AS  PER  REC  TAP   TR  MAT   FP   FR      +-    VAL  T2A  T2L  T3A  T3L  TLA  TLL\n",
      "EQUIPO_RIVAL 6804 2629  307  732 1039  538  391  254   87  141  108  720  611 -1880.0 2490.0  721 1423  263  864  398  511\n"
     ]
    }
   ],
   "source": [
    "# Ruta para acceder al fichero de estadísticas totales del Real Madrid\n",
    "fichero_total_jugadores_2022 = 'E:/TFM/02. Datos/ACB/ESTADISTICAS/2022/Real Madrid/01_ESTADISTICAS_TOTALES_EQUIPO.csv'\n",
    "\n",
    "# Ruta para acceder al fichero de estadísticas totales de los rivales del Real Madrid\n",
    "fichero_rival_2022 = 'E:/TFM/02. Datos/ACB/ESTADISTICAS/2022/Real Madrid/01_ESTADISTICAS_TOTALES_RIVAL.csv'\n",
    "\n",
    "df_totales_2022 = pd.read_csv(fichero_total_jugadores_2022, sep = ';')\n",
    "df_totales_rival_2022 = pd.read_csv(fichero_rival_2022, sep = ';')\n",
    "\n",
    "print(\"##################################################################################\")\n",
    "print(\"# ESTADISTICAS TOTALES DE LOS JUGADORES DEL REAL MADRID EN LA TEMPORADA 2022-2023\")\n",
    "print(\"##################################################################################\")\n",
    "print(df_totales_2022.to_string(index=False, col_space=4)) \n",
    "\n",
    "print(\"\\n##################################################################################\")\n",
    "print(\"# ESTADISTICAS TOTALES DEL REAL MADRID EN LA TEMPORADA 2022-2023\")\n",
    "print(\"##################################################################################\")\n",
    "df_totales_2022['EQUIPO'] = 'EQUIPO'\n",
    "df_equipo_total = df_totales_2022.drop(['NO.','JUGADOR'],axis=1).groupby('EQUIPO').sum().reset_index()\n",
    "print(df_equipo_total.to_string(index=False, col_space=4)) \n",
    "\n",
    "print(\"\\n##################################################################################\")\n",
    "print(\"# ESTADISTICAS TOTALES DE LOS RIVALES DEL REAL MADRID EN LA TEMPORADA 2022-2023\")\n",
    "print(\"##################################################################################\")\n",
    "print(df_totales_rival_2022.to_string(index=False, col_space=4)) "
   ]
  },
  {
   "cell_type": "markdown",
   "id": "4d167dc2-9911-4216-9473-e59d7b4b252a",
   "metadata": {},
   "source": [
    "A partir de las estadísticas totales mostradas y la aplicación de las fórmulas definidas en el primer apartado se pasa a mostrar la *estadísticas totales avanzadas* de los jugadores del Real Madrid durante la temporada *2022-2023*:"
   ]
  },
  {
   "cell_type": "code",
   "execution_count": 3,
   "id": "48015eac-edeb-489d-aa77-7c3514fb8782",
   "metadata": {},
   "outputs": [
    {
     "name": "stdout",
     "output_type": "stream",
     "text": [
      "######################################################################################\n",
      "# ESTADISTICAS AVANZADAS DE LOS JUGADORES DEL REAL MADRID EN LA TEMPORADA 2022-2023\n",
      "######################################################################################\n",
      " NO.         JUGADOR   eFG%    3Pr    FTr   ORB%   DRB%   STL%   BLK%   TOV%    AST%   USG%  STOP%\n",
      "   0 N.Williams-Goss 0.5500 0.3417 0.0583 0.0210 0.1079 0.0232 0.0129 0.1584  0.1329 0.1829 0.4525\n",
      "   1      F. Causeur 0.5332 0.5204 0.2041 0.0161 0.0975 0.0239 0.0068 0.1329  0.0665 0.2025 0.4237\n",
      "  11      M. Hezonja 0.5769 0.5577 0.2404 0.0250 0.2282 0.0217 0.0134 0.1627  0.0566 0.2227 0.6043\n",
      "  13    S. Rodríguez 0.5714 0.5966 0.1933 0.0116 0.1149 0.0144 0.0000 0.2473  0.1687 0.1774 0.3801\n",
      "  14         G. Deck 0.6107 0.2000 0.3357 0.0849 0.1906 0.0182 0.0040 0.1280  0.0597 0.1799 0.5093\n",
      "  17      V. Poirier 0.5392 0.0261 0.4771 0.1811 0.1426 0.0125 0.0567 0.1239  0.0397 0.2062 0.5678\n",
      "  19        E. Demin 0.0000 0.5000 0.0000 0.0000 0.0000 0.0000 0.0000 0.0000 -0.0000 0.9266 0.7107\n",
      "  21     P. Cornelie 0.4643 0.5446 0.3214 0.0597 0.1752 0.0141 0.0147 0.1073  0.0274 0.1451 0.5010\n",
      "  22      W. Tavares 0.6977 0.0056 0.4350 0.1461 0.2094 0.0190 0.0917 0.1690  0.0476 0.1965 0.7863\n",
      "  23        S. Llull 0.4291 0.5878 0.3243 0.0187 0.0987 0.0194 0.0023 0.1405  0.1385 0.2184 0.3895\n",
      "  28     G. Yabusele 0.5625 0.3661 0.4196 0.0831 0.1331 0.0282 0.0153 0.0992  0.0308 0.1981 0.5147\n",
      "   3     A. Randolph 0.4583 0.5833 0.1944 0.0257 0.3389 0.0106 0.0095 0.0938  0.0238 0.1976 0.6886\n",
      "  30       E. Ndiaye 0.4070 0.3488 0.2558 0.0920 0.1871 0.0147 0.0470 0.2066  0.0319 0.1515 0.6138\n",
      "  31         D. Musa 0.6483 0.4563 0.6160 0.0378 0.1155 0.0231 0.0073 0.1354  0.0816 0.2731 0.4438\n",
      "   4       I. Diagne 0.0000 0.0000    inf 1.2954 0.0000 0.0000 0.0000 0.0000  0.0000 0.4077 0.7107\n",
      "   5    R. Fernández 0.6744 0.8372 0.0000 0.0111 0.0878 0.0138 0.0082 0.2037  0.0345 0.2138 0.3677\n",
      "   6       A. Abalde 0.4698 0.5517 0.1983 0.0319 0.1265 0.0146 0.0000 0.2001  0.0597 0.1793 0.3971\n",
      "   7     H. González 1.0000 0.0000 4.0000 0.0000 0.0000 0.0000 0.0000 0.0000  0.0000 0.1827 0.2314\n",
      "   8        A. Hanga 0.5120 0.4940 0.2771 0.0406 0.1193 0.0243 0.0100 0.2121  0.0847 0.1891 0.4656\n"
     ]
    }
   ],
   "source": [
    "print(\"######################################################################################\")\n",
    "print(\"# ESTADISTICAS AVANZADAS DE LOS JUGADORES DEL REAL MADRID EN LA TEMPORADA 2022-2023\")\n",
    "print(\"######################################################################################\")\n",
    "df_estadisticas_avanzadas = procesar_ADVANCED_STATS(df_totales_2022, df_equipo_total, df_totales_rival_2022)\n",
    "print(df_estadisticas_avanzadas.to_string(index=False, col_space=4)) "
   ]
  },
  {
   "cell_type": "code",
   "execution_count": null,
   "id": "0d4007d5-6ece-4e87-bee0-35a422db76d8",
   "metadata": {},
   "outputs": [],
   "source": []
  }
 ],
 "metadata": {
  "kernelspec": {
   "display_name": "Python 3 (ipykernel)",
   "language": "python",
   "name": "python3"
  },
  "language_info": {
   "codemirror_mode": {
    "name": "ipython",
    "version": 3
   },
   "file_extension": ".py",
   "mimetype": "text/x-python",
   "name": "python",
   "nbconvert_exporter": "python",
   "pygments_lexer": "ipython3",
   "version": "3.11.7"
  }
 },
 "nbformat": 4,
 "nbformat_minor": 5
}