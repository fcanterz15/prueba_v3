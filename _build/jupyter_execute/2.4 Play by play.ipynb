{
 "cells": [
  {
   "cell_type": "code",
   "execution_count": 1,
   "id": "e97665ce-926d-4b55-b864-163dbcc8c70b",
   "metadata": {},
   "outputs": [],
   "source": [
    "import pandas as pd\n",
    "import os\n",
    "from funciones_auxiliares import *\n",
    "import warnings\n",
    "warnings.filterwarnings('ignore')"
   ]
  },
  {
   "cell_type": "markdown",
   "id": "6eeda309-79ef-4f0b-b9a7-e1250251247a",
   "metadata": {},
   "source": [
    "# 2.4 Descarga de *Play by play*"
   ]
  },
  {
   "cell_type": "markdown",
   "id": "7d1a90fa-da6d-4000-afb1-605c25a4f11f",
   "metadata": {},
   "source": [
    "La tabla del *Play by play* es la tabla de información que se utilizaba habitualmente en los partidos de baloncesto para reflejar las acciones realizadas por los jugadores durante estos en cada momento del partido. A través de este notebook se buscará dar explicación del lugar de donde ha sido extraida la informació como a que información ha sido descargada. Para ello, se estructurará el notebook en los siguiente puntos:\n",
    "\n",
    "* **1. Descripción del portal web.** Se hará una revisión de la información que es almacenada dentro del portal y se explicará el método de descarga de cada uno de los play by play de cada uno de los partidos.\n",
    "* **2. Revisión de información y estructura de los ficheros.** Tras la descarga de la información, se hará una revisión de la información individualizada de los ficheros descargados y la revisión conjunta de los ficheros descargados.\n",
    "\n",
    "A través de esos puntos se realizará la comprensión y entendimiento del trabajo realizado para la descarga de los ficheros referentes al box score."
   ]
  },
  {
   "cell_type": "markdown",
   "id": "5c176db5-9bc6-4e93-9346-dc82de8bb476",
   "metadata": {},
   "source": [
    "## 1. Descripción del portal web y método de descarga"
   ]
  },
  {
   "cell_type": "markdown",
   "id": "787e8583-4003-445b-a81c-d81851a218ac",
   "metadata": {},
   "source": [
    "Para la descarga del *Play by play* de cada uno de los partidos ha sido utilizado la página web https://jv.acb.com/es/ que como se ha comentado en la sección de la creación del *Diccionario de partidos* es la página web en la que los aficionados puede ver los resultados y estadísticas de los partidos disputados. Como se mostró durante la creación del diccionario, cada partido disputado tiene una url la cual permite al usuario acceder a las estadísticas del partido. Esta url, está compuesta por el enlace a la página oficial de la jornada virtual de la liga junto a un identificador numérico del partido y la sección que se quiere visitar. Es por este motivo, que para poder acceder al *Box Score* de cualquier partido la url debe estar compuesta por la url (https://jv.acb.com/es/), el identificador del partido y la sección *jugadas*.\n",
    "\n",
    "Teniendo esto presente, se muestra a continuación el partido disputado en la temporada *2022-2023* entre el Básquet Girona y el Real Madrid durante la primera jornada de la temporada a la que se puede tener acceso mediante el enlace https://jv.acb.com/es/103350/jugadas. Dentro de la página web del partido, podemos encontras dos secciones, la primera de ellas es la siguiente:\n",
    "\n",
    "![imagen](imagenes/ACB_MENU_PLAY_BY_PLAY.png)\n",
    "\n",
    "En esta primera sección podemos encontrar los equipos participantes en el encuentro, la fecha y el resultado del partido junto al tanteo por cuartos. Además, se puede observar como el *Box Score* se encuentra dentro del apartado *Jugadas*.\n",
    "\n",
    "Por otro lado, la segunda sección de la página web es en la que se muestra el *Play by play* de los equipos. Esta sección es la siguiente:\n",
    "\n",
    "![imagen](imagenes/ACB_PLAY_BY_PLAY.png)\n",
    "\n",
    "Esta sección está compuesta por cinco botones los cuales permiten visualizar las acciones realizadas por los jugadores en todo el partido o en algún cuarto del partido en específico. Dentro de las sección de acciones, podemos encontrar como estas están divididas por cajas en las que se muestra la siguiente información:\n",
    "* EQUIPO. Hace referencia al que realizó la acción.\r\n",
    "* CUARTO. Hacier referencia al periodo del partido en el que se realizó la acción.\r\n",
    "* MINUTO. Hace referencia al minuto del cuarto en el que se realizó la acción.\r\n",
    "* Puntos del local. Hace referencia a los puntos anotados por el equipo local en el momento de la acción.\r\n",
    "* Puntos del visitante. Hace referencia a los puntos anotados por el equipo visitante en el momento de la acción.\r\n",
    "* NOMBRE. Hace referencia al nombre del jugador que realizó la acción.\r\n",
    "* ACCIÓN. Hace referencia a la acción que se re\n",
    "\n",
    "A través del *Diccionario de partidos* y técnicas de web scrapping que permite la interacción con el navegador y la descargar del código fuente de partidos, han sido descargados todos los *Play by play* de los partidos recogidos dentro del diccionario. Para esta descarga, ha sido desarrolla el script de código [04_Descargar_Play_By_Play](04_Descargar_Play_By_Play.py) que permite la descarga y almacenamiento de los *Play by play* de ambos equipos en las rutas establecidas.alizó.loración del jugador."
   ]
  },
  {
   "cell_type": "markdown",
   "id": "29a9b714-0594-4f55-bc27-447b2d5f4b7f",
   "metadata": {},
   "source": [
    "## 2. Revisión de información y estructura de los ficheros"
   ]
  },
  {
   "cell_type": "markdown",
   "id": "5e50f35d-cc3f-4ebc-8f0d-39bcfdfa855c",
   "metadata": {},
   "source": [
    "Como ha sido comentado durante el apartado anterior, se ha realizado la descarga de todos los *Play by play* de los partidos almacenados en el *Diccionario de partidos*. Es por este motivo que para entender y explicar que información ha sido descargada, se pasa a realizar la carga del primer partido disputado en cada temporada en la primera jornada:"
   ]
  },
  {
   "cell_type": "code",
   "execution_count": 2,
   "id": "7b8e3ff9-4c7b-46d0-bf4f-3c53f09a3682",
   "metadata": {},
   "outputs": [],
   "source": [
    "# Ruta para acceder a la información de las jornas de cada una de las temporadas\n",
    "ruta_jornadas = 'E:/TFM/02. Datos/ACB/JORNADAS'\n",
    "\n",
    "# Ruta al primer partido de cada temporada\n",
    "partido_2019 = 'E:/TFM/02. Datos/ACB/JORNADAS/2019/Jornada 1/20190924_Montakit Fuenlabrada_VS_San Pablo Burgos/PBP_Montakit Fuenlabrada_VS_San Pablo Burgos.csv'\n",
    "partido_2020 = 'E:/TFM/02. Datos/ACB/JORNADAS/2020/Jornada 1/20200919_Acunsa GBC_VS_Real Madrid/PBP_Acunsa GBC_VS_Real Madrid.csv'\n",
    "partido_2021 = 'E:/TFM/02. Datos/ACB/JORNADAS/2021/Jornada 1/20210918_Coosur Real Betis_VS_MoraBanc Andorra/PBP_Coosur Real Betis_VS_MoraBanc Andorra.csv'\n",
    "partido_2022 = 'E:/TFM/02. Datos/ACB/JORNADAS/2022/Jornada 1/20220928_Bàsquet Girona_VS_Real Madrid/PBP_Bàsquet Girona_VS_Real Madrid.csv'\n",
    "\n",
    "# Lectura de un partido de muestra cada temporada\n",
    "# Lectura de un partido de muestra cada temporada\n",
    "df_partido_2019 = pd.read_csv(partido_2019, sep=';')\n",
    "df_partido_2020 = pd.read_csv(partido_2020, sep=';')\n",
    "df_partido_2021 = pd.read_csv(partido_2021, sep=';')\n",
    "df_partido_2022 = pd.read_csv(partido_2022, sep=';')"
   ]
  },
  {
   "cell_type": "markdown",
   "id": "aae310fa-c390-4d64-970e-04fc33f11249",
   "metadata": {},
   "source": [
    "Tras realizar la carga de los cuatro partidos, se pasa a mostrar que información ha sido cargada de cada uno de los *Play by play*:"
   ]
  },
  {
   "cell_type": "code",
   "execution_count": 3,
   "id": "22eb66bb-3be2-454d-9a71-a62221a1ed48",
   "metadata": {},
   "outputs": [
    {
     "name": "stdout",
     "output_type": "stream",
     "text": [
      "###############################################\n",
      "# COLUMNAS DEL PLAY BY PLAY EN CADA TEMPORADA\n",
      "###############################################\n",
      "TEMPORADA 2019: EQUIPO | CUARTO | MINUTO | PTs_LOCAL | PTS_VISITANTE | NOMBRE | ACCION\n",
      "TEMPORADA 2020: EQUIPO | CUARTO | MINUTO | PTs_LOCAL | PTS_VISITANTE | NOMBRE | ACCION\n",
      "TEMPORADA 2021: EQUIPO | CUARTO | MINUTO | PTs_LOCAL | PTS_VISITANTE | NOMBRE | ACCION\n",
      "TEMPORADA 2022: EQUIPO | CUARTO | MINUTO | PTs_LOCAL | PTS_VISITANTE | NOMBRE | ACCION\n"
     ]
    }
   ],
   "source": [
    "# Visualización de columnas de cada dataframe\n",
    "print(\"###############################################\")\n",
    "print(\"# COLUMNAS DEL PLAY BY PLAY EN CADA TEMPORADA\")\n",
    "print(\"###############################################\")\n",
    "l_col_2019 = [col for col in df_partido_2019.columns]\n",
    "print(\"TEMPORADA 2019:\",' | '.join(l_col_2019))\n",
    "l_col_2020 = [col for col in df_partido_2020.columns]\n",
    "print(\"TEMPORADA 2020:\",' | '.join(l_col_2020))\n",
    "l_col_2021 = [col for col in df_partido_2021.columns]\n",
    "print(\"TEMPORADA 2021:\",' | '.join(l_col_2021))\n",
    "l_col_2022 = [col for col in df_partido_2022.columns]\n",
    "print(\"TEMPORADA 2022:\",' | '.join(l_col_2022))"
   ]
  },
  {
   "cell_type": "markdown",
   "id": "1f9c050e-dee8-467e-bfed-75f9878033bf",
   "metadata": {},
   "source": [
    "Como se puede observar, en las cuatro temporadas, todos las tablas de *Play by play* tienen la información definida anteriormente. Se pasa a continuación a mostrar la información almacenada en el primer partido de la temporada *2022-2023*:"
   ]
  },
  {
   "cell_type": "code",
   "execution_count": 4,
   "id": "da85e2ea-6e43-48b5-a36d-8d0fc3d8caf4",
   "metadata": {},
   "outputs": [
    {
     "name": "stdout",
     "output_type": "stream",
     "text": [
      "###############################################\n",
      "# ANÁLISIS DE PLAY BY PLAY 2022\n",
      "###############################################\n",
      "Nº de columnas: 7\n",
      "Nº de registros: 530\n",
      "Cuartos del partido: 4C | 3C | 2C | 1C\n",
      "Acciones del partido: Asistencia | Triple anotado | Rebote Defensivo | Triple fallado | Tiro Libre anotado | Entra a pista | Sale de la pista | Falta Recibida | Falta Personal 2TL | Tiro Libre fallado | Falta Personal 1TL | Tiro de 2 anotado | Rebote Ofensivo | Pérdida | Falta en Ataque | Falta Personal | Tiempo Muerto | Tapón | Tapón Recibido | Tiro de 2 fallado | Falta Técnica 1TL | Recuperación | Falta Personal 3TL | Mate | Salto perdido | Salto ganado | Cinco Inicial\n",
      "\n",
      "Play by play 2022:\n",
      "        EQUIPO   CUARTO   MINUTO  PTs_LOCAL  PTS_VISITANTE   NOMBRE             ACCION\n",
      "Bàsquet Girona       4C    00:02         88             94    Colom         Asistencia\n",
      "Bàsquet Girona       4C    00:02         88             94 Figueras     Triple anotado\n",
      "Bàsquet Girona       4C    00:09         85             94    Gasol   Rebote Defensivo\n",
      "   Real Madrid       4C    00:09         85             94     Musa     Triple fallado\n",
      "Bàsquet Girona       4C    00:28         85             94    Gasol Tiro Libre anotado\n",
      "Bàsquet Girona       4C    00:28         84             94    Gasol Tiro Libre anotado\n",
      "   Real Madrid       4C    00:28         83             94  Poirier      Entra a pista\n",
      "   Real Madrid       4C    00:28         83             94 Cornelie   Sale de la pista\n",
      "Bàsquet Girona       4C    00:28         83             94    Gasol     Falta Recibida\n",
      "   Real Madrid       4C    00:28         83             94 Cornelie Falta Personal 2TL\n",
      "Bàsquet Girona       4C    00:28         83             94    Gasol   Rebote Defensivo\n",
      "   Real Madrid       4C    00:28         83             94 Yabusele Tiro Libre fallado\n",
      "   Real Madrid       4C    00:28         83             94 Yabusele     Falta Recibida\n",
      "Bàsquet Girona       4C    00:28         83             94  Miletic Falta Personal 1TL\n",
      "   Real Madrid       4C    00:28         83             94 Yabusele  Tiro de 2 anotado\n",
      "   Real Madrid       4C    00:28         83             92 Yabusele    Rebote Ofensivo\n",
      "   Real Madrid       4C    00:28         83             92  Hezonja     Triple fallado\n",
      "Bàsquet Girona       4C    00:49         83             92    Colom  Tiro de 2 anotado\n",
      "   Real Madrid       4C    01:02         81             92 Cornelie      Entra a pista\n",
      "   Real Madrid       4C    01:02         81             92  Tavares   Sale de la pista\n"
     ]
    }
   ],
   "source": [
    "print(\"###############################################\")\n",
    "print(\"# ANÁLISIS DE PLAY BY PLAY 2022\")\n",
    "print(\"###############################################\")\n",
    "\n",
    "print(\"Nº de columnas:\", len(df_partido_2022.columns))\n",
    "print(\"Nº de registros:\", len(df_partido_2022))\n",
    "print(\"Cuartos del partido:\", ' | '.join(df_partido_2022.CUARTO.unique()))\n",
    "print(\"Acciones del partido:\", ' | '.join(df_partido_2022.ACCION.unique()))\n",
    "\n",
    "print(\"\\nPlay by play 2022:\")\n",
    "print(df_partido_2022.head(20).to_string(index=False, col_space=8))"
   ]
  },
  {
   "cell_type": "markdown",
   "id": "5f0cfde0-901c-4302-a308-e9eda89ec3e3",
   "metadata": {},
   "source": [
    "Como se puede observar, el dataframe cargado consta de 530 registros los cuales dan información a las 7 variables anteriormente definidas. Dentro de cada una de las 7 variables a las que se da información se puede observar como en la variable *EQUIPO* se indica el nombre del equipo que realiza la acción, en la variable *CUARTO* se indica el cuarto en el que se produjo la acción, en la variable *MINUTO* se indica el momento en el que se produjo la acción, las variables *PTs_LOCAL* u *PTs_VISITANTE* indican los puntos anotados por ambos equipos, la variable *NOMBRE* indica el apellido del jugador y la variable *ACCION* indica la acción que realizó este.\n",
    "\n",
    "Analizada la información descargada, se pasa a realizar el análisis de volumetrías con respecto a los datos descargados para poder saber el volumen de información con la que se trabajará:"
   ]
  },
  {
   "cell_type": "code",
   "execution_count": 5,
   "id": "87e646f3-a3f4-4f33-9452-bd640bce1d89",
   "metadata": {},
   "outputs": [
    {
     "name": "stdout",
     "output_type": "stream",
     "text": [
      "###############################################\n",
      "# ANÁLISIS DE CONSISTENCIA EN LOS BOX SCORE\n",
      "###############################################\n",
      "El número de partidos descargados es: 1192\n",
      "El número de ficheros de box score descargados es: 1192\n",
      "El número de registros de box score descargados es: 637317\n",
      "El número de valores vacíos dentro del dataframe es:\n",
      " EQUIPO               0\n",
      "CUARTO               0\n",
      "MINUTO               0\n",
      "PTs_LOCAL            0\n",
      "PTS_VISITANTE        0\n",
      "NOMBRE           18022\n",
      "ACCION               0\n",
      "dtype: int64\n",
      "El número de valores nulos ('') dentro del dataframe es:\n",
      " EQUIPO           0\n",
      "CUARTO           0\n",
      "MINUTO           0\n",
      "PTs_LOCAL        0\n",
      "PTS_VISITANTE    0\n",
      "NOMBRE           0\n",
      "ACCION           0\n",
      "dtype: int64\n",
      "El número de tipos de cuartos existentes es: 6\n",
      "El número de acciones existentes es: 50\n"
     ]
    }
   ],
   "source": [
    "# Se seleccionan los directorios de las jornadas\n",
    "l_dir_temporada = os.listdir(ruta_jornadas)\n",
    "\n",
    "# Se inicializan los contadores para el estudio\n",
    "contador_vacios = 0\n",
    "contador_nulos = 0\n",
    "contador_registros = 0\n",
    "contador_ficheros = 0\n",
    "contador_partidos = 0\n",
    "l_acciones = []\n",
    "l_cuartos = []\n",
    "\n",
    "for dir_temporada in l_dir_temporada:\n",
    "    ruta_temporada = ruta_jornadas + '/' + dir_temporada\n",
    "    l_dir_jornadas = os.listdir(ruta_temporada)\n",
    "    \n",
    "    for dir_jornada in l_dir_jornadas:\n",
    "        ruta_jornada = ruta_temporada + '/' + dir_jornada\n",
    "        l_dir_partido = os.listdir(ruta_jornada)\n",
    "        \n",
    "        for dir_partido in l_dir_partido:\n",
    "            \n",
    "            # Se extraen los elemenos del partido\n",
    "            ruta_partido = ruta_jornada + '/' + dir_partido\n",
    "            l_elementos_partido = os.listdir(ruta_partido)\n",
    "            \n",
    "            # Se selecciona el fichero a cargar y se realiza su carga\n",
    "            pbp_partido = [elem for elem in l_elementos_partido if 'VS' in elem][0]\n",
    "            df_pbp_partido = pd.read_csv(ruta_partido + '/' + pbp_partido, sep=';', encoding = 'latin-1')\n",
    "                       \n",
    "            contador_vacios = contador_vacios + df_pbp_partido.isna().sum()\n",
    "            contador_registros = contador_registros + len(df_pbp_partido)\n",
    "            contador_ficheros = contador_ficheros + 1\n",
    "            contador_nulos = contador_nulos + (df_pbp_partido == '').sum()\n",
    "            contador_partidos = contador_partidos + 1\n",
    "            l_acciones.extend(df_pbp_partido.ACCION.unique())\n",
    "            l_cuartos.extend(df_pbp_partido.CUARTO.unique())\n",
    "            \n",
    "print(\"###############################################\")\n",
    "print(\"# ANÁLISIS DE CONSISTENCIA EN LOS BOX SCORE\")\n",
    "print(\"###############################################\")            \n",
    "print(\"El número de partidos descargados es:\", contador_partidos)\n",
    "print(\"El número de ficheros de box score descargados es:\",contador_ficheros)\n",
    "print(\"El número de registros de box score descargados es:\",contador_registros)\n",
    "print(\"El número de valores vacíos dentro del dataframe es:\\n\",contador_vacios)\n",
    "print(\"El número de valores nulos ('') dentro del dataframe es:\\n\",contador_nulos)\n",
    "print(\"El número de tipos de cuartos existentes es:\",len(set(l_cuartos)))\n",
    "print(\"El número de acciones existentes es:\", len(set(l_acciones)))"
   ]
  },
  {
   "cell_type": "markdown",
   "id": "de4d8c6a-0894-460e-9b65-d8b74908c278",
   "metadata": {},
   "source": [
    "Como se puede observar, el número de partidos descargados es de 1.192 en el que se almacenan en mismo número de play by plays ya que únicamente se almacena uno por encunetro. Desde de estos ficheros, se almacena información para 637.317 registros en donde únicamente en el campo *NOMBRE* se encuentran 18.022 elementos vacíos debido a que no todas las acciones son realizadas por los jugadores como pueden ser el cambio de cuartos o los tiempos muertos. \n",
    "\n",
    "Dentro de los cuartos y las acciones, podemso encontrar diferentes valores, se pasa a mostrar que tiempos de valores pueden encontrarse en cada uno de los campos:"
   ]
  },
  {
   "cell_type": "code",
   "execution_count": 6,
   "id": "cc7dc465-66e4-4967-b633-86efd45e67d6",
   "metadata": {},
   "outputs": [
    {
     "name": "stdout",
     "output_type": "stream",
     "text": [
      "##############################\n",
      "# VALORES EN VARIABLE CUARTOS\n",
      "##############################\n",
      "PR1 | PR2 | 4C | 1C | 2C | 3C\n",
      "\n",
      "##############################\n",
      "# VALORES EN VARIABLE ACCION\n",
      "##############################\n",
      "PÃ©rdida | RecuperaciÃ³n | Falta Personal 1TL | D - Descalificante - 2TL | Cinco Inicial | Pérdida | Falta Personal 2TL | Triple fallado | Falta Antideportiva 1TL | D - Descalificante - No TL\n",
      "Tiro de 2 anotado | Tapón | TÃ©cnica al Banquillo | TapÃ³n Recibido | Falta Antideportiva 3TL | TÃ©cnica al Entrenador (2TL) | Falta TÃ©cnica 2TL | Salto ganado | Falta Personal 3TL\n",
      "Falta Recibida | Falta Antideportiva | Asistencia | TÃ©cnica al Banquillo (1TL) | Tapón Recibido | Falta en Ataque | Falta TÃ©cnica 1TL | Falta TÃ©cnica | Falta Personal\n",
      "TÃ©cnica | TapÃ³n | Entra a pista | Rebote Ofensivo | Rebote Defensivo | TÃ©cnica al Entrenador | Tiro Libre anotado | TÃ©cnica al Entrenador (1TL) | Tiro Libre fallado\n",
      "Salto perdido | Recuperación | TÃ©cnica al Banquillo (2TL) | Descalificado del partido | Altercado no TL | Tiempo Muerto | Falta Antideportiva 2TL | Mate fallado | Sale de la pista\n"
     ]
    }
   ],
   "source": [
    "print(\"##############################\")\n",
    "print(\"# VALORES EN VARIABLE CUARTOS\")\n",
    "print(\"##############################\")\n",
    "print(' | '.join(set(l_cuartos)))\n",
    "\n",
    "print(\"\\n##############################\")\n",
    "print(\"# VALORES EN VARIABLE ACCION\")\n",
    "print(\"##############################\")\n",
    "l_acciones = list(set(l_acciones))\n",
    "print(' | '.join((l_acciones[0:10])))\n",
    "print(' | '.join((l_acciones[11:20])))    \n",
    "print(' | '.join((l_acciones[21:30])))   \n",
    "print(' | '.join((l_acciones[31:40])))    \n",
    "print(' | '.join((l_acciones[41:50])))     "
   ]
  },
  {
   "cell_type": "markdown",
   "id": "681c8a21-db5b-4d07-98ef-212a372ce9de",
   "metadata": {},
   "source": [
    "Como se puede observar, existen cuatro elementos que hacen referencias a los cuartos (1C, 2C, 3C y 4C) y dos elementos que hacen referencia a las prórrogas (PR1 y PR2). Por otro lado, con respecto a las acciones, existen diferentes tipos de acciones que hacen referencia a diferentes situaciones del juego que se pueden dar durante los partidos de baloncesto. Estas acciones pueden ser englobadas en los siguientes grupos:\r\n",
    "* *Acciones de tiro:* Tiro de 2 fallado | Tiro de 2 anotado | Mate | Triple fallado | Triple anotado | Mate fallado | Tiro Libre anotado | Tiro Libre fallado \r\n",
    "* *Acciones de control de balón:*éP�rdida | Recuperaói�n | Recuperación | Tapón Recibido | Asistencia | Pérdida | Tapón | Tóp�n | Tóp�n Recibido\r\n",
    "* *Acciones de rebote:* Rebote Defensivo | Rebote Ofensivo \r\n",
    "* *Acciones de falta:* Técnica al Banquillo (1TL) | Falta Personal 3TL | D - Descalificante - No TL | Falta Personal | Técnica al Banquillo (2TL) | Falta Personal 2TL | Falta Antideportiva 1TL | Falta Antideportiva 3TL | Técnica al Banquillo | Falta Recibida | Técnica al Entrenador (2TL) | Técnica al Entrenador | Falta Técnica | Falta en Ataque | D - Descalificante - 2TL | D - Descalificante - 1TL | Falta Personal 1TL | Falta Antideportiva | Falta Técnica 2TL | Técnica al Entrenador (1TL)  | Técnica | Altercado no TL\r\n",
    "* *Acciones del juego:* Entra a pista | Tiempo Muerto | Salto perdido | Salto ganado | Cinco Inicial \r\n",
    "\r\n",
    "A partir de estas agrupaciones se puede dividir las acciones en función de la finalidad que tenga cada acción. Como punto a tener en cuenta en el trabajo que se realice sobre las acciones, se tendrá que analizar las acciones de control de balón en el que habrá que procesar las pérdidas y recuperaciones ya que existen diferencias en su formato.formato."
   ]
  },
  {
   "cell_type": "code",
   "execution_count": null,
   "id": "a5081384-1d61-4583-99ee-e94a538af958",
   "metadata": {},
   "outputs": [],
   "source": []
  }
 ],
 "metadata": {
  "kernelspec": {
   "display_name": "Python 3 (ipykernel)",
   "language": "python",
   "name": "python3"
  },
  "language_info": {
   "codemirror_mode": {
    "name": "ipython",
    "version": 3
   },
   "file_extension": ".py",
   "mimetype": "text/x-python",
   "name": "python",
   "nbconvert_exporter": "python",
   "pygments_lexer": "ipython3",
   "version": "3.11.7"
  }
 },
 "nbformat": 4,
 "nbformat_minor": 5
}