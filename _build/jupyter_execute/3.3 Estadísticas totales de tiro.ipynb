{
 "cells": [
  {
   "cell_type": "code",
   "execution_count": 1,
   "id": "42361d4d-bb13-4116-b154-7354a36fade5",
   "metadata": {},
   "outputs": [],
   "source": [
    "import pandas as pd\n",
    "import os\n",
    "from funciones_auxiliares import *\n",
    "import warnings\n",
    "warnings.filterwarnings('ignore')"
   ]
  },
  {
   "cell_type": "markdown",
   "id": "4f29d09e-2615-420c-8468-e8afcb8c90df",
   "metadata": {},
   "source": [
    "# 3.3 *Estadísticas totales de tiro*"
   ]
  },
  {
   "cell_type": "markdown",
   "id": "3f9d7e16-e838-4036-9dde-88e2e1639efa",
   "metadata": {},
   "source": [
    "Las *estadisticas totales de tiro*, es la volumetría de tiro del jugador en función de la zona espacial de la pista de baloncesto en la que realiza los tiros durante un partido, una serie de partido o una o varias temporadas. En este notebook se buscará dar explicación de manera entendible y visualizada a todo el procesamiento realizado para la construcción de estas estadísticas a través de los siguientes puntos:\n",
    "* **1. Base teórica de la construcción de las estadísticas.** Se realizará la explicación teórica de los pasos realizados para la construcción de este tipo de estadísticas.\n",
    "* **2. Procesamiento de los datos.** Se realizará la explicación guiada del procesamiento de los datos para la construcción de las estadísticas totales.\n",
    "\n",
    "A través de esos puntos se realizará la comprensión y entendimiento del trabajo realizado para la construcción de las *estadísticas totales*."
   ]
  },
  {
   "cell_type": "markdown",
   "id": "a6a96935-b9ea-45c3-b831-8ee12fb02f8d",
   "metadata": {},
   "source": [
    "## 1. Base teórica de la construcción de las estadísticas"
   ]
  },
  {
   "cell_type": "markdown",
   "id": "b322ecd7-f643-4f70-a5cd-f494f7b3f658",
   "metadata": {},
   "source": [
    "Como ha sido comentado al principio de este notebook, las *estadísticas totales de tiro*, es el tipo de información que representa la volumetría de tiros anotados y lanzados en diferentes espacios de la pista de baloncesto por un jugador durante un periodo de tiempo. Para la construcción de este tipo de estadística, es necesario tener la información referente a las cartas de tiro de un jugador a lo largo de una temporada. Como ha sido explicado en el apartado [Descarga de las *Cartas de tiro*.](2.5%20Carta%20de%20tiro), han sido descargadas todas las cartas de tiro realizadas por los equipos y jugadores que participaron durante los encuentros de las temporadas *2019-2020*, *2020-2021', *2021-2022* y *2022-2023* las cuales serán utilizadas para la construcción de las *estad´sticas totales de tiro* para cada jugador en cada temporada.\n",
    "\n",
    "Para la construcción de este tipo de estadísticas, en primer lugar, ha sido creado un procesamiento por el cual cada uno de los tiros ha sido asignado a un espacio diferente de cada mitad de pista de balonesto. Los espacios en los que ha sido definida cada mitad de la pista de baloncesto han sido 11 los cuales son los siguientes:\n",
    "\n",
    "![imagen](imagenes/ACB_PISTA.png)\n",
    "\n",
    "Estos espacios pueden englobarse de la siguiente manera:\n",
    "* *Pintura.* Se engloban todos los lanzamientos capturados en el Grupo 1 que se corresponde con los realizados desde dentro de la zona.\n",
    "* *Media distancia.* Se engloban todos los lanzamientos realizados en los grupoas 2, 3, 4, 5 y 6, y son aquellos realizados desde fuera de la zona sin sobrepasar la línea de 3 puntos.\n",
    "* *Tiros frontales de 3.* Se engloban todos los lanzamientos realizados en los grupos 8, 9 y 10, y son aquellos que se realizan cercanos a la línea de 3 pero de dos puntos y los tiros de tres.\n",
    "* *Tiros de esquina de 3.* Se engloban todos los lanzamientos realizados en los grupos 7 y 11, y son aquellos que se realizan desde las esquinas por detrás de la línea de tres puntos.\n",
    "\n",
    "Tras este procesamiento en el que las cartas de tiro son asignadas a cada uno de los espacios en los que ha sido dividida la mita de pista, se realiza el sumatorio de todos los tiros realizados por cada jugador en cada equipo de una misma temporada para la construcción de las *estadísticas totales de tiro*. \n",
    "\n",
    "Para la construcción de las *estadísticas totales de tiro* ha sido desarrollado el script de código [02_Procesamiento_CARTA_TIRO](02_Procesamiento_CARTA_TIRO.py) el cual permite la lectura de todas las cartas de tiro de los encuentros disputados por los equipos y se procede a la construcción de este tipo de estadística."
   ]
  },
  {
   "cell_type": "markdown",
   "id": "9811306a-3079-4219-b9d3-5a741e1a34d0",
   "metadata": {},
   "source": [
    "# 2. Procesamiento de los datos"
   ]
  },
  {
   "cell_type": "markdown",
   "id": "29f2acdf-f56f-4a38-a405-bff7eb758e77",
   "metadata": {},
   "source": [
    "Como ha sido explicado en el apartado anterior, para la construcción de las estadísticas totales, es necesario realizar primero el procesamineto de las cartas de tiro descargadas de la página web de la competición. Para ello, se realiza la carga de las cartas de tiro realizadas por *Sergio Llull* durante la temporada *2022-2023+ en el Real Madrid:"
   ]
  },
  {
   "cell_type": "code",
   "execution_count": 2,
   "id": "1493c336-a1ee-47b2-a296-4ce1319b3d3a",
   "metadata": {},
   "outputs": [
    {
     "name": "stdout",
     "output_type": "stream",
     "text": [
      "################################################################################\n",
      "# ESTADISTICAS EN CADA PARTIDO JUGADO DE SERGIO LULL EN LA TEMPORADA 2022-2023\n",
      "################################################################################\n",
      "Nº de columnas: 5\n",
      "Nº de registros: 148\n",
      "\n",
      "        D   NOMBRE         href          x          y\n",
      "      23 S. Llull  #visitor-in 352.995412  95.250000\n",
      "      23 S. Llull  #visitor-in 404.902507 145.150000\n",
      "      23 S. Llull #visitor-out 358.914806  87.450000\n",
      "      23 S. Llull #visitor-out 389.860501 228.866667\n",
      "      23 S. Llull  #visitor-in 359.813955  70.533333\n",
      "      23 S. Llull #visitor-out 355.711589  69.333333\n",
      "      23 S. Llull #visitor-out 351.065989 191.416667\n",
      "      23 S. Llull  #visitor-in 381.524645  58.966667\n",
      "      23 S. Llull    #local-in  61.690019 152.000000\n",
      "      23 S. Llull   #local-out 144.823794 206.150000\n",
      "      23 S. Llull    #local-in 163.724645  90.700000\n",
      "      23 S. Llull   #local-out 155.576112  81.366667\n",
      "      23 S. Llull #visitor-out 458.289451 158.016667\n",
      "      23 S. Llull #visitor-out 358.165516  57.783333\n",
      "      23 S. Llull  #visitor-in 473.406386 160.200000\n",
      "      23 S. Llull   #local-out  77.743567 146.033333\n",
      "      23 S. Llull   #local-out  47.378571 179.000000\n",
      "      23 S. Llull    #local-in 111.442904 164.050000\n",
      "      23 S. Llull   #local-out  65.942242 190.216667\n",
      "      23 S. Llull #visitor-out 438.264664 136.916667\n"
     ]
    }
   ],
   "source": [
    "# Ruta para acceder a la información del Real Madrid en la temporada 2022\n",
    "ruta_equipo = 'E:/TFM/02. Datos/ACB/EQUIPOS/2022/Real Madrid'\n",
    "\n",
    "# Se definen parámetros para la ejecución\n",
    "df_jugador = pd.DataFrame()\n",
    "l_partidos = os.listdir(ruta_equipo)\n",
    "equipo = 'Real Madrid'\n",
    "jugador = 'S. Llull'\n",
    "\n",
    "for partido in l_partidos:\n",
    "    ruta_dir_partido = ruta_equipo + '/' + partido\n",
    "    l_elementos = os.listdir(ruta_dir_partido)\n",
    "    \n",
    "    # Se realiza la selección de los ficheros y la carga de ellos\n",
    "    nombre_fichero_equipo = [elem for elem in l_elementos if equipo in elem and 'VS' not in elem and 'CARTA_TIRO'  in elem][0]\n",
    "    \n",
    "    df_fichero_equipo = pd.read_csv(ruta_dir_partido + '/' + nombre_fichero_equipo, sep=';')\n",
    "    \n",
    "    # Se realiza la selección del registro del jugador y del equipo rival\n",
    "    df_fichero_jugador = df_fichero_equipo[df_fichero_equipo['NOMBRE'] == jugador]\n",
    "    df_jugador = pd.concat([df_jugador,df_fichero_jugador])\n",
    "\n",
    "print(\"################################################################################\")\n",
    "print(\"# ESTADISTICAS EN CADA PARTIDO JUGADO DE SERGIO LULL EN LA TEMPORADA 2022-2023\")\n",
    "print(\"################################################################################\") \n",
    "print(\"Nº de columnas:\", len(df_jugador.columns))\n",
    "print(\"Nº de registros:\", len(df_jugador))\n",
    "print(\"\\n\",df_jugador.head(20).to_string(index=False, col_space=8))    "
   ]
  },
  {
   "cell_type": "markdown",
   "id": "5c6f56e7-00d6-4342-80ca-95300d16c136",
   "metadata": {},
   "source": [
    "Como se puede observar, han sido descargados 148 registros que corresponden a todos los tiros realizados por *Sergio Llull* a lo largo de la temporada *2022-2023+. Para el procesamiento de esta información, se hará uso de las columnas *x* e *y* que permiten identificar la posición espacial dentro de la pista de baloncesto en la que fue realizado el tiro, y se utilizará la columna *href* ya que en esta se indica si fue canasta con el valor de *in* o fallo con el valor de *out*. Es por esto que se pasa a mostrar el procesamiento de esta carta de tiro:"
   ]
  },
  {
   "cell_type": "code",
   "execution_count": 3,
   "id": "d68759f2-68ab-4f3f-b486-f35ac318dbb6",
   "metadata": {},
   "outputs": [
    {
     "name": "stdout",
     "output_type": "stream",
     "text": [
      "################################################################################\n",
      "# PROCESAMIENTO DE CARTA DE TIRO DE SERGIO LULL EN LA TEMPORADA 2022-2023\n",
      "################################################################################\n",
      "Nº de columnas: 20\n",
      "Nº de registros: 1\n",
      "\n",
      "  D   NOMBRE  GRUPO 1_IN  GRUPO 1_OUT  GRUPO 10_IN  GRUPO 10_OUT  GRUPO 11_OUT  GRUPO 2_IN  GRUPO 2_OUT  GRUPO 3_IN  GRUPO 3_OUT  GRUPO 4_IN  GRUPO 4_OUT  GRUPO 5_IN  GRUPO 5_OUT  GRUPO 6_OUT  GRUPO 8_IN  GRUPO 8_OUT  GRUPO 9_IN  GRUPO 9_OUT\n",
      "23 S. Llull          19           24            9            20             1           1            2           2            3           1            4           2            7            1           7           25           9           11\n"
     ]
    }
   ],
   "source": [
    "print(\"################################################################################\")\n",
    "print(\"# PROCESAMIENTO DE CARTA DE TIRO DE SERGIO LULL EN LA TEMPORADA 2022-2023\")\n",
    "print(\"################################################################################\") \n",
    "df_jugador_precesado = procesar_CT(df_jugador)\n",
    "print(\"Nº de columnas:\", len(df_jugador_precesado.columns))\n",
    "print(\"Nº de registros:\", len(df_jugador_precesado))\n",
    "print(\"\\n\",df_jugador_precesado.to_string(index=False, col_space=1)) "
   ]
  },
  {
   "cell_type": "markdown",
   "id": "a7307afa-f8d9-4101-ba74-87707507f219",
   "metadata": {},
   "source": [
    "Como se puede observar, se ha creado un único registro el cual muestra todos los tiros lanzados por *Sergio Llull* a lo largo de esta temporada en donde para cada grupo se han diferenciado los tiros en *IN* cuando fue canasta y en *OUT* cuando fallo. Este procesamiento ha sido realizado para cada uno de los jugadores en cada una de las temporadas dando como resultado un tablero de información para cada equipo en el que se muestran las cartas de tiro procesadas para cada jugador:"
   ]
  },
  {
   "cell_type": "code",
   "execution_count": 4,
   "id": "5d417a35-7d81-4d1f-8480-13d8f2cc2a9a",
   "metadata": {},
   "outputs": [
    {
     "name": "stdout",
     "output_type": "stream",
     "text": [
      "##################################################################################\n",
      "# ESTADISTICAS TOTALES DE LOS JUGADORES DEL REAL MADRID EN LA TEMPORADA 2022-2023\n",
      "##################################################################################\n",
      "Nº de columnas: 24\n",
      "Nº de registros: 18\n",
      "\n",
      "  D          NOMBRE  GRUPO 1_IN  GRUPO 1_OUT  GRUPO 10_IN  GRUPO 10_OUT  GRUPO 11_IN  GRUPO 11_OUT  GRUPO 2_IN  GRUPO 2_OUT  GRUPO 3_IN  GRUPO 3_OUT  GRUPO 4_IN  GRUPO 4_OUT  GRUPO 5_IN  GRUPO 5_OUT  GRUPO 6_IN  GRUPO 6_OUT  GRUPO 7_IN  GRUPO 7_OUT  GRUPO 8_IN  GRUPO 8_OUT  GRUPO 9_IN  GRUPO 9_OUT\n",
      " 0 N.Williams-Goss        34.0         25.0          4.0           9.0          0.0           1.0         0.0          3.0         0.0          4.0         1.0          0.0         4.0          4.0         3.0          3.0         0.0          0.0         6.0          7.0         6.0          6.0\n",
      " 1      F. Causeur        48.0         40.0          5.0          22.0          3.0           2.0         2.0          7.0         4.0          3.0         1.0          2.0         0.0          0.0         0.0          1.0         2.0          2.0        20.0         24.0         1.0          7.0\n",
      " 3     A. Randolph         4.0          5.0          4.0           5.0          0.0           0.0         0.0          2.0         0.0          0.0         0.0          1.0         0.0          1.0         3.0          2.0         0.0          0.0         2.0          3.0         0.0          4.0\n",
      " 5    R. Fernández         3.0          2.0          2.0           5.0          0.0           0.0         0.0          1.0         2.0          1.0         1.0          0.0         0.0          0.0         0.0          0.0         0.0          0.0        10.0          9.0         3.0          4.0\n",
      " 6       A. Abalde        23.0         16.0          4.0          12.0          0.0           0.0         1.0          4.0         2.0          4.0         0.0          1.0         1.0          1.0         2.0          2.0         0.0          1.0        10.0         15.0         3.0         14.0\n",
      " 7     H. González         1.0          0.0          0.0           0.0          0.0           0.0         0.0          0.0         0.0          0.0         0.0          0.0         0.0          0.0         0.0          0.0         0.0          0.0         0.0          0.0         0.0          0.0\n",
      " 8        A. Hanga        23.0         13.0          6.0          11.0          0.0           0.0         0.0          3.0         0.0          1.0         0.0          1.0         0.0          0.0         0.0          2.0         0.0          1.0         2.0          8.0         5.0          6.0\n",
      "11      M. Hezonja        40.0         30.0         14.0          30.0          0.0           2.0         5.0          4.0         9.0          5.0         0.0          4.0         1.0          2.0         1.0          1.0         2.0          1.0        18.0         23.0         7.0          9.0\n",
      "13    S. Rodríguez        17.0         12.0          9.0          14.0          0.0           0.0         4.0          3.0         0.0          0.0         0.0          3.0         4.0          6.0         0.0          3.0         1.0          1.0        12.0         11.0         6.0         13.0\n",
      "14         G. Deck        63.0         39.0          3.0           6.0          0.0           2.0         0.0          2.0         0.0          2.0         1.0          1.0         0.0          1.0         3.0          1.0         1.0          0.0         6.0          6.0         2.0          1.0\n",
      "17      V. Poirier        76.0         50.0          0.0           0.0          0.0           0.0         1.0          6.0         0.0          3.0         0.0          2.0         1.0          1.0         0.0          1.0         0.0          1.0         1.0          0.0         2.0          0.0\n",
      "19        E. Demin         0.0          0.0          0.0           0.0          0.0           0.0         0.0          1.0         0.0          0.0         0.0          0.0         0.0          0.0         0.0          0.0         0.0          0.0         0.0          0.0         0.0          1.0\n",
      "21     P. Cornelie        26.0         18.0          5.0          13.0          1.0           2.0         2.0          8.0         4.0          7.0         0.0          0.0         0.0          0.0         0.0          1.0         0.0          3.0         4.0         15.0         2.0          1.0\n",
      "22      W. Tavares       118.0         43.0          0.0           0.0          0.0           0.0         1.0          0.0         0.0          1.0         1.0          1.0         2.0          3.0         0.0          3.0         0.0          0.0         0.0          0.0         1.0          0.0\n",
      "23        S. Llull        19.0         24.0          9.0          20.0          0.0           1.0         1.0          2.0         2.0          3.0         1.0          4.0         2.0          7.0         0.0          1.0         0.0          0.0         7.0         25.0         9.0         11.0\n",
      "28     G. Yabusele        77.0         47.0          9.0          16.0          1.0           0.0         3.0          8.0         4.0          8.0         0.0          1.0         0.0          3.0         1.0          1.0         0.0          4.0        10.0         15.0         6.0          6.0\n",
      "30       E. Ndiaye        12.0          6.0          0.0           3.0          0.0           0.0         0.0          4.0         2.0          3.0         1.0          1.0         0.0          1.0         0.0          1.0         0.0          1.0         0.0          4.0         1.0          0.0\n",
      "31         D. Musa        83.0         55.0         14.0          17.0          1.0           1.0         2.0          4.0         0.0          1.0         0.0          0.0         1.0          0.0         1.0          1.0         0.0          1.0        28.0         24.0        12.0         17.0\n"
     ]
    }
   ],
   "source": [
    "# Ruta para acceder al fichero de estadísticas de tiro totales del Real Madrid\n",
    "fichero_total_2022 = 'E:/TFM/02. Datos/ACB/ESTADISTICAS/2022/Real Madrid/02_ESTADISTICAS_CARTA_TIRO_EQUIPO.csv'\n",
    "\n",
    "# Se realiza la carga de los ficheros de estadísticas totales\n",
    "df_totales_2022 = pd.read_csv(fichero_total_2022, sep = ';')\n",
    "\n",
    "print(\"##################################################################################\")\n",
    "print(\"# ESTADISTICAS TOTALES DE LOS JUGADORES DEL REAL MADRID EN LA TEMPORADA 2022-2023\")\n",
    "print(\"##################################################################################\")\n",
    "print(\"Nº de columnas:\", len(df_totales_2022.columns))\n",
    "print(\"Nº de registros:\", len(df_totales_2022))\n",
    "print(\"\\n\",df_totales_2022.to_string(index=False, col_space=1)) "
   ]
  },
  {
   "cell_type": "code",
   "execution_count": null,
   "id": "b2e1fc46-f38f-447e-99e0-081d3565b543",
   "metadata": {},
   "outputs": [],
   "source": []
  }
 ],
 "metadata": {
  "kernelspec": {
   "display_name": "Python 3 (ipykernel)",
   "language": "python",
   "name": "python3"
  },
  "language_info": {
   "codemirror_mode": {
    "name": "ipython",
    "version": 3
   },
   "file_extension": ".py",
   "mimetype": "text/x-python",
   "name": "python",
   "nbconvert_exporter": "python",
   "pygments_lexer": "ipython3",
   "version": "3.11.7"
  }
 },
 "nbformat": 4,
 "nbformat_minor": 5
}