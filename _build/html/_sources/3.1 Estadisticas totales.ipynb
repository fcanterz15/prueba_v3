{
 "cells": [
  {
   "cell_type": "code",
   "execution_count": 1,
   "id": "42361d4d-bb13-4116-b154-7354a36fade5",
   "metadata": {},
   "outputs": [],
   "source": [
    "import pandas as pd\n",
    "import os\n",
    "from funciones_auxiliares import *\n",
    "import warnings\n",
    "warnings.filterwarnings('ignore')"
   ]
  },
  {
   "cell_type": "markdown",
   "id": "4f29d09e-2615-420c-8468-e8afcb8c90df",
   "metadata": {},
   "source": [
    "# 3.1 *Estadisticas totales*"
   ]
  },
  {
   "cell_type": "markdown",
   "id": "3f9d7e16-e838-4036-9dde-88e2e1639efa",
   "metadata": {},
   "source": [
    "Las *estadisticas totales*, también conocidas como estadísticas acumuladas, es la información que representa las estadísticas obtenidas durante un jugador en un periodo de tiempo como puede ser un número de partidos específicos, una temporada o varias. En este notebook se buscará dar explicación de manera entendible y visualizada a todo el procesamiento realizado para la construcción de estas estadísticas a través de los siguientes puntos:\n",
    "* **1. Base teórica de la construcción de las estadísticas.** Se realizará la explicación teórica de los pasos realizados para la construcción de este tipo de estadísticas.\n",
    "* **2. Procesamiento de los datos.** Se realizará la explicación guiada del procesamiento de los datos para la construcción de las estadísticas totales.\n",
    "\n",
    "A través de esos puntos se realizará la comprensión y entendimiento del trabajo realizado para la construcción de las *estadísticas totales*."
   ]
  },
  {
   "cell_type": "markdown",
   "id": "a6a96935-b9ea-45c3-b831-8ee12fb02f8d",
   "metadata": {},
   "source": [
    "## 1. Base teórica de la construcción de las estadísticas"
   ]
  },
  {
   "cell_type": "markdown",
   "id": "b322ecd7-f643-4f70-a5cd-f494f7b3f658",
   "metadata": {},
   "source": [
    "Como se ha comentado al inicio de este notebook, las *estadísticas totales*, es el tipo de información que representa las estadísticas obtenidas por un jugador a lo largo de un periodo de tiempo. Como ha sido explicado en el notebook [Descarga de *Box Score*.](2.3%20Box%20Score), han sido descargados todos los *Box Scores* de los partidos disputados entre las temporadas *2019-2020*, *2020-2021*, *2021-2022* y *2022-2023* siendo este el motivo que para la construcción de las *estadísticas totales* sean utilizado estos datos.\n",
    "\n",
    "Para la construcción de este tipo de estadísticas, se realizará el sumatorio de todos los apartados estadísticos descargados para cada jugador en una temporada y un equipo específico teniendo así todas las estadísticas obtenidas por un jugador durante cada una de las temporadas dependiendo del equipo en el que hayan participado en la competición. Para la creación de este tipo de estadística ha sido desarrollado el código [03_Procesamiento_PBP](03_Procesamiento_PBP.py) que permite el procesamiento de cada uno de los *Box Score* descargados."
   ]
  },
  {
   "cell_type": "markdown",
   "id": "9811306a-3079-4219-b9d3-5a741e1a34d0",
   "metadata": {},
   "source": [
    "# 2. Procesamiento de los datos"
   ]
  },
  {
   "cell_type": "markdown",
   "id": "a4d46012-ef87-48a2-a240-bc09a74167cd",
   "metadata": {},
   "source": [
    "Para poder comprender el procesamiento realizado sobre los datos, se pasa a realizar la carga de todas las estadísticas obtenidas por el jugador *Sergio Llull* durante la temporada *2022-2023* en el equipo *Real Madrid*:"
   ]
  },
  {
   "cell_type": "code",
   "execution_count": 2,
   "id": "febd6c89-e566-43ba-a019-d316c6f006ed",
   "metadata": {},
   "outputs": [
    {
     "name": "stdout",
     "output_type": "stream",
     "text": [
      "################################################################################\n",
      "# ESTADISTICAS EN CADA PARTIDO JUGADO DE SERGIO LULL EN LA TEMPORADA 2022-2023\n",
      "################################################################################\n",
      "Nº de columnas: 24\n",
      "Nº de registros: 27\n",
      "\n",
      " Unnamed: 0  NO.  JUGADOR   MIN  PTS   T2  T2%   T3  T3%    TL  TL%   RO   RD   RT   AS  PÉR  REC  TAP   TR  MAT   FP   FR    +-  VAL\n",
      "       NaN 23.0 S. Llull 22:37   11  1/1 100%  3/7  42%   0/0   0%    0    1    1    7    1    0    0    1    0    1    0  17.0 12.0\n",
      "       NaN 23.0 S. Llull 16:11    5  1/1 100%  1/3  33%   0/0   0%    0    2    2    4    0    0    0    0    0    2    0   4.0  7.0\n",
      "       NaN 23.0 S. Llull 13:01    4  1/2  50%  0/1   0%   2/2 100%    0    2    2    2    2    1    0    0    0    4    1  -8.0  2.0\n",
      "       NaN 23.0 S. Llull 19:48    4  1/4  25%  0/0   0%   2/3  66%    1    2    3    6    0    1    0    0    0    1    3   5.0 12.0\n",
      "       NaN 23.0 S. Llull 16:30    5  1/5  20%  1/3  33%   0/0   0%    0    1    1    2    0    0    0    0    0    0    1 -17.0  3.0\n",
      "       NaN 23.0 S. Llull 20:37   16  2/3  66%  4/6  66%   0/0   0%    1    3    4    3    3    0    0    1    0    1    1  11.0 16.0\n",
      "       NaN 23.0 S. Llull 23:26   17  3/5  60%  2/7  28%   5/5 100%    0    1    1    1    3    1    0    0    0    0    5   9.0 15.0\n",
      "       NaN 23.0 S. Llull 19:30    8  1/2  50%  2/5  40%   0/0   0%    0    4    4    5    0    2    0    0    0    1    0  29.0 14.0\n",
      "       NaN 23.0 S. Llull  0:00    0  0/0   0%  0/0   0%   0/0   0%    0    0    0    0    0    0    0    0    0    0    0   0.0  0.0\n",
      "       NaN 23.0 S. Llull  6:31    3  1/2  50%  0/1   0%   1/1 100%    0    0    0    0    0    0    0    0    0    0    2   0.0  3.0\n",
      "       NaN 23.0 S. Llull 15:28    0  0/2   0%  0/3   0%   0/0   0%    0    0    0    2    2    2    0    0    0    1    0  -3.0 -4.0\n",
      "       NaN 23.0 S. Llull  2:00    0  0/1   0%  0/0   0%   0/0   0%    0    0    0    0    0    0    0    0    0    0    0   4.0 -1.0\n",
      "       NaN 23.0 S. Llull 21:45   13  1/2  50%  2/5  40%   5/7  71%    1    2    3    3    1    1    0    1    0    0    6   5.0 18.0\n",
      "       NaN 23.0 S. Llull 15:18    5  0/2   0%  1/2  50%   2/2 100%    0    1    1    3    0    0    0    0    0    0    6  -6.0 12.0\n",
      "       NaN 23.0 S. Llull 20:59    8  1/2  50%  2/4  50%   0/0   0%    0    3    3    6    1    1    0    0    0    2    1  14.0 13.0\n",
      "       NaN 23.0 S. Llull 23:41   12  2/6  33%  2/9  22%   2/2 100%    1    1    2    4    0    3    0    0    0    1    2  24.0 11.0\n",
      "       NaN 23.0 S. Llull 18:10    2  0/0   0%  0/2   0%   2/2 100%    0    1    1    5    2    0    0    0    0    1    2 -16.0  5.0\n",
      "       NaN 23.0 S. Llull  6:42    2  0/2   0%  0/1   0%   2/2 100%    0    2    2    0    0    0    0    0    0    0    1   2.0  2.0\n",
      "       NaN 23.0 S. Llull  0:00    0  0/0   0%  0/0   0%   0/0   0%    0    0    0    0    0    0    0    0    0    0    0   0.0  0.0\n",
      "       NaN 23.0 S. Llull 13:22    2  1/4  25%  0/3   0%   0/1   0%    0    0    0    1    1    0    0    0    0    1    1   3.0 -5.0\n",
      "       NaN 23.0 S. Llull  3:15    0  0/2   0%  0/1   0%   0/0   0%    0    0    0    0    0    0    0    0    0    1    0  -5.0 -4.0\n",
      "       NaN 23.0 S. Llull 18:18    1  0/0   0%  0/3   0%   1/2  50%    1    1    2    3    3    1    0    0    0    4    2  -4.0 -2.0\n",
      "       NaN 23.0 S. Llull 11:09    6  1/2  50%  1/3  33%   1/2  50%    0    0    0    0    2    0    0    0    0    4    2  -9.0 -2.0\n",
      "       NaN 23.0 S. Llull 23:59   17  1/1 100%  4/7  57%   3/5  60%    1    5    6    5    3    1    0    0    0    1    3  23.0 23.0\n",
      "       NaN 23.0 S. Llull 24:49   23  3/5  60%  2/6  33% 11/12  91%    0    0    0    3    1    0    0    1    0    1    7   5.0 23.0\n",
      "       NaN 23.0 S. Llull 16:45    2  1/4  25%  0/2   0%   0/0   0%    0    1    1    3    0    1    0    1    0    0    0   0.0  1.0\n",
      "       NaN 23.0 S. Llull 20:56    0  0/1   0%  0/3   0%   0/0   0%    0    3    3    4    2    0    1    0    0    2    0  -7.0  0.0\n"
     ]
    }
   ],
   "source": [
    "# Ruta para acceder a la información del Real Madrid en la temporada 2022\n",
    "ruta_equipo = 'E:/TFM/02. Datos/ACB/EQUIPOS/2022/Real Madrid'\n",
    "\n",
    "# Ruta para acceder al fichero de estadísticas totales del Real Madrid y sus rivales\n",
    "fichero_total_2022 = 'E:/TFM/02. Datos/ACB/ESTADISTICAS/2022/Real Madrid/01_ESTADISTICAS_TOTALES_EQUIPO.csv'\n",
    "fichero_total_rival_2022 = 'E:/TFM/02. Datos/ACB/ESTADISTICAS/2022/Real Madrid/01_ESTADISTICAS_TOTALES_RIVAL.csv'\n",
    "\n",
    "# Ruta de estadísticas\n",
    "ruta_estadisticas = 'E:/TFM/02. Datos/ACB/ESTADISTICAS'\n",
    "\n",
    "df_jugador = pd.DataFrame()\n",
    "l_partidos = os.listdir(ruta_equipo)\n",
    "equipo = 'Real Madrid'\n",
    "jugador = 'S. Llull'\n",
    "\n",
    "for partido in l_partidos:\n",
    "    ruta_dir_partido = ruta_equipo + '/' + partido\n",
    "    l_elementos = os.listdir(ruta_dir_partido)\n",
    "    \n",
    "    # Se realiza la selección de los ficheros y la carga de ellos\n",
    "    nombre_fichero_equipo = [elem for elem in l_elementos if equipo in elem and 'VS' not in elem and 'CARTA_TIRO' not in elem][0]\n",
    "    nombre_fichero_rival = [elem for elem in l_elementos if equipo not in elem and 'VS' not in elem and 'CARTA_TIRO' not in elem][0]\n",
    "    \n",
    "    df_fichero_equipo = pd.read_csv(ruta_dir_partido + '/' + nombre_fichero_equipo, sep=';')\n",
    "    df_fichero_rival = pd.read_csv(ruta_dir_partido + '/' + nombre_fichero_rival, sep=';')\n",
    "    \n",
    "    # Se realiza la selección del registro del jugador y del equipo rival\n",
    "    df_fichero_jugador = df_fichero_equipo[df_fichero_equipo['JUGADOR'] == jugador]\n",
    "    df_jugador = pd.concat([df_jugador,df_fichero_jugador])\n",
    "\n",
    "print(\"################################################################################\")\n",
    "print(\"# ESTADISTICAS EN CADA PARTIDO JUGADO DE SERGIO LULL EN LA TEMPORADA 2022-2023\")\n",
    "print(\"################################################################################\") \n",
    "print(\"Nº de columnas:\", len(df_jugador.columns))\n",
    "print(\"Nº de registros:\", len(df_jugador))\n",
    "print(\"\\n\",df_jugador.to_string(index=False, col_space=4))    "
   ]
  },
  {
   "cell_type": "markdown",
   "id": "0fd5f5a6-1e46-4487-888f-4d179fa731c1",
   "metadata": {},
   "source": [
    "Como puede observarse, y como se vío en la explicación de la información descargada, existe el campo *Unnamed:0* el cual se encuentra vacío además de contar con campos como *MIN*, *T2*, *T2%*, *T3*, *T3%*, *TL* y *TL%* que se encuentran en formato que no permite el sumatorio de estos directamente. Es por este motivo que ha sido realizado un procesamineto de los datos el cual cosiste en la eliminación de la columna *Unnamed: 0*, la conversión del campo *MIN* únicamente a minutos, la eliminación de los campos que representan los porcentajes de tiro y la división en tiros lanzados y tiros anotados de cada uno de los campos de tiro. Teniendo esto presente, y tras realizar el procesamiento, los datos quedan de la siguiente manera:"
   ]
  },
  {
   "cell_type": "code",
   "execution_count": 3,
   "id": "b2fa999a-90f5-4777-bd5a-548107675933",
   "metadata": {},
   "outputs": [
    {
     "name": "stdout",
     "output_type": "stream",
     "text": [
      "################################################################################\n",
      "# PROCESAMIENTO DE ESTADISTICAS DE SERGIO LULL EN LA TEMPORADA 2022-2023\n",
      "################################################################################\n",
      "Nº de columnas: 23\n",
      "Nº de registros: 27\n",
      "\n",
      "  NO.  JUGADOR  MIN  PTS   RO   RD   RT   AS  PER  REC  TAP   TR  MAT   FP   FR    +-  VAL  T2A  T2L  T3A  T3L  TLA  TLL\n",
      "  23 S. Llull   23   11    0    1    1    7    1    0    0    1    0    1    0  17.0 12.0    1    1    3    7    0    0\n",
      "  23 S. Llull   16    5    0    2    2    4    0    0    0    0    0    2    0   4.0  7.0    1    1    1    3    0    0\n",
      "  23 S. Llull   13    4    0    2    2    2    2    1    0    0    0    4    1  -8.0  2.0    1    2    0    1    2    2\n",
      "  23 S. Llull   20    4    1    2    3    6    0    1    0    0    0    1    3   5.0 12.0    1    4    0    0    2    3\n",
      "  23 S. Llull   17    5    0    1    1    2    0    0    0    0    0    0    1 -17.0  3.0    1    5    1    3    0    0\n",
      "  23 S. Llull   21   16    1    3    4    3    3    0    0    1    0    1    1  11.0 16.0    2    3    4    6    0    0\n",
      "  23 S. Llull   23   17    0    1    1    1    3    1    0    0    0    0    5   9.0 15.0    3    5    2    7    5    5\n",
      "  23 S. Llull   20    8    0    4    4    5    0    2    0    0    0    1    0  29.0 14.0    1    2    2    5    0    0\n",
      "  23 S. Llull    0    0    0    0    0    0    0    0    0    0    0    0    0   0.0  0.0    0    0    0    0    0    0\n",
      "  23 S. Llull    7    3    0    0    0    0    0    0    0    0    0    0    2   0.0  3.0    1    2    0    1    1    1\n",
      "  23 S. Llull   15    0    0    0    0    2    2    2    0    0    0    1    0  -3.0 -4.0    0    2    0    3    0    0\n",
      "  23 S. Llull    2    0    0    0    0    0    0    0    0    0    0    0    0   4.0 -1.0    0    1    0    0    0    0\n",
      "  23 S. Llull   22   13    1    2    3    3    1    1    0    1    0    0    6   5.0 18.0    1    2    2    5    5    7\n",
      "  23 S. Llull   15    5    0    1    1    3    0    0    0    0    0    0    6  -6.0 12.0    0    2    1    2    2    2\n",
      "  23 S. Llull   21    8    0    3    3    6    1    1    0    0    0    2    1  14.0 13.0    1    2    2    4    0    0\n",
      "  23 S. Llull   24   12    1    1    2    4    0    3    0    0    0    1    2  24.0 11.0    2    6    2    9    2    2\n",
      "  23 S. Llull   18    2    0    1    1    5    2    0    0    0    0    1    2 -16.0  5.0    0    0    0    2    2    2\n",
      "  23 S. Llull    7    2    0    2    2    0    0    0    0    0    0    0    1   2.0  2.0    0    2    0    1    2    2\n",
      "  23 S. Llull    0    0    0    0    0    0    0    0    0    0    0    0    0   0.0  0.0    0    0    0    0    0    0\n",
      "  23 S. Llull   13    2    0    0    0    1    1    0    0    0    0    1    1   3.0 -5.0    1    4    0    3    0    1\n",
      "  23 S. Llull    3    0    0    0    0    0    0    0    0    0    0    1    0  -5.0 -4.0    0    2    0    1    0    0\n",
      "  23 S. Llull   18    1    1    1    2    3    3    1    0    0    0    4    2  -4.0 -2.0    0    0    0    3    1    2\n",
      "  23 S. Llull   11    6    0    0    0    0    2    0    0    0    0    4    2  -9.0 -2.0    1    2    1    3    1    2\n",
      "  23 S. Llull   24   17    1    5    6    5    3    1    0    0    0    1    3  23.0 23.0    1    1    4    7    3    5\n",
      "  23 S. Llull   25   23    0    0    0    3    1    0    0    1    0    1    7   5.0 23.0    3    5    2    6   11   12\n",
      "  23 S. Llull   17    2    0    1    1    3    0    1    0    1    0    0    0   0.0  1.0    1    4    0    2    0    0\n",
      "  23 S. Llull   21    0    0    3    3    4    2    0    1    0    0    2    0  -7.0  0.0    0    1    0    3    0    0\n"
     ]
    }
   ],
   "source": [
    "print(\"################################################################################\")\n",
    "print(\"# PROCESAMIENTO DE ESTADISTICAS DE SERGIO LULL EN LA TEMPORADA 2022-2023\")\n",
    "print(\"################################################################################\") \n",
    "df_jugador_precesado = procesar_BS(df_jugador)\n",
    "print(\"Nº de columnas:\", len(df_jugador_precesado.columns))\n",
    "print(\"Nº de registros:\", len(df_jugador_precesado))\n",
    "print(\"\\n\",df_jugador_precesado.to_string(index=False, col_space=4)) "
   ]
  },
  {
   "cell_type": "markdown",
   "id": "0289a87f-3955-4e97-9753-200f44e95d9e",
   "metadata": {},
   "source": [
    "Como puede observarse, han sido añadiddas las columnas *T2A*, *T2L*, *T3A*, *T3L*, *TLA* y *TLL* además de eliminar la columna con elementos vacíos y convertir la variable *MIN*. A través de esta información se pasa a construir las estadísticas totales del jugador a lo largo de la temporada mediante el sumatorio de cada uno de los registros:"
   ]
  },
  {
   "cell_type": "code",
   "execution_count": 4,
   "id": "d10556e8-94d9-41f1-ae9e-5e98cb753a61",
   "metadata": {},
   "outputs": [
    {
     "name": "stdout",
     "output_type": "stream",
     "text": [
      "################################################################################\n",
      "# SUMATORIO DE ESTADISTICAS DE SERGIO LULL EN LA TEMPORADA 2022-2023\n",
      "################################################################################\n",
      "Nº de columnas: 23\n",
      "Nº de registros: 1\n",
      "\n",
      "  NO.  JUGADOR  MIN  PTS   RO   RD   RT   AS  PER  REC  TAP   TR  MAT   FP   FR   +-   VAL  T2A  T2L  T3A  T3L  TLA  TLL\n",
      "  23 S. Llull  416  166    6   36   42   72   27   15    1    5    0   29   46 80.0 174.0   23   61   27   87   39   48\n"
     ]
    }
   ],
   "source": [
    "print(\"################################################################################\")\n",
    "print(\"# SUMATORIO DE ESTADISTICAS DE SERGIO LULL EN LA TEMPORADA 2022-2023\")\n",
    "print(\"################################################################################\")\n",
    "df_jugador_agrupado = df_jugador_precesado.groupby(by=['NO.','JUGADOR']).sum().reset_index() \n",
    "print(\"Nº de columnas:\", len(df_jugador_agrupado.columns))\n",
    "print(\"Nº de registros:\", len(df_jugador_agrupado))\n",
    "print(\"\\n\",df_jugador_agrupado.to_string(index=False, col_space=4)) "
   ]
  },
  {
   "cell_type": "markdown",
   "id": "1d24ef61-d04d-4c30-bb2b-77ed95f892ce",
   "metadata": {},
   "source": [
    "Como puede observarse, tras la aplicación del sumatorio, se obtienen la estadísticas del jugador a lo largo de la temporada. Además de las estadísticas totales de cada jugador, también han sido construidas las estadísticas totales de cada uno de los equipos y de sus rivales las cuales serán utilizadas para la construcción de futuras estadísticas:"
   ]
  },
  {
   "cell_type": "code",
   "execution_count": 5,
   "id": "81aa14b0-c51d-4520-9cc9-d9a048357674",
   "metadata": {},
   "outputs": [
    {
     "name": "stdout",
     "output_type": "stream",
     "text": [
      "##################################################################################\n",
      "# ESTADISTICAS TOTALES DE LOS JUGADORES DEL REAL MADRID EN LA TEMPORADA 2022-2023\n",
      "##################################################################################\n",
      "Nº de columnas: 23\n",
      "Nº de registros: 19\n",
      "\n",
      "  NO.         JUGADOR  MIN  PTS   RO   RD   RT   AS  PER  REC  TAP   TR  MAT   FP   FR    +-   VAL  T2A  T2L  T3A  T3L  TLA  TLL\n",
      "   0 N.Williams-Goss  370  137    6   35   41   63   23   16    5    5    0   39   13 154.0 144.0   42   79   16   41    5    7\n",
      "   1      F. Causeur  562  238    7   48   55   47   32   25    4   10    0   52   47 167.0 201.0   49   94   37  102   29   40\n",
      "  11      M. Hezonja  570  282   11  114  125   40   44   23    8    4    8   59   49 126.0 301.0   51   92   46  116   42   50\n",
      "  13    S. Rodríguez  447  156    4   45   49  101   42   12    0    2    0   37   36  49.0 204.0   23   48   30   71   20   23\n",
      "  14         G. Deck  473  209   31   79  110   37   23   16    2    7    5   30   46 178.0 290.0   66  112   13   28   38   47\n",
      "  17      V. Poirier  472  219   66   59  125   24   25   11   28    5   40   54   63 173.0 295.0   78  149    3    4   54   73\n",
      "  19        E. Demin    1    0    0    0    0    0    0    0    0    1    0    0    0   1.0  -3.0    0    1    0    1    0    0\n",
      "  21     P. Cornelie  456  133   21   70   91   17   15   12    7    5   11   54   35 201.0 146.0   28   51   16   61   29   36\n",
      "  22      W. Tavares  594  303   67  109  176   37   41   21   57    5   32   66   83 211.0 490.0  122  176    1    1   56   77\n",
      "  23        S. Llull  416  166    6   36   42   72   27   15    1    5    0   29   46  80.0 174.0   23   61   27   87   39   48\n",
      "  28     G. Yabusele  686  321   44   80  124   27   28   36   11   14   19   42   88 115.0 385.0   81  142   30   82   69   94\n",
      "   3     A. Randolph  101   39    2   30   32    3    4    2    1    0    1   10   10  26.0  49.0    6   15    7   21    6    7\n",
      "  30       E. Ndiaye  183   42   13   30   43    8   12    5    9    1    2   29   15 -13.0  49.0   13   28    3   15    7   11\n",
      "  31         D. Musa  652  469   19   66   85   64   50   28    5   10    5   46  131 270.0 521.0   85  143   57  120  128  162\n",
      "   4       I. Diagne    1    1    1    0    1    0    0    0    0    0    0    0    1   1.0   2.0    0    0    0    0    1    2\n",
      "   5    R. Fernández  117   58    1    9   10    5   11    3    1    1    0   10    4  23.0  37.0    5    7   16   36    0    0\n",
      "   6       A. Abalde  406  127   10   45   55   32   31   11    0    2    1   42   25  49.0 100.0   29   52   17   64   18   23\n",
      "   7     H. González    7    6    0    0    0    0    0    0    0    0    0    0    2   0.0   8.0    1    1    0    0    4    4\n",
      "   8        A. Hanga  287   99    9   30   39   32   24   13    3    3    3   33   22  69.0  92.0   23   42   13   41   14   23\n",
      "\n",
      "##################################################################################\n",
      "# ESTADISTICAS TOTALES DE LOS RIVALES DEL REAL MADRID EN LA TEMPORADA 2022-2023\n",
      "##################################################################################\n",
      "Nº de columnas: 22\n",
      "Nº de registros: 1\n",
      "\n",
      "      JUGADOR  MIN  PTS   RO   RD   RT   AS  PER  REC  TAP   TR  MAT   FP   FR      +-    VAL  T2A  T2L  T3A  T3L  TLA  TLL\n",
      "EQUIPO_RIVAL 6804 2629  307  732 1039  538  391  254   87  141  108  720  611 -1880.0 2490.0  721 1423  263  864  398  511\n"
     ]
    }
   ],
   "source": [
    "# Se realiza la carga de los ficheros de estadísticas totales\n",
    "df_totales_2022 = pd.read_csv(fichero_total_2022, sep = ';')\n",
    "df_totales_rival_2022 = pd.read_csv(fichero_total_rival_2022, sep = ';')\n",
    "\n",
    "print(\"##################################################################################\")\n",
    "print(\"# ESTADISTICAS TOTALES DE LOS JUGADORES DEL REAL MADRID EN LA TEMPORADA 2022-2023\")\n",
    "print(\"##################################################################################\")\n",
    "print(\"Nº de columnas:\", len(df_totales_2022.columns))\n",
    "print(\"Nº de registros:\", len(df_totales_2022))\n",
    "print(\"\\n\",df_totales_2022.to_string(index=False, col_space=4)) \n",
    "\n",
    "print(\"\\n##################################################################################\")\n",
    "print(\"# ESTADISTICAS TOTALES DE LOS RIVALES DEL REAL MADRID EN LA TEMPORADA 2022-2023\")\n",
    "print(\"##################################################################################\")\n",
    "print(\"Nº de columnas:\", len(df_totales_rival_2022.columns))\n",
    "print(\"Nº de registros:\", len(df_totales_rival_2022))\n",
    "print(\"\\n\",df_totales_rival_2022.to_string(index=False, col_space=4)) "
   ]
  }
 ],
 "metadata": {
  "kernelspec": {
   "display_name": "Python 3 (ipykernel)",
   "language": "python",
   "name": "python3"
  },
  "language_info": {
   "codemirror_mode": {
    "name": "ipython",
    "version": 3
   },
   "file_extension": ".py",
   "mimetype": "text/x-python",
   "name": "python",
   "nbconvert_exporter": "python",
   "pygments_lexer": "ipython3",
   "version": "3.11.7"
  }
 },
 "nbformat": 4,
 "nbformat_minor": 5
}
