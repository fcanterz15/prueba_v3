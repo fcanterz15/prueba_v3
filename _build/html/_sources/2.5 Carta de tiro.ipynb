{
 "cells": [
  {
   "cell_type": "code",
   "execution_count": 1,
   "id": "e97665ce-926d-4b55-b864-163dbcc8c70b",
   "metadata": {},
   "outputs": [],
   "source": [
    "import pandas as pd\n",
    "import os\n",
    "from funciones_auxiliares import *\n",
    "import warnings\n",
    "warnings.filterwarnings('ignore')"
   ]
  },
  {
   "cell_type": "markdown",
   "id": "6eeda309-79ef-4f0b-b9a7-e1250251247a",
   "metadata": {},
   "source": [
    "# 2.5 Descarga de las *Cartas de tiro*"
   ]
  },
  {
   "cell_type": "markdown",
   "id": "7d1a90fa-da6d-4000-afb1-605c25a4f11f",
   "metadata": {},
   "source": [
    "Las *Cartas de tiro* es representación visual que se realiza en los partidos de baloncesto para representar las zonas en las que los jugadores de baloncestoa han realizado sus tiros. A través de este notebook se buscará dar explicación del lugar de donde ha sido extraida la informació como a que información ha sido descargada. Para ello, se estructurará el notebook en los siguiente puntos:\n",
    "\n",
    "* **1. Descripción del portal web.** Se hará una revisión de la información que es almacenada dentro del portal y se explicará el método de descarga de cada uno de las cartas de tiro realizadas por los equipos y jugadores.\n",
    "* **2. Revisión de información y estructura de los ficheros.** Tras la descarga de la información, se hará una revisión de la información individualizada de los ficheros descargados y la revisión conjunta de los ficheros descargados.\n",
    "\n",
    "A través de esos puntos se realizará la comprensión y entendimiento del trabajo realizado para la descarga de los ficheros referentes al box score."
   ]
  },
  {
   "cell_type": "markdown",
   "id": "5c176db5-9bc6-4e93-9346-dc82de8bb476",
   "metadata": {},
   "source": [
    "## 1. Descripción del portal web y método de descarga"
   ]
  },
  {
   "cell_type": "markdown",
   "id": "0f2477fc-a30f-4722-949f-dbd449a947d8",
   "metadata": {},
   "source": [
    "Para la descarga de las *Cartas de tiro* de cada uno de los partidos ha sido utilizado la página web https://jv.acb.com/es/ que como se ha comentado en la sección de la creación del *Diccionario de partidos* es la página web en la que los aficionados puede ver los resultados y estadísticas de los partidos disputados. Como se mostró durante la creación del diccionario, cada partido disputado tiene una url la cual permite al usuario acceder a las estadísticas del partido. Esta url, está compuesta por el enlace a la página oficial de la jornada virtual de la liga junto a un identificador numérico del partido y la sección que se quiere visitar. Es por este motivo, que para poder acceder a las *Cartas de tiro* de cualquier partido la url debe estar compuesta por la url (https://jv.acb.com/es/), el identificador del partido y la sección *cartadetiro*.\n",
    "\n",
    "Teniendo esto presente, se muestra a continuación el partido disputado en la temporada *2022-2023* entre el Básquet Girona y el Real Madrid durante la primera jornada de la temporada a la que se puede tener acceso mediante el enlace https://jv.acb.com/es/103350/cartadetiro. Dentro de la página web del partido, podemos encontras dos secciones, la primera de ellas es la siguiente:\n",
    "\n",
    "![imagen](imagenes/ACB_MENU_CARTA_TIRO.png)\n",
    "\n",
    "En esta primera sección podemos encontrar los equipos participantes en el encuentro, la fecha y el resultado del partido junto al tanteo por cuartos. Además, se puede observar como la *Carta de tiro* se encuentra dentro del apartado *Estadísticas* en su sección de *Carta de Tiro*.\n",
    "\n",
    "Por otro lado, la segunda sección de la página web es en la que se muestra la *Carta de tiro* de los equipos. En esta sección se muestra lo siguiente:\n",
    "\n",
    "![imagen](imagenes/ACB_CARTA_TIRO.png)\n",
    "\n",
    "Como puede observar, en la imagen, se puede dividir en tres apartados:\n",
    "* *Pista central.* Es la parte centrla de la sección y en ella se muestran los tiros realizados por el equipo local (a la drecha) y el equipo visitante (a la izquierda).\n",
    "* *Botenes de equipo y jugadores.* A ambos lados de la pista central, se encuentra los botones que permiten seleccionar que tiros de los jugadores quieren visualizarse en la pista central.\n",
    "* *Botones de tiros y periodos.* Encima de la pista central, pueden seleccionarse los tipos de tiros que quieren visualizarse y el periodo en el que se quieren visualizar esos tiro.\n",
    "\n",
    "A través del *Diccionario de partidos* y técnicas de web scrapping que permite la interacción con el navegador y la descargar del código fuente de partidos, han sido descargados todas las *Cartas de tiro* de los partidos recogidos dentro del diccionario. Para esta descarga, ha sido desarrolla el script de código [05_Descargar_Carta_Tiro](05_Descargar_Carta_Tiro.py) que permite la descarga y almacenamiento de las *Cartas de tiro* de ambos equipos en las rutas establecidas."
   ]
  },
  {
   "cell_type": "markdown",
   "id": "29a9b714-0594-4f55-bc27-447b2d5f4b7f",
   "metadata": {},
   "source": [
    "## 2. Revisión de información y estructura de los ficheros"
   ]
  },
  {
   "cell_type": "markdown",
   "id": "5e50f35d-cc3f-4ebc-8f0d-39bcfdfa855c",
   "metadata": {},
   "source": [
    "Como ha sido comentado durante el apartado anterior, se ha realizado la descarga de todas las *Cartas de tiro* de los partidos almacenados en el *Diccionario de partidos*. Es por este motivo que para entender y explicar que información ha sido descargada, se pasa a realizar la carga del primer partido disputado en cada temporada en la primera jornada:"
   ]
  },
  {
   "cell_type": "code",
   "execution_count": 2,
   "id": "7b8e3ff9-4c7b-46d0-bf4f-3c53f09a3682",
   "metadata": {},
   "outputs": [],
   "source": [
    "# Ruta para acceder a la información de las jornas de cada una de las temporadas\n",
    "ruta_jornadas = 'E:/TFM/02. Datos/ACB/JORNADAS'\n",
    "\n",
    "# Ruta al primer partido de cada temporada\n",
    "partido_2019 = 'E:/TFM/02. Datos/ACB/JORNADAS/2019/Jornada 1/20190924_Montakit Fuenlabrada_VS_San Pablo Burgos/Montakit Fuenlabrada_CARTA_TIRO.csv'\n",
    "partido_2020 = 'E:/TFM/02. Datos/ACB/JORNADAS/2020/Jornada 1/20200919_Acunsa GBC_VS_Real Madrid/Acunsa GBC_CARTA_TIRO.csv'\n",
    "partido_2021 = 'E:/TFM/02. Datos/ACB/JORNADAS/2021/Jornada 1/20210918_Coosur Real Betis_VS_MoraBanc Andorra/Coosur Real Betis_CARTA_TIRO.csv'\n",
    "partido_2022 = 'E:/TFM/02. Datos/ACB/JORNADAS/2022/Jornada 1/20220928_Bàsquet Girona_VS_Real Madrid/Bàsquet Girona_CARTA_TIRO.csv'\n",
    "\n",
    "# Lectura de un partido de muestra cada temporada\n",
    "df_partido_2019 = pd.read_csv(partido_2019, sep=';')\n",
    "df_partido_2020 = pd.read_csv(partido_2020, sep=';')\n",
    "df_partido_2021 = pd.read_csv(partido_2021, sep=';')\n",
    "df_partido_2022 = pd.read_csv(partido_2022, sep=';')"
   ]
  },
  {
   "cell_type": "markdown",
   "id": "aae310fa-c390-4d64-970e-04fc33f11249",
   "metadata": {},
   "source": [
    "Tras realizar la carga de los cuatro partidos, se pasa a mostrar que información ha sido cargada de cada una de las *Cartas de tiro*:"
   ]
  },
  {
   "cell_type": "code",
   "execution_count": 3,
   "id": "22eb66bb-3be2-454d-9a71-a62221a1ed48",
   "metadata": {},
   "outputs": [
    {
     "name": "stdout",
     "output_type": "stream",
     "text": [
      "###############################################\n",
      "# COLUMNAS DE LA CARTA DE TIRO EN CADA TEMPORADA\n",
      "###############################################\n",
      "TEMPORADA 2019: D | NOMBRE | href | x | y\n",
      "TEMPORADA 2020: D | NOMBRE | href | x | y\n",
      "TEMPORADA 2021: D | NOMBRE | href | x | y\n",
      "TEMPORADA 2022: D | NOMBRE | href | x | y\n"
     ]
    }
   ],
   "source": [
    "print(\"###############################################\")\n",
    "print(\"# COLUMNAS DE LA CARTA DE TIRO EN CADA TEMPORADA\")\n",
    "print(\"###############################################\")\n",
    "l_col_2019 = [col for col in df_partido_2019.columns]\n",
    "print(\"TEMPORADA 2019:\",' | '.join(l_col_2019))\n",
    "l_col_2020 = [col for col in df_partido_2020.columns]\n",
    "print(\"TEMPORADA 2020:\",' | '.join(l_col_2020))\n",
    "l_col_2021 = [col for col in df_partido_2021.columns]\n",
    "print(\"TEMPORADA 2021:\",' | '.join(l_col_2021))\n",
    "l_col_2022 = [col for col in df_partido_2022.columns]\n",
    "print(\"TEMPORADA 2022:\",' | '.join(l_col_2022))"
   ]
  },
  {
   "cell_type": "markdown",
   "id": "1f9c050e-dee8-467e-bfed-75f9878033bf",
   "metadata": {},
   "source": [
    "Como se puede observar, en las cuatro temporadas, todos las tablas de *Cartas de tiro* cuentan con la siguiente información:\n",
    "* D. Hace referencia al dorsal del jugador.\r\n",
    "* NOMBRE. Hace referencia al nombre del jugador.\r\n",
    "* href. Hace referencia a la etique que indica se ha sido anotado o fallado el tiro.\r\n",
    "* x. Hace referencia a la posición espacial dentro del eje de la x.\r\n",
    "* y. Hace referencia a la posición espacial dentro del eje de la y.\n",
    "\n",
    "\n",
    "Se pasa a continuación a mostrar la información almacenada en el primer partido de la temporada *2022-2023*:"
   ]
  },
  {
   "cell_type": "code",
   "execution_count": 4,
   "id": "da85e2ea-6e43-48b5-a36d-8d0fc3d8caf4",
   "metadata": {},
   "outputs": [
    {
     "name": "stdout",
     "output_type": "stream",
     "text": [
      "###############################################\n",
      "# ANÁLISIS DE LA CARTA DE TIRO 2022\n",
      "###############################################\n",
      "Nº de columnas: 5\n",
      "Nº de registros: 66\n",
      "Valores posible en href: #local-out | #local-in | #local-dunk\n",
      "Box Score 2022:\n",
      "       D       NOMBRE        href          x          y\n",
      "      33     M. Gasol  #local-out  27.072800 206.316667\n",
      "      33     M. Gasol   #local-in 356.610738 107.283333\n",
      "      33     M. Gasol   #local-in 151.417550 107.716667\n",
      "      33     M. Gasol   #local-in  60.285099  85.366667\n",
      "      33     M. Gasol  #local-out 113.653311 124.750000\n",
      "      33     M. Gasol  #local-out  30.856717 208.316667\n",
      "      33     M. Gasol  #local-out  34.584437 128.850000\n",
      "      33     M. Gasol   #local-in 158.760596 158.300000\n",
      "       5    K. Taylor   #local-in  24.750000 158.733333\n",
      "       5    K. Taylor  #local-out 135.326537 141.866667\n",
      "       5    K. Taylor   #local-in  24.750000 255.066667\n",
      "       5    K. Taylor   #local-in  83.138458  86.650000\n",
      "       5    K. Taylor  #local-out  58.505535 143.100000\n",
      "       5    K. Taylor  #local-out  71.992763 157.916667\n",
      "       5    K. Taylor  #local-out  58.505535 126.466667\n",
      "       5    K. Taylor  #local-out  37.113292 136.900000\n",
      "       5    K. Taylor #local-dunk  24.750000 141.250000\n",
      "       5    K. Taylor   #local-in  31.662204 147.366667\n",
      "       5    K. Taylor   #local-in 149.207143 197.116667\n",
      "      11   D. Miletic   #local-in  32.392763 131.383333\n",
      "      11   D. Miletic   #local-in  42.414522 141.550000\n",
      "      11   D. Miletic  #local-out 142.950568  87.200000\n",
      "      11   D. Miletic   #local-in  32.973463 154.800000\n",
      "      11   D. Miletic #local-dunk  24.750000 141.250000\n",
      "      11   D. Miletic #local-dunk  24.750000 141.250000\n",
      "      24    J. Franch  #local-out 154.114995 104.850000\n",
      "      24    J. Franch  #local-out 146.397304 238.516667\n",
      "      24    J. Franch   #local-in 113.953027 158.516667\n",
      "      24    J. Franch  #local-out  24.750000  43.100000\n",
      "       7  P. Figueras  #local-out  90.462772  84.433333\n",
      "       7  P. Figueras  #local-out  32.954730 130.116667\n",
      "       7  P. Figueras  #local-out 103.500426 140.533333\n",
      "       7  P. Figueras  #local-out 130.399953 219.983333\n",
      "       7  P. Figueras  #local-out 149.188411 211.733333\n",
      "       7  P. Figueras   #local-in 139.353974  67.650000\n",
      "       7  P. Figueras   #local-in  24.750000  26.600000\n",
      "       4      E. Vila  #local-out  24.750000 155.416667\n",
      "       4      E. Vila  #local-out  24.750000 258.266667\n",
      "       4      E. Vila  #local-out 305.584059 154.333333\n",
      "       4      E. Vila  #local-out  63.226064 140.950000\n",
      "       4      E. Vila   #local-in  25.199574 137.116667\n",
      "       4      E. Vila  #local-out 115.901183  43.666667\n",
      "       4      E. Vila   #local-in  48.408846 132.983333\n",
      "       4      E. Vila  #local-out  26.061258 118.433333\n",
      "       4      E. Vila   #local-in  46.423226 132.250000\n",
      "      21    A. Bursac   #local-in 115.938647 234.800000\n",
      "       8   R. Prkacin  #local-out  34.640634 135.200000\n",
      "       8   R. Prkacin  #local-out  24.750000 259.116667\n",
      "       8   R. Prkacin  #local-out  44.512535 147.033333\n",
      "       8   R. Prkacin  #local-out  68.883207 160.400000\n",
      "       8   R. Prkacin  #local-out  27.222658 140.683333\n",
      "      29    P. Garino  #local-out  24.750000  28.566667\n",
      "       2 M. Fjellerup  #local-out  24.750000  24.966667\n",
      "       2 M. Fjellerup   #local-in  24.899858 128.200000\n",
      "       2 M. Fjellerup  #local-out 143.418874 215.000000\n",
      "       2 M. Fjellerup   #local-in  24.750000 130.766667\n",
      "       2 M. Fjellerup   #local-in  27.653500 129.033333\n",
      "       2 M. Fjellerup   #local-in  36.438931 134.733333\n",
      "       2 M. Fjellerup  #local-out  35.183869 156.850000\n",
      "       2 M. Fjellerup  #local-out 161.064664 127.200000\n",
      "       2 M. Fjellerup  #local-out  69.744891 166.850000\n",
      "      10     Q. Colom  #local-out 128.189546  65.700000\n",
      "      10     Q. Colom   #local-in 159.079044 177.316667\n",
      "      10     Q. Colom  #local-out  82.464096  69.416667\n",
      "      10     Q. Colom  #local-out 123.356623  47.516667\n",
      "      10     Q. Colom   #local-in 139.279044 111.450000\n"
     ]
    }
   ],
   "source": [
    "print(\"###############################################\")\n",
    "print(\"# ANÁLISIS DE LA CARTA DE TIRO 2022\")\n",
    "print(\"###############################################\")\n",
    "\n",
    "print(\"Nº de columnas:\", len(df_partido_2022.columns))\n",
    "print(\"Nº de registros:\", len(df_partido_2022))\n",
    "print(\"Valores posible en href:\",' | '.join(df_partido_2022['href'].unique()))\n",
    "print(\"Box Score 2022:\")\n",
    "print(df_partido_2022.to_string(index=False, col_space=8))"
   ]
  },
  {
   "cell_type": "markdown",
   "id": "cbbdb2d0-cd5e-4396-ae69-4eae9d0378a6",
   "metadata": {},
   "source": [
    "Como se puede observar, el dataframe cargado está compuesto por 66 registros que dan información a 5 variables. Dentro de cada una de las 5 variables a las que se da información se pueden encontrar los siguientes puntos interes:\n",
    "* href. La variable href toma los valores posibles de #local-out cuando se produce un fallo del equipo local, #local-in cuando se produce un acierto del equipo local y #local-dunk cuando un jugador del equipo local realiza un mate.\n",
    "* x e y. Toman valores numéricos representativo al eje que representan.\n",
    "\n",
    "Analizada la información descargada, se pasa a realizar el análisis de volumetrías con respecto a los datos descargados para poder saber el volumen de información con la que se trabajará:"
   ]
  },
  {
   "cell_type": "code",
   "execution_count": 5,
   "id": "87e646f3-a3f4-4f33-9452-bd640bce1d89",
   "metadata": {},
   "outputs": [
    {
     "name": "stdout",
     "output_type": "stream",
     "text": [
      "###############################################\n",
      "# ANÁLISIS DE CONSISTENCIA EN LOS BOX SCORE\n",
      "###############################################\n",
      "El número de partidos descargados es: 1192\n",
      "El número de ficheros de box score descargados es: 2384\n",
      "El número de registros de box score descargados es: 151768\n",
      "El número de valores vacíos dentro del dataframe es: 0\n",
      "El número de valores nulos ('') dentro del dataframe es: 0\n",
      "El eje de la X tiene como mínimo el valor 6.017738883632944 y como máximo 501.1675969725639\n",
      "El eje de la Y tiene como mínimo el valor 16.25 y como máximo 266.25\n"
     ]
    }
   ],
   "source": [
    "# Se seleccionan los directorios de las jornadas\n",
    "l_dir_temporada = os.listdir(ruta_jornadas)\n",
    "\n",
    "# Se inicializan los contadores para el estudio\n",
    "contador_vacios = 0\n",
    "contador_nulos = 0 \n",
    "contador_registros = 0\n",
    "contador_ficheros = 0\n",
    "contador_partidos = 0\n",
    "l_x = []\n",
    "l_y = []\n",
    "\n",
    "for dir_temporada in l_dir_temporada:\n",
    "    ruta_temporada = ruta_jornadas + '/' + dir_temporada\n",
    "    l_dir_jornadas = os.listdir(ruta_temporada)\n",
    "    \n",
    "    for dir_jornada in l_dir_jornadas:\n",
    "        ruta_jornada = ruta_temporada + '/' + dir_jornada\n",
    "        l_dir_partido = os.listdir(ruta_jornada)\n",
    "        \n",
    "        for dir_partido in l_dir_partido:\n",
    "            \n",
    "            # Se extraen los elemenos del partido\n",
    "            ruta_partido = ruta_jornada + '/' + dir_partido\n",
    "            l_elementos_partido = os.listdir(ruta_partido)\n",
    "            \n",
    "            # Se selecciona el nombre de los equipos del partido\n",
    "            equipo_1 = dir_partido.split('_VS_')[0].split('_')[1]\n",
    "            equipo_2 = dir_partido.split('_VS_')[1]\n",
    "            \n",
    "            # Se seleccionan los ficheros a cargar y se realizar su carga\n",
    "            ct_equipo_1 = [elem for elem in l_elementos_partido if equipo_1 in elem and 'CARTA_TIRO' in elem and 'VS' not in elem][0]\n",
    "            ct_equipo_2 = [elem for elem in l_elementos_partido if equipo_2 in elem and 'CARTA_TIRO' in elem and 'VS' not in elem][0]\n",
    "            df_equipo_1 = pd.read_csv(ruta_partido + '/' + ct_equipo_1, sep=';')\n",
    "            df_equipo_2 = pd.read_csv(ruta_partido + '/' + ct_equipo_2, sep=';')\n",
    "                        \n",
    "            contador_vacios = contador_vacios + df_equipo_1.isna().sum().sum() + df_equipo_2.isna().sum().sum()\n",
    "            contador_registros = contador_registros + len(df_equipo_1) + len(df_equipo_2)\n",
    "            contador_ficheros = contador_ficheros + 2\n",
    "            contador_nulos = contador_nulos + (df_equipo_1 == '').sum().sum() + (df_equipo_2 == '').sum().sum()\n",
    "            contador_partidos = contador_partidos + 1\n",
    "            l_x.extend(df_equipo_1.x.unique())\n",
    "            l_x.extend(df_equipo_2.x.unique())\n",
    "            l_y.extend(df_equipo_1.y.unique())\n",
    "            l_y.extend(df_equipo_2.y.unique())\n",
    "            \n",
    "print(\"###############################################\")\n",
    "print(\"# ANÁLISIS DE CONSISTENCIA EN LOS BOX SCORE\")\n",
    "print(\"###############################################\")            \n",
    "print(\"El número de partidos descargados es:\", contador_partidos)\n",
    "print(\"El número de ficheros de box score descargados es:\",contador_ficheros)\n",
    "print(\"El número de registros de box score descargados es:\",contador_registros)\n",
    "print(\"El número de valores vacíos dentro del dataframe es:\",contador_vacios)\n",
    "print(\"El número de valores nulos ('') dentro del dataframe es:\",contador_nulos)\n",
    "print(\"El eje de la X tiene como mínimo el valor\",str(min(l_x)), \"y como máximo\", str(max(l_x)))\n",
    "print(\"El eje de la Y tiene como mínimo el valor\",str(min(l_y)), \"y como máximo\", str(max(l_y)))"
   ]
  },
  {
   "cell_type": "markdown",
   "id": "de4d8c6a-0894-460e-9b65-d8b74908c278",
   "metadata": {},
   "source": [
    "Como se puede observar, el número de partidos para los que se ha descargado información es de 1.192 en los cuales se almacena información de 2.384 box scores y dentro de las tablas de información donde se almacenan las cartas de tiro no se encuentran valores vacíos. Por otro lado, con respecto a los ejex, se puede observar como eje de la x tiene como cota inferior 6 y como cota superior 501 mientras que el eje de la y tiene como cota inferior 16 y como cota superiro 266."
   ]
  },
  {
   "cell_type": "code",
   "execution_count": null,
   "id": "cc7dc465-66e4-4967-b633-86efd45e67d6",
   "metadata": {},
   "outputs": [],
   "source": []
  }
 ],
 "metadata": {
  "kernelspec": {
   "display_name": "Python 3 (ipykernel)",
   "language": "python",
   "name": "python3"
  },
  "language_info": {
   "codemirror_mode": {
    "name": "ipython",
    "version": 3
   },
   "file_extension": ".py",
   "mimetype": "text/x-python",
   "name": "python",
   "nbconvert_exporter": "python",
   "pygments_lexer": "ipython3",
   "version": "3.11.7"
  }
 },
 "nbformat": 4,
 "nbformat_minor": 5
}
