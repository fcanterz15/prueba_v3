{
 "cells": [
  {
   "cell_type": "code",
   "execution_count": 1,
   "id": "42361d4d-bb13-4116-b154-7354a36fade5",
   "metadata": {},
   "outputs": [],
   "source": [
    "import pandas as pd\n",
    "import os\n",
    "from funciones_auxiliares import *\n",
    "import warnings\n",
    "warnings.filterwarnings('ignore')"
   ]
  },
  {
   "cell_type": "markdown",
   "id": "4f29d09e-2615-420c-8468-e8afcb8c90df",
   "metadata": {},
   "source": [
    "# 3.2 *Estadísticas totales de quintetos*"
   ]
  },
  {
   "cell_type": "markdown",
   "id": "3f9d7e16-e838-4036-9dde-88e2e1639efa",
   "metadata": {},
   "source": [
    "Las *estadisticas totales de quinteto*, también conocidas como estadísticas acumuladas de quinteto, es la información que representa las estadísticas obtenidas durante por un cojunto de cinco jugadores en un periodo de tiempo como puede ser un número de partidos específicos, una temporada o varias temporadas cuando estos están juntos en pista. En este notebook se buscará dar explicación de manera entendible y visualizada a todo el procesamiento realizado para la construcción de estas estadísticas a través de los siguientes puntos:\n",
    "* **1. Base teórica de la construcción de las estadísticas.** Se realizará la explicación teórica de los pasos realizados para la construcción de este tipo de estadísticas.\n",
    "* **2. Procesamiento de los datos.** Se realizará la explicación guiada del procesamiento de los datos para la construcción de las estadísticas totales.\n",
    "\n",
    "A través de esos puntos se realizará la comprensión y entendimiento del trabajo realizado para la construcción de las *estadísticas totales*."
   ]
  },
  {
   "cell_type": "markdown",
   "id": "a6a96935-b9ea-45c3-b831-8ee12fb02f8d",
   "metadata": {},
   "source": [
    "## 1. Base teórica de la construcción de las estadísticas"
   ]
  },
  {
   "cell_type": "markdown",
   "id": "7d19df63-0e83-4918-9b10-da792bb71504",
   "metadata": {},
   "source": [
    "Como ha sido comentado en la introducción de este notebook, las estadísticas totales de quintos, es la forma de representación creada para la representación de las estadísticas que se producen en pista cuando cinco jugadores de un mismo equipo se encuentran en pista. Para la construcción de este tipo de estadística, es necesario poder haber descargado toda la información referente a los *play by play* de los equipos durante un periodo de tiempo. Como ha sido explicado a través del apartado [Descarga del *Play by play*.](2.4%20Play%20by%20play), han sido descargados todos los datos referentes al *play by play* de los encuentros disputados entre las temporadas *2019-2020*, *2020-2021', *2021-2022* y *2022-2023* los cuales serán utilizados para el cálculo de las *estadisticas totales de quintetos* para cada uno de los equipos en cada una de las temporadas.\n",
    "\n",
    "Teniendo esto presente, la construcción de las *estadísticas totales de los quintetos* de un equipo en una temporada, está compuesta por dos procesamientos de los datos. Por un lado, es necesario el procesamiento del *play by play* en donde se realizá la extracción de los cinco jugadores de un mismo equipo y la costrucción de diferentes estadísticas acumuladas que son realizadas por los jugadores que conforman el quinteto o los jugadores contralos que se enfrenta el quinteto. La estadísticas que son construidas para cada quinteto son las siguientes:\n",
    "* *T2A.* Número de tiro de dos puntos anotados por los jugadores que conforman el quinteto.\n",
    "* *T2L.* Número de tiro de dos puntos lanzados por los jugadores que conforman el quinteto.\n",
    "* *T3A.* Número de tiro de tres puntos anotados por los jugadores que conforman el quinteto.\n",
    "* *T3L.* Número de tiro de tres puntos lanzados por los jugadores que conforman el quinteto.\n",
    "* *TLA.* Número de tiro libres anotados por los jugadores que conforman el quinteto.\n",
    "* *TLL.* Número de tiro libres lanzados por los jugadores que conforman el quinteto.\n",
    "* *RO.* Número de rebotes ofensivos capturados por los jugadores que conforman el quinteto.\n",
    "* *RD.* Número de rebotes defensivos capturados por los jugadores que conforman el quinteto.\n",
    "* *STL.* Número de robos realizados por los jugadores que conforman el quinteto.\n",
    "* *TOV.* Número de pérdidas realizadas por los jugadores que conforman el quinteto.\n",
    "* *AST.* Número de asistencias realizadas por los jugadores que conforman el quinteto.\n",
    "* *BLK.* Número de tapones realizados por los jugadores que conforman el quinteto.\n",
    "* *T2A_R.* Número de tiro de dos puntos anotados por los jugadores a los que se enfrenta el quinteto.\n",
    "* *T2L_R.* Número de tiro de dos puntos lanzados por los jugadores a los que se enfrenta el quinteto.\n",
    "* *T3A_R.* Número de tiro de tres puntos anotados por los jugadores a los que se enfrenta el quinteto.\n",
    "* *T3L_R.* Número de tiro de tres puntos lanzados por los jugadores a los que se enfrenta el quinteto.\n",
    "* *TLA_R.* Número de tiro libres anotados por los jugadores a los que se enfrenta el quinteto.\n",
    "* *TLL_R.* Número de tiro libres lanzados por los jugadores a los que se enfrenta el quinteto.\n",
    "* *RO_R.* Número de rebotes ofensivos capturados por los jugadores a los que se enfrentaa los que se enfrenta el quinteto.\n",
    "* *RD_R.* Número de rebotes defensivos capturados por los jugadores que conforman el quinteto.\n",
    "* *STL_R.* Número de robos realizados por los jugadores a los que se enfrenta el quinteto.\n",
    "* *TOV_R.* Número de pérdidas realizadas por los jugadores a los que se enfrenta el quinteto\n",
    "* *AST_R.* Número de asistencias realizadas por los jugadores a los que se enfrenta el quinteto.\n",
    "* *BLK_R.* Número de tapones realizados por los jugadores a los que se enfrenta el quinteto.\n",
    "* *TIEMPO_PISTA.* Número de segundos disputados por el quinteto.\n",
    "\n",
    "Tras la construcción de estas estadísticas, y como segundo procesamiento, se realizará el sumatorio de todos los apartados estadísticos del quinteto para cada equipo y en cada temporada teniendo como resultado todos los apartados estadísticos de los quintetos de un equipo a lo largo de una temporada que hayan participado en la competición.\n",
    "\n",
    "Para la construcción de las *estadísticas totales de quinteto* ha sido desarrollado el script de código [03_Procesamiento_PBP](03_Procesamiento_PBP.py) el cual permite la lectura de todos los *play by play* de los encuentros disputados por los equipos y se procede a la construcción de este tipo de estadística."
   ]
  },
  {
   "cell_type": "markdown",
   "id": "9811306a-3079-4219-b9d3-5a741e1a34d0",
   "metadata": {},
   "source": [
    "# 2. Procesamiento de los datos"
   ]
  },
  {
   "cell_type": "markdown",
   "id": "50ee7991-a79a-4896-a0ff-dbe586803154",
   "metadata": {},
   "source": [
    "Como ha sido explicado en el apartado anterior, para la construcción de las estadísticas totales, es necesario realizar primero el procesamiento del *play by play* con el fin de construir las estadísticas de cada uno de los quintetos en los partidos que haya disputado. Para ello, se realiza la carga del primer partido disputado en la jornada 1 de la temporada *2022-2022*:"
   ]
  },
  {
   "cell_type": "code",
   "execution_count": 8,
   "id": "593b8ddc-41b0-4960-ac4b-965d503db163",
   "metadata": {},
   "outputs": [
    {
     "name": "stdout",
     "output_type": "stream",
     "text": [
      "################################################################################\n",
      "# PLAY BY PLAY DESCARGADO\n",
      "################################################################################\n",
      "        EQUIPO   CUARTO   MINUTO  PTs_LOCAL  PTS_VISITANTE   NOMBRE             ACCION\n",
      "Bàsquet Girona       4C    00:02         88             94    Colom         Asistencia\n",
      "Bàsquet Girona       4C    00:02         88             94 Figueras     Triple anotado\n",
      "Bàsquet Girona       4C    00:09         85             94    Gasol   Rebote Defensivo\n",
      "   Real Madrid       4C    00:09         85             94     Musa     Triple fallado\n",
      "Bàsquet Girona       4C    00:28         85             94    Gasol Tiro Libre anotado\n",
      "Bàsquet Girona       4C    00:28         84             94    Gasol Tiro Libre anotado\n",
      "   Real Madrid       4C    00:28         83             94  Poirier      Entra a pista\n",
      "   Real Madrid       4C    00:28         83             94 Cornelie   Sale de la pista\n",
      "Bàsquet Girona       4C    00:28         83             94    Gasol     Falta Recibida\n",
      "   Real Madrid       4C    00:28         83             94 Cornelie Falta Personal 2TL\n",
      "Bàsquet Girona       4C    00:28         83             94    Gasol   Rebote Defensivo\n",
      "   Real Madrid       4C    00:28         83             94 Yabusele Tiro Libre fallado\n",
      "   Real Madrid       4C    00:28         83             94 Yabusele     Falta Recibida\n",
      "Bàsquet Girona       4C    00:28         83             94  Miletic Falta Personal 1TL\n",
      "   Real Madrid       4C    00:28         83             94 Yabusele  Tiro de 2 anotado\n",
      "   Real Madrid       4C    00:28         83             92 Yabusele    Rebote Ofensivo\n",
      "   Real Madrid       4C    00:28         83             92  Hezonja     Triple fallado\n",
      "Bàsquet Girona       4C    00:49         83             92    Colom  Tiro de 2 anotado\n",
      "   Real Madrid       4C    01:02         81             92 Cornelie      Entra a pista\n",
      "   Real Madrid       4C    01:02         81             92  Tavares   Sale de la pista\n"
     ]
    }
   ],
   "source": [
    "# Ruta para acceder al fichero del play by play del partido y lectura del partido\n",
    "partido_2022 = 'E:/TFM/02. Datos/ACB/JORNADAS/2022/Jornada 1/20220928_Bàsquet Girona_VS_Real Madrid/PBP_Bàsquet Girona_VS_Real Madrid.csv'\n",
    "df_partido_2022 = pd.read_csv(partido_2022, sep=';')\n",
    "\n",
    "print(\"################################################################################\")\n",
    "print(\"# PLAY BY PLAY DESCARGADO\")\n",
    "print(\"################################################################################\")\n",
    "print(df_partido_2022.head(20).to_string(index=False, col_space=8))"
   ]
  },
  {
   "cell_type": "markdown",
   "id": "af8f0f58-d859-4089-836b-7a4fc98daa14",
   "metadata": {},
   "source": [
    "Como ha sido comendato, el procesamiento del *play by play* consiste en la extracción de cada combinación de cinco jugadores que compartieron pista para un mismo equipo durante el encuentro y la extracción de las diferentes estadísticas anteriormente comentadas. Se muestra a continuación el procesamiento del *play by play* de ambos equipos:"
   ]
  },
  {
   "cell_type": "code",
   "execution_count": 12,
   "id": "f85cfdf1-e8d0-4bed-a00e-f464e1045354",
   "metadata": {},
   "outputs": [
    {
     "name": "stdout",
     "output_type": "stream",
     "text": [
      "################################################################################\n",
      "# PLAY BY PLAY PROCESADO Real Madrid\n",
      "################################################################################\n",
      "     EQUIPO T2A T2L T3A T3L TLA TLL RO RD STL TOV AST BLK T2A_R T2L_R T3A_R T3L_R TLA_R TLL_R RO_R RD_R STL_R TOV_R AST_R BLK_R  TIEMPO_PISTA       J1       J2        J3        J4        J5\n",
      "Real Madrid   1   4   1   2   0   0  0  2   0   3   1   1     2     4     2     3     1     1    1    4     1     3     2     1           257     Deck     Musa Rodríguez   Tavares  Yabusele\n",
      "Real Madrid   0   2   0   1   0   0  1  1   0   0   0   0     0     0     1     2     1     2    0    2     0     0     2     0            56  Causeur     Deck Rodríguez   Tavares  Yabusele\n",
      "Real Madrid   1   3   0   1   1   2  1  4   0   1   0   0     1     4     0     0     0     0    0    2     1     0     0     1           122  Causeur  Hezonja     Llull   Tavares  Yabusele\n",
      "Real Madrid   0   0   3   3   0   0  0  2   0   0   2   0     0     2     1     1     0     0    0    0     0     0     1     0           112  Causeur Cornelie   Hezonja     Llull   Poirier\n",
      "Real Madrid   0   0   0   0   0   0  0  2   0   0   0   0     0     1     0     2     0     0    1    0     0     0     0     0            53  Causeur Cornelie     Llull      Musa   Poirier\n",
      "Real Madrid   2   3   3   5   1   2  1  4   0   0   3   0     2     4     0     2     2     2    0    2     0     0     2     0           251 Cornelie  Hezonja     Llull      Musa   Poirier\n",
      "Real Madrid   1   1   1   2   0   0  1  1   0   0   1   0     0     1     0     0     1     2    0    1     0     0     1     0            93 Cornelie  Hezonja      Musa   Poirier Rodríguez\n",
      "Real Madrid   3   5   1   3   0   0  0  2   2   0   2   1     2     5     1     3     2     2    3    3     0     2     3     0           245  Hezonja     Musa   Poirier Rodríguez  Yabusele\n",
      "Real Madrid   0   0   0   1   0   0  0  0   0   0   0   0     0     0     0     1     0     0    0    1     0     0     0     1            11    Llull     Musa   Poirier Rodríguez  Yabusele\n",
      "Real Madrid   2   2   2   2   1   2  0  2   1   5   3   1     5     7     1     2     2     2    1    1     3     2     3     0           306     Deck     Musa Rodríguez   Tavares  Yabusele\n",
      "Real Madrid   0   1   0   0   0   0  0  0   0   0   0   0     1     1     0     0     0     0    0    1     0     0     1     0            29  Hezonja    Llull      Musa   Tavares  Yabusele\n",
      "Real Madrid   3   5   3   5   0   0  1  4   1   2   3   0     2     5     0     3     2     2    2    2     1     4     1     1           380  Causeur  Hezonja     Llull   Tavares  Yabusele\n",
      "Real Madrid   0   0   0   0   3   3  0  0   0   1   0   0     1     1     0     0     0     0    0    0     0     0     1     0            34  Causeur Cornelie   Hezonja     Llull   Poirier\n",
      "Real Madrid   1   2   0   1   0   0  0  0   0   1   0   1     2     4     0     0     5     7    2    2     1     0     1     0           128 Cornelie  Hezonja     Llull      Musa   Poirier\n",
      "Real Madrid   0   0   0   0   0   0  0  1   0   1   0   0     0     0     0     1     2     2    0    0     1     0     0     0            32     Deck    Llull      Musa   Poirier  Yabusele\n",
      "Real Madrid   1   1   1   1   0   0  0  1   0   2   1   0     0     0     0     1     3     3    0    0     1     0     0     0            79     Deck    Llull      Musa   Tavares  Yabusele\n",
      "Real Madrid   0   0   2   2   0   0  0  1   0   0   2   1     0     1     1     1     0     0    0    0     0     0     1     0            77     Deck    Llull      Musa Rodríguez   Tavares\n",
      "Real Madrid   1   1   1   1   0   0  0  1   0   0   2   1     0     1     1     1     0     0    0    0     0     0     0     0            50    Llull     Musa Rodríguez   Tavares  Yabusele\n",
      "Real Madrid   0   0   0   0   0   0  0  0   0   0   0   0     0     0     0     0     0     0    0    0     0     0     1     0            23  Hezonja     Musa Rodríguez   Tavares  Yabusele\n",
      "Real Madrid   1   1   0   1   0   1  0  0   0   1   0   0     1     1     0     0     2     2    0    0     0     0     0     0            34 Cornelie  Hezonja      Musa Rodríguez  Yabusele\n",
      "Real Madrid   0   0   0   1   0   0  1  0   0   0   0   0     0     0     1     1     0     0    0    2     0     0     1     0            28  Hezonja     Musa   Poirier Rodríguez  Yabusele\n",
      "\n",
      "################################################################################\n",
      "# PLAY BY PLAY PROCESADO Bàsquet Girona\n",
      "################################################################################\n",
      "        EQUIPO T2A T2L T3A T3L TLA TLL RO RD STL TOV AST BLK T2A_R T2L_R T3A_R T3L_R TLA_R TLL_R RO_R RD_R STL_R TOV_R AST_R BLK_R  TIEMPO_PISTA       J1        J2        J3      J4      J5\n",
      "Bàsquet Girona   2   4   3   5   2   3  1  6   1   3   4   1     1     6     1     3     0     0    1    3     0     3     1     1           313   Franch     Gasol   Miletic  Taylor    Vila\n",
      "Bàsquet Girona   1   4   0   0   0   0  0  2   1   0   0   1     1     3     0     1     1     2    1    4     0     1     0     0           122   Bursac  Figueras   Miletic  Taylor    Vila\n",
      "Bàsquet Girona   0   1   1   1   0   0  0  0   0   0   1   0     0     0     2     2     0     0    0    1     0     0     2     0            71   Bursac  Figueras    Garino Prkacin  Taylor\n",
      "Bàsquet Girona   0   2   0   2   0   0  1  0   0   0   0   0     0     0     1     1     0     0    0    3     0     0     0     0            94   Bursac     Colom  Figueras  Garino Prkacin\n",
      "Bàsquet Girona   2   2   0   1   2   2  0  2   0   0   2   0     2     2     0     2     0     0    0    1     0     0     0     0           131    Colom Fjellerup    Garino   Gasol Prkacin\n",
      "Bàsquet Girona   0   2   0   1   1   2  0  1   0   0   0   0     0     1     3     3     1     2    1    3     0     0     3     0           134    Colom Fjellerup     Gasol Hanzlik Prkacin\n",
      "Bàsquet Girona   0   1   0   0   0   0  0  0   0   0   1   0     1     1     1     2     0     0    1    1     0     0     1     0            79    Colom     Gasol   Hanzlik Miletic  Taylor\n",
      "Bàsquet Girona   1   1   1   1   2   2  0  1   0   0   2   0     0     1     1     1     0     0    0    0     0     0     0     0            70    Colom     Gasol   Miletic  Taylor    Vila\n",
      "Bàsquet Girona   1   4   0   3   0   0  3  3   0   2   1   1     3     4     0     3     0     0    0    2     2     0     2     1           186   Bursac    Franch   Miletic  Taylor    Vila\n",
      "Bàsquet Girona   5   7   1   2   2   2  1  1   3   2   3   0     2     2     2     2     1     2    0    2     1     5     3     1           306   Franch     Gasol   Miletic  Taylor    Vila\n",
      "Bàsquet Girona   2   2   0   0   0   0  0  2   0   0   1   1     0     2     1     2     0     0    1    0     0     0     1     0            87   Bursac     Colom   Miletic  Taylor    Vila\n",
      "Bàsquet Girona   0   0   0   0   2   2  0  0   0   1   0   0     1     1     0     0     0     0    0    0     0     0     0     0            37   Bursac     Colom  Figueras  Garino Miletic\n",
      "Bàsquet Girona   0   2   0   1   0   0  1  1   1   3   0   0     1     2     2     3     0     0    0    2     1     1     2     0           170   Bursac     Colom  Figueras  Garino Prkacin\n",
      "Bàsquet Girona   2   3   0   2   0   0  1  0   0   0   2   0     1     1     0     0     3     3    0    2     0     2     0     0           138    Colom  Figueras Fjellerup   Gasol    Vila\n",
      "Bàsquet Girona   2   4   0   0   5   7  2  2   1   0   1   0     1     2     0     1     0     0    0    0     0     1     0     1           139 Figueras Fjellerup     Gasol  Taylor    Vila\n",
      "Bàsquet Girona   0   0   0   2   5   5  0  0   2   0   0   0     1     1     1     1     0     0    0    2     0     3     1     0           111 Figueras Fjellerup   Miletic  Taylor    Vila\n",
      "Bàsquet Girona   0   1   1   1   0   0  0  0   0   0   1   0     0     0     2     2     0     0    0    1     0     0     2     1            77 Figueras Fjellerup     Gasol Miletic  Taylor\n",
      "Bàsquet Girona   1   2   2   2   2   2  0  2   0   0   2   0     2     2     1     3     0     1    1    1     0     1     2     1           135    Colom  Figueras Fjellerup   Gasol Miletic\n"
     ]
    }
   ],
   "source": [
    "print(\"################################################################################\")\n",
    "print(\"# PLAY BY PLAY PROCESADO Real Madrid\")\n",
    "print(\"################################################################################\")\n",
    "\n",
    "pbp_procesado = procesar_pbp(df_partido_2022,'Real Madrid')\n",
    "print(pbp_procesado.to_string(index=False, col_space=1))\n",
    "\n",
    "print(\"\\n################################################################################\")\n",
    "print(\"# PLAY BY PLAY PROCESADO Bàsquet Girona\")\n",
    "print(\"################################################################################\")\n",
    "\n",
    "pbp_procesado = procesar_pbp(df_partido_2022,'Bàsquet Girona')\n",
    "print(pbp_procesado.to_string(index=False, col_space=1))"
   ]
  },
  {
   "cell_type": "markdown",
   "id": "4413e7a4-dac6-46a0-8bb2-87a4192620cc",
   "metadata": {},
   "source": [
    "Tras el procesamiento de cada *play by play* para cada uno de los equipos en cada una de las temporadas que hayan participado en la liga ACB han sido construidas las estadísticas totales de los quintetos de estos equipos. Se muestra a continuación las *estadísticas totales de quintetos* del Real Madrid durante la temporada *2022-2023* tras la realización del sumatorio de estadísticas:"
   ]
  },
  {
   "cell_type": "code",
   "execution_count": 17,
   "id": "fb6d702f-1032-46e4-a91d-a0a1af2d52f6",
   "metadata": {},
   "outputs": [
    {
     "name": "stdout",
     "output_type": "stream",
     "text": [
      "################################################################################\n",
      "# ESTADISTICAS TOTALES DE QUINTETOS DE REAL MADRID EN LA TEMPORADA 2022-2023\n",
      "################################################################################\n",
      "     EQUIPO       J1       J2        J3         J4         J5  T2A  T2L  T3A  T3L  TLA  TLL  RO  RD  STL  TOV  AST  BLK  T2A_R  T2L_R  T3A_R  T3L_R  TLA_R  TLL_R  RO_R  RD_R  STL_R  TOV_R  AST_R  BLK_R  TIEMPO_PISTA\n",
      "Real Madrid Cornelie     Deck      Musa    Tavares Will.-Goss   18   41   11   25   12   14  13  34    8    9   22    5      9     35      4     19      9      9     6    24      4     11      7      1          2194\n",
      "Real Madrid     Deck    Hanga      Musa    Tavares   Yabusele   22   36   10   18   13   19   6  25   10    9   15    6     17     38      6     19      3      6    10    19      7     12      9      4          1968\n",
      "Real Madrid     Deck     Musa   Tavares Will.-Goss   Yabusele   18   31    3    5   12   17   8  12    2    7   10    5     17     27      4     13      7      9     6     8      5      5     12      1          1354\n",
      "Real Madrid   Abalde  Causeur    Ndiaye Will.-Goss   Yabusele   11   22    9   15    2    2   6  13    4    9   10    1      9     15      6     13      9     12     1    11      5      7     13      3          1319\n",
      "Real Madrid  Causeur Cornelie   Hezonja    Poirier Will.-Goss    9   19   11   20    4    6   8  13    6    7   11    1     13     21      4     13      0      0     4    10      6      7      8      1          1280\n",
      "Real Madrid Cornelie  Hezonja     Llull       Musa    Poirier    9   18    6   14    7   11   4  17    5    8    8    2      8     20      2     11     16     21     5    15      5      6      8      1          1208\n",
      "Real Madrid Cornelie  Hezonja      Musa    Tavares Will.-Goss   14   21    4    7    8   13   1  15    4    4    9    5      7     16      5     17      9     11     6    10      2      5      6      0          1169\n",
      "Real Madrid     Deck     Musa Rodríguez    Tavares   Yabusele    9   18    6    9    7    9   3   8    1    9    7    2     15     21      4      9      9     11     3     9      4      5     10      1          1159\n",
      "Real Madrid  Causeur  Hezonja   Poirier  Rodríguez   Yabusele    8   15    7   13   11   13   6  11    3    8    6    1      8     18      6     12      1      2     3     8      4      5     11      1          1153\n",
      "Real Madrid   Abalde     Musa Rodríguez    Tavares   Yabusele   10   18    1    6    3    4   3  11    4    5    7    2      7     18      3      8      2      3     5    10      3      6      6      2          1041\n",
      "Real Madrid  Causeur Cornelie   Hezonja      Llull    Poirier    8   12    5   11    5    7   3   8    1    2    6    0      6     15      5     12      3      4     8     8      1      5      8      1           969\n",
      "Real Madrid     Deck    Hanga      Musa    Poirier Will.-Goss   10   15    3    6    7    8   1  12    2    5    6    2      9     19      3      9      2      3     5     7      4      3      9      2           895\n",
      "Real Madrid Cornelie Cornelie   Hezonja       Musa    Poirier    9   18    3    8    8   10   6  11    1    2   10    1      8     14      0      9      3      5     4    10      1      4      3      2           895\n",
      "Real Madrid  Causeur    Hanga   Poirier  Rodríguez   Yabusele    7   13    2    8    5   10   2  14    3    2    4    1      4     15      2     10      4      4     4    10      1      3      6      1           887\n",
      "Real Madrid  Causeur Cornelie      Deck      Hanga    Tavares   12   18    5   11    9   10   7  10    4    3   14    5      6     16      2      8      1      3     6     5      1      8      6      1           846\n",
      "Real Madrid  Causeur Cornelie   Hezonja    Poirier  Rodríguez    6   11    4    6    7    7   2   9    3    6    7    3      9     16      1      8      1      1     4     5      2      5      3      0           822\n",
      "Real Madrid  Causeur  Hezonja     Llull    Tavares   Yabusele    7   13    4    8    5    6   4  11    1    4    7    0      7     15      0      7      3      4     5     5      3      4      2      2           815\n",
      "Real Madrid  Hezonja    Llull      Musa    Tavares   Yabusele    7   11    3   10   13   17   4  16    3    6    9    2      2     13      1      7     10     12     3     7      3      7      1      0           813\n",
      "Real Madrid   Abalde  Causeur  Cornelie  Rodríguez   Yabusele    6   13    2    7    2    2   3  10    1    3    5    2      4     11      1      7      9     13     2     9      1      1      4      1           787\n",
      "Real Madrid  Causeur    Hanga   Hezonja    Tavares   Yabusele   10   13    1    4    2    5   2   7    5    5    8    0      5      9      5      9      0      0     1     6      4      5      5      0           736\n"
     ]
    }
   ],
   "source": [
    "# Ruta para acceder al fichero de estadísticas totales del Real Madrid y lectura del fichero\n",
    "fichero_total_2022 = 'E:/TFM/02. Datos/ACB/ESTADISTICAS/2022/Real Madrid/03_ESTADISTICAS_QUINTETO_EQUIPO.csv'\n",
    "df_estadisticas_totales_quinteto = pd.read_csv(fichero_total_2022, sep=';')\n",
    "\n",
    "print(\"################################################################################\")\n",
    "print(\"# ESTADISTICAS TOTALES DE QUINTETOS DE REAL MADRID EN LA TEMPORADA 2022-2023\")\n",
    "print(\"################################################################################\")\n",
    "\n",
    "pbp_procesado = procesar_pbp(df_partido_2022,'Real Madrid')\n",
    "print(df_estadisticas_totales_quinteto.sort_values(by='TIEMPO_PISTA', ascending=False).head(20).to_string(index=False, col_space=1))"
   ]
  },
  {
   "cell_type": "code",
   "execution_count": null,
   "id": "0e05276f-7e1b-423e-a739-38a97e5566cc",
   "metadata": {},
   "outputs": [],
   "source": []
  }
 ],
 "metadata": {
  "kernelspec": {
   "display_name": "Python 3 (ipykernel)",
   "language": "python",
   "name": "python3"
  },
  "language_info": {
   "codemirror_mode": {
    "name": "ipython",
    "version": 3
   },
   "file_extension": ".py",
   "mimetype": "text/x-python",
   "name": "python",
   "nbconvert_exporter": "python",
   "pygments_lexer": "ipython3",
   "version": "3.11.7"
  }
 },
 "nbformat": 4,
 "nbformat_minor": 5
}
