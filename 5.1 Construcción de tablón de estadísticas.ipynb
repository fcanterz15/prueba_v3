{
 "cells": [
  {
   "cell_type": "code",
   "execution_count": 1,
   "id": "13bfc80b-9446-421d-9239-57f66b447229",
   "metadata": {},
   "outputs": [],
   "source": [
    "import pandas as pd\n",
    "import os\n",
    "import matplotlib.pyplot as plt\n",
    "from funciones_auxiliares import *\n",
    "import warnings\n",
    "import numpy as np\n",
    "warnings.filterwarnings('ignore')"
   ]
  },
  {
   "cell_type": "markdown",
   "id": "d5b879af-0dd4-4e00-b1da-b0376510cbf8",
   "metadata": {},
   "source": [
    "# 5.1 Construcción de tablón de estadísticas"
   ]
  },
  {
   "cell_type": "markdown",
   "id": "b41e18ce-fb4b-4d23-98ba-e0d9dd2711d2",
   "metadata": {},
   "source": [
    "A través de este notebook se dará explicación a la creación del *Tablón de estadísticas* que se será el conjunto de datos en el que se almacenen las estadísticas de los jugadores de baloncesto a lo largo de una temporada que se han cosiderado interesantes para su utilización en los análisis. Es por este motivo que, en este notebook, se inclurá los siguientes apartados:\n",
    "* **1. Selección de información.** Tras la descarga y análisis de la información estadistica de los jugadores de baloncesto, se realizará la selección de las variables más interesantes para el estudio.\n",
    "* **2. Filtrado de variables.** Tras el análisis de la información se realizará el filtrado del conjunto de datos con el fin de obtener únicamente la información de jugadores que sea validable.\n",
    "* **3. Construcción de variables.** Se realizará la construcción de las nuevas variables que se han considerado interesantes.\n",
    "* **4. Creación del tablón de estadísticas.** Se realizará la creación y guardado del tablón de estadísticas que será utilizado para los análisis.\n",
    "\n",
    "A través de estos puntos se espera dar explicación a los motivos de la creación del conjunto de datos además de obtener un tablón que será utilizado en los análisis posteriores."
   ]
  },
  {
   "cell_type": "markdown",
   "id": "985d7ccc-7c6d-4528-94a4-11367436eecb",
   "metadata": {},
   "source": [
    "## 1. Selección de información"
   ]
  },
  {
   "cell_type": "markdown",
   "id": "31e13af3-4530-47bf-b83d-f83ec858dba9",
   "metadata": {},
   "source": [
    "Como se ha comentado al inicio de este notebook, el *Tablón de estadísticas*, es el conjunto de datos en el que se almacena la información estadística de los jugadores de baloncesto durante diversas temporadas de la ACB y que será utilizada en los futuros análisis de este Trabajo de Fin de Máster. Es por este motivo, que para la selección de las variables, se pasa a realizar la carga de las *Estadísticas totales individuales*, *Estadísticas totales de tiro* y *Estadísticas avanzadas individuales* junto al tablón de información de jugadores para la selección de variables. Antes de la carga, y como se observo durante los análisis realizados sobre las *Estadísticas totales de tiro* ha sido decidido no seleccionar la información referente a la temporada *2019-2020+ debido a su falta de consistencia en este tipo de estadística. Dicho esto, se pasa a realizar la carga de los ficheros para realizar la selección de variables:"
   ]
  },
  {
   "cell_type": "code",
   "execution_count": 2,
   "id": "046f1732-c68a-4a00-9e90-d42b0985bba7",
   "metadata": {},
   "outputs": [
    {
     "name": "stdout",
     "output_type": "stream",
     "text": [
      "#############################################################\n",
      "# ESTADÍSTICAS TOTALES DE JUGADORES\n",
      "#############################################################\n",
      "Nº de registros: 1030\n",
      "Nº de columnas: 25\n",
      " DORSAL  JUGADOR_BS  MIN  PTS   RO   RD   RT   AS  PER  REC  TAP   TR  MAT   FP   FR     +-   VAL  T2A  T2L  T3A  T3L  TLA  TLL     EQUIPO TEMPORADA\n",
      "      0  B. Francis  240   73    5   11   16    7   23   10    2    1    0 28.0   10  -96.0   2.0   16   49   10   37   11   15 Acunsa GBC      2020\n",
      "      1      J. Dee  747  382   11   57   68   41   52   29    1    6    0 83.0   56 -187.0 238.0   38  100   86  214   48   56 Acunsa GBC      2020\n",
      "     11 W. Magarity  442  163   19   51   70   15   20    8   10    4    7 43.0   26 -144.0 130.0   33   66   25   83   22   26 Acunsa GBC      2020\n",
      "     14 J. Olaizola  272   49   32   23   55    9   18   10    2    2    0 60.0   14  -89.0  23.0   19   35    2    9    5   18 Acunsa GBC      2020\n",
      "     19    P. Tomàs  867  274   54  111  165   33   29   26    2    9    3 61.0   60 -279.0 311.0   49  101   49  140   29   36 Acunsa GBC      2020\n",
      "\n",
      "#############################################################\n",
      "# ESTADÍSTICAS DE TIRO DE JUGADORES\n",
      "#############################################################\n",
      "Nº de registros: 949\n",
      "Nº de columnas: 27\n",
      " DORSAL  JUGADOR_CT  GRUPO 1_IN  GRUPO 1_OUT  GRUPO 10_IN  GRUPO 10_OUT  GRUPO 11_IN  GRUPO 11_OUT  GRUPO 2_IN  GRUPO 2_OUT  GRUPO 3_IN  GRUPO 3_OUT  GRUPO 4_IN  GRUPO 4_OUT  GRUPO 5_IN  GRUPO 5_OUT  GRUPO 6_IN  GRUPO 6_OUT  GRUPO 7_IN  GRUPO 7_OUT  GRUPO 8_IN  GRUPO 8_OUT  GRUPO 9_IN  GRUPO 9_OUT     EQUIPO TEMPORADA  Fuera de límites_OUT\n",
      "      0  B. Francis         8.0         15.0          4.0          13.0          0.0           1.0         2.0          7.0         2.0          4.0         2.0          8.0         1.0          2.0         2.0          2.0         3.0          0.0         1.0          7.0         1.0          1.0 Acunsa GBC      2020                   NaN\n",
      "      1      J. Dee        29.0         31.0         31.0          40.0          6.0           1.0         0.0          6.0         4.0         12.0         1.0          7.0         1.0          6.0         4.0          6.0         1.0          0.0        34.0         50.0        12.0         30.0 Acunsa GBC      2020                   NaN\n",
      "      2    V. Okouo       139.0        119.0          0.0           0.0          0.0           0.0         0.0          2.0         1.0          1.0         1.0          4.0         3.0         10.0         0.0          1.0         0.0          0.0         0.0          2.0         0.0          0.0 Acunsa GBC      2020                   NaN\n",
      "      3 L. Faggiano        58.0         61.0          6.0          29.0          0.0           0.0         2.0          5.0         2.0          3.0         3.0          6.0         2.0         10.0         2.0          8.0         1.0          0.0        10.0         15.0        16.0         19.0 Acunsa GBC      2020                   NaN\n",
      "      5  M. Carlson        26.0         16.0          5.0          13.0          0.0           0.0         2.0          1.0         2.0          1.0         0.0          3.0         0.0          1.0         1.0          1.0         0.0          3.0         4.0         14.0         4.0          7.0 Acunsa GBC      2020                   NaN\n",
      "\n",
      "#############################################################\n",
      "# ESTADÍSTICAS AVANZADAS DE JUGADORES\n",
      "#############################################################\n",
      "Nº de registros: 1030\n",
      "Nº de columnas: 15\n",
      " DORSAL  JUGADOR_BS   eFG%    3Pr    FTr   ORB%   DRB%   STL%   BLK%   TOV%   AST%   USG%  STOP%     EQUIPO TEMPORADA\n",
      "      0  B. Francis 0.3605 0.4302 0.1744 0.0232 0.0634 0.0226 0.0086 0.2020 0.0225 0.2238 0.3858 Acunsa GBC      2020\n",
      "      1      J. Dee 0.5318 0.6815 0.1783 0.0164 0.1055 0.0210 0.0014 0.1343 0.0445 0.2430 0.3933 Acunsa GBC      2020\n",
      "     11 W. Magarity 0.4732 0.5570 0.1745 0.0478 0.1595 0.0098 0.0235 0.1119 0.0258 0.1897 0.4417 Acunsa GBC      2020\n",
      "     14 J. Olaizola 0.5000 0.2045 0.4091 0.1309 0.1169 0.0199 0.0076 0.2804 0.0222 0.1195 0.4225 Acunsa GBC      2020\n",
      "     19    P. Tomàs 0.5083 0.5809 0.1494 0.0693 0.1770 0.0162 0.0024 0.1026 0.0277 0.1532 0.4316 Acunsa GBC      2020\n",
      "\n",
      "#############################################################\n",
      "# TABLA DE CONTROL DE JUGADORES\n",
      "#############################################################\n",
      "Nº de registros: 1012\n",
      "Nº de columnas: 6\n",
      " DORSAL        JUGADOR  JUGADOR_BS  JUGADOR_CT     EQUIPO TEMPORADA\n",
      "      1     Johnny Dee      J. Dee      J. Dee Acunsa GBC      2020\n",
      "      2     Viny Okouo    V. Okouo    V. Okouo Acunsa GBC      2020\n",
      "      3 Lucas Faggiano L. Faggiano L. Faggiano Acunsa GBC      2020\n",
      "      5   Mike Carlson  M. Carlson  M. Carlson Acunsa GBC      2020\n",
      "      6       Jan Span     J. Span     J. Span Acunsa GBC      2020\n"
     ]
    }
   ],
   "source": [
    "# Ruta de estadísticas\n",
    "ruta_estadisticas = 'E:/TFM/02. Datos/ACB/ESTADISTICAS'\n",
    "\n",
    "# Se realiza la inicialización del tablon de estadísticas\n",
    "df_estadisticas_totales_liga = pd.DataFrame()\n",
    "df_cartas_tiro_liga = pd.DataFrame()\n",
    "df_estadisticas_avanzadas_liga = pd.DataFrame()\n",
    "df_tabla_control_liga = pd.DataFrame()\n",
    "# Se extrae el listado de directorios de temporadas\n",
    "l_dir_temporadas = ['2020', '2021', '2022']\n",
    "\n",
    "for temporada in l_dir_temporadas:\n",
    "    # Se extrae el listado de directorios de equipos\n",
    "    ruta_dir_temporada = ruta_estadisticas + '/' + temporada\n",
    "    l_dir_equipos = os.listdir(ruta_dir_temporada)\n",
    "    \n",
    "    for equipo in l_dir_equipos:\n",
    "        # Se inicializa la ruta de estadísticas de un equipo\n",
    "        ruta_dir_estadisticas_equipo = ruta_dir_temporada + '/' + equipo\n",
    "        \n",
    "        # Se realiza la carga de ficheros de estadísticas de jugadores\n",
    "        df_estadisticas_totales = pd.read_csv(ruta_dir_estadisticas_equipo + '/01_ESTADISTICAS_TOTALES_EQUIPO.csv', sep = ';')\n",
    "        df_cartas_tiro = pd.read_csv(ruta_dir_estadisticas_equipo + '/02_ESTADISTICAS_CARTA_TIRO_EQUIPO.csv', sep = ';')\n",
    "        df_estadisticas_avanzadas = pd.read_csv(ruta_dir_estadisticas_equipo + '/04_ESTADISTICAS_AVANZADAS.csv', sep = ';')\n",
    "        df_tabla_control = pd.read_csv(ruta_dir_estadisticas_equipo + '/05_INFORMACION_JUGADORES.csv', sep = ';')\n",
    "        \n",
    "        # Se realiza el ajuste de las tablas para su cruce\n",
    "        df_estadisticas_totales = df_estadisticas_totales.rename(columns={'NO.':'DORSAL','JUGADOR':'JUGADOR_BS'})\n",
    "        df_cartas_tiro = df_cartas_tiro.rename(columns={'D':'DORSAL','NOMBRE':'JUGADOR_CT'})\n",
    "        df_estadisticas_avanzadas = df_estadisticas_avanzadas.rename(columns={'NO.':'DORSAL','JUGADOR':'JUGADOR_BS'})\n",
    "        df_tabla_control = df_tabla_control[['DORSAL','JUGADOR','JUGADOR_BS','JUGADOR_CT']]\n",
    "\n",
    "        # Se incluye la temporada y el equipo a cada uno de los conjuntos de datos\n",
    "        df_estadisticas_totales['EQUIPO'] = equipo\n",
    "        df_cartas_tiro['EQUIPO'] = equipo\n",
    "        df_estadisticas_avanzadas['EQUIPO'] = equipo\n",
    "        df_tabla_control['EQUIPO'] = equipo\n",
    "        df_estadisticas_totales['TEMPORADA'] = temporada\n",
    "        df_cartas_tiro['TEMPORADA'] = temporada\n",
    "        df_estadisticas_avanzadas['TEMPORADA'] = temporada\n",
    "        df_tabla_control['TEMPORADA'] = temporada\n",
    "\n",
    "        # Se añaden las tablas cargas del equipo al tablón de la liga\n",
    "        df_estadisticas_totales_liga = pd.concat([df_estadisticas_totales_liga,df_estadisticas_totales])\n",
    "        df_cartas_tiro_liga = pd.concat([df_cartas_tiro_liga,df_cartas_tiro])\n",
    "        df_estadisticas_avanzadas_liga = pd.concat([df_estadisticas_avanzadas_liga,df_estadisticas_avanzadas])\n",
    "        df_tabla_control_liga = pd.concat([df_tabla_control_liga,df_tabla_control])\n",
    "\n",
    "print(\"#############################################################\")\n",
    "print(\"# ESTADÍSTICAS TOTALES DE JUGADORES\")\n",
    "print(\"#############################################################\")\n",
    "print(\"Nº de registros:\",df_estadisticas_totales_liga.shape[0])\n",
    "print(\"Nº de columnas:\",df_estadisticas_totales_liga.shape[1])\n",
    "print(df_estadisticas_totales_liga.head().to_string(index=False, col_space=4))\n",
    "\n",
    "print(\"\\n#############################################################\")\n",
    "print(\"# ESTADÍSTICAS DE TIRO DE JUGADORES\")\n",
    "print(\"#############################################################\")\n",
    "print(\"Nº de registros:\",df_cartas_tiro_liga.shape[0])\n",
    "print(\"Nº de columnas:\",df_cartas_tiro_liga.shape[1])\n",
    "print(df_cartas_tiro_liga.head().to_string(index=False, col_space=1))\n",
    "\n",
    "print(\"\\n#############################################################\")\n",
    "print(\"# ESTADÍSTICAS AVANZADAS DE JUGADORES\")\n",
    "print(\"#############################################################\")\n",
    "print(\"Nº de registros:\",df_estadisticas_avanzadas_liga.shape[0])\n",
    "print(\"Nº de columnas:\",df_estadisticas_avanzadas_liga.shape[1])\n",
    "print(df_estadisticas_avanzadas_liga.head().to_string(index=False, col_space=4))\n",
    "\n",
    "print(\"\\n#############################################################\")\n",
    "print(\"# TABLA DE CONTROL DE JUGADORES\")\n",
    "print(\"#############################################################\")\n",
    "print(\"Nº de registros:\",df_tabla_control_liga.shape[0])\n",
    "print(\"Nº de columnas:\",df_tabla_control_liga.shape[1])\n",
    "print(df_tabla_control_liga.head().to_string(index=False, col_space=4))"
   ]
  },
  {
   "cell_type": "markdown",
   "id": "77f9d32f-50b4-465c-8481-aa3f5ba33bb9",
   "metadata": {},
   "source": [
    "Como puede observaser, se ha cargado la información de las temporadas *2020-2021*, *2021-2022*, y *2022-2023* en cuantro conjuntos de datos diferentes. Se pasa a continuación a la contrucción de la tabla auxiliar en la que serán anexionadas todas las estadísticas para cada uno de los jugadores con el fin de tener la información en un primer conjunto de datos. Para ello, utilizando la tabla de control como referencia, se irán anexionando los conjuntos de estadísticas a esta tabla a partir de las variables *TEMPORADA*, *EQUIPO*, *DORSAL* y *JUGADOR*:"
   ]
  },
  {
   "cell_type": "code",
   "execution_count": 3,
   "id": "13521b64-c4cd-48bb-8ae3-d9fdc9e13644",
   "metadata": {},
   "outputs": [
    {
     "name": "stdout",
     "output_type": "stream",
     "text": [
      "#######################################\n",
      "# RESUMEN DEL TABLÓN DE ESTADISTICAS\n",
      "#######################################\n",
      "Nº de registros: 1012\n",
      "Nº de columnas: 61\n",
      "Columnas de identificadores: DORSAL | JUGADOR | JUGADOR_BS | JUGADOR_CT | EQUIPO | TEMPORADA\n",
      "Columnas de estadísticas totales: MIN | PTS | RO | RD | RT | AS | PER | REC | TAP | TR | MAT | FP | FR | +- | VAL | T2A | T2L | T3A | T3L | TLA | TLL\n",
      "Columnas de estadísticas avanzadas: eFG% | 3Pr | FTr | ORB% | DRB% | STL% | BLK% | TOV% | AST% | USG% | STOP%\n",
      "Columnas de cartas de tiro: GRUPO 1_IN | GRUPO 1_OUT | GRUPO 10_IN | GRUPO 10_OUT | GRUPO 11_IN | GRUPO 11_OUT | GRUPO 2_IN | GRUPO 2_OUT | GRUPO 3_IN | GRUPO 3_OUT | GRUPO 4_IN | GRUPO 4_OUT | GRUPO 5_IN | GRUPO 5_OUT | GRUPO 6_IN | GRUPO 6_OUT | GRUPO 7_IN | GRUPO 7_OUT | GRUPO 8_IN | GRUPO 8_OUT | GRUPO 9_IN | GRUPO 9_OUT | Fuera de límites_OUT\n",
      "\n",
      "  DORSAL        JUGADOR  JUGADOR_BS  JUGADOR_CT     EQUIPO TEMPORADA  MIN  PTS   RO   RD   RT   AS  PER  REC  TAP   TR  MAT   FP   FR     +-   VAL  T2A  T2L  T3A  T3L  TLA  TLL   eFG%    3Pr    FTr   ORB%   DRB%   STL%   BLK%   TOV%   AST%   USG%  STOP%  GRUPO 1_IN  GRUPO 1_OUT  GRUPO 10_IN  GRUPO 10_OUT  GRUPO 11_IN  GRUPO 11_OUT  GRUPO 2_IN  GRUPO 2_OUT  GRUPO 3_IN  GRUPO 3_OUT  GRUPO 4_IN  GRUPO 4_OUT  GRUPO 5_IN  GRUPO 5_OUT  GRUPO 6_IN  GRUPO 6_OUT  GRUPO 7_IN  GRUPO 7_OUT  GRUPO 8_IN  GRUPO 8_OUT  GRUPO 9_IN  GRUPO 9_OUT  Fuera de límites_OUT\n",
      "      1     Johnny Dee      J. Dee      J. Dee Acunsa GBC      2020  747  382   11   57   68   41   52   29    1    6    0 83.0   56 -187.0 238.0   38  100   86  214   48   56 0.5318 0.6815 0.1783 0.0164 0.1055 0.0210 0.0014 0.1343 0.0445 0.2430 0.3933        29.0         31.0         31.0          40.0          6.0           1.0         0.0          6.0         4.0         12.0         1.0          7.0         1.0          6.0         4.0          6.0         1.0          0.0        34.0         50.0        12.0         30.0                   NaN\n",
      "      2     Viny Okouo    V. Okouo    V. Okouo Acunsa GBC      2020  692  354   63  131  194    9   73   20   12    8   12 90.0   94 -271.0 327.0  145  284    0    2   64  108 0.5070 0.0070 0.3776 0.1013 0.2618 0.0157 0.0180 0.1886 0.0105 0.2730 0.5470       139.0        119.0          0.0           0.0          0.0           0.0         0.0          2.0         1.0          1.0         1.0          4.0         3.0         10.0         0.0          1.0         0.0          0.0         0.0          2.0         0.0          0.0                   NaN\n",
      "      3 Lucas Faggiano L. Faggiano L. Faggiano Acunsa GBC      2020  881  278   13   63   76  124   64   39    3   10    0 82.0   74 -384.0 267.0   66  156   36  102   38   53 0.4651 0.3953 0.2054 0.0164 0.0989 0.0240 0.0035 0.1889 0.1034 0.1821 0.4066        58.0         61.0          6.0          29.0          0.0           0.0         2.0          5.0         2.0          3.0         3.0          6.0         2.0         10.0         2.0          8.0         1.0          0.0        10.0         15.0        16.0         19.0                   NaN\n",
      "      5   Mike Carlson  M. Carlson  M. Carlson Acunsa GBC      2020  300  112   15   27   42   12   11    9    3    6    1 39.0   21   -5.0  77.0   29   52   15   52    9   15 0.4952 0.5000 0.1442 0.0557 0.1244 0.0162 0.0104 0.0925 0.0306 0.1884 0.4120        26.0         16.0          5.0          13.0          0.0           0.0         2.0          1.0         2.0          1.0         0.0          3.0         0.0          1.0         1.0          1.0         0.0          3.0         4.0         14.0         4.0          7.0                   NaN\n",
      "      6       Jan Span     J. Span     J. Span Acunsa GBC      2020  707  214   11   27   38   63   49   22    0    9    0 47.0   30 -272.0  54.0   44  118   39  168    9   14 0.3584 0.5874 0.0490 0.0173 0.0528 0.0169 0.0000 0.1446 0.0713 0.2242 0.3202        33.0         45.0         14.0          55.0          0.0           2.0         3.0          3.0         2.0          8.0         5.0          9.0         1.0          8.0         2.0          5.0         1.0          2.0        11.0         33.0        11.0         33.0                   NaN\n"
     ]
    }
   ],
   "source": [
    "# Se realiza la unión entre la tabla de control con las estadísticas\n",
    "df_tablon_estadisticas = df_tabla_control_liga.merge(df_estadisticas_totales_liga, on = ['TEMPORADA', 'EQUIPO', 'DORSAL', 'JUGADOR_BS'], how = 'left')\n",
    "df_tablon_estadisticas = df_tablon_estadisticas.merge(df_estadisticas_avanzadas_liga, on = ['TEMPORADA', 'EQUIPO', 'DORSAL', 'JUGADOR_BS'], how = 'left')\n",
    "df_tablon_estadisticas = df_tablon_estadisticas.merge(df_cartas_tiro_liga, on = ['TEMPORADA', 'EQUIPO', 'DORSAL', 'JUGADOR_CT'], how = 'left')\n",
    "\n",
    "\n",
    "# Se solventan los problemas generados de la unión al no existir información de los jugadores\n",
    "df_tablon_estadisticas = df_tablon_estadisticas.replace(float('inf'), 0)\n",
    "\n",
    "print(\"#######################################\")\n",
    "print(\"# RESUMEN DEL TABLÓN DE ESTADISTICAS\")\n",
    "print(\"#######################################\")\n",
    "print(\"Nº de registros:\",df_tablon_estadisticas.shape[0])\n",
    "print(\"Nº de columnas:\",df_tablon_estadisticas.shape[1])\n",
    "print(\"Columnas de identificadores:\", (' | ').join(df_tablon_estadisticas.columns[0:6]))\n",
    "print(\"Columnas de estadísticas totales:\", (' | ').join(df_tablon_estadisticas.columns[6:27]))\n",
    "print(\"Columnas de estadísticas avanzadas:\", (' | ').join(df_tablon_estadisticas.columns[27:38]))\n",
    "print(\"Columnas de cartas de tiro:\", (' | ').join(df_tablon_estadisticas.columns[38:]))\n",
    "print(\"\\n\",df_tablon_estadisticas.head().to_string(index=False, col_space=4))"
   ]
  },
  {
   "cell_type": "markdown",
   "id": "71db212b-77b3-4bff-ad11-2be869bd0e87",
   "metadata": {},
   "source": [
    "Tras la unión de las distintos conjuntos de datos, ha sido generado un tablón en el que se representa la información de 1012 jugadores distintos en 61 variables estadísticas a lo largo de las temporadas *2020-2021*, *2021-2022* y *2022-2023+. Este cojunto de datos será utilizado para el resto de acciones que permitan la construcción del *Tablón de estadísticas*."
   ]
  },
  {
   "cell_type": "markdown",
   "id": "69665eab-c77b-40e4-8e58-2d0c5937dca8",
   "metadata": {},
   "source": [
    "## 2. Filtrado de variables."
   ]
  },
  {
   "cell_type": "markdown",
   "id": "af447499-dd84-43b0-a85d-e7918195e305",
   "metadata": {},
   "source": [
    "Con respecto al filtrado de variables, durante los análisis exploratorios de los distintos tipos de estadísticas, se puedieron observar los siguientes puntos de interes:\n",
    "* *Variable *MIN*.* Dentro del tablón de *estadísticas totales individuales* se observó como existía un pequeño volumen de jugadores que no llegaban a los 92 minutos jugados. Es por este motivo que para contar con un conjunto de datos coherente, se seleccionarán únicamnete las estadísticas que aquellos jugadores que hayan participado como mínimo un total de 92 minutos.\n",
    "* *Variables de *Estadísticas de tiro*.* Dentro del tablón de *estadísticas totales de tiro* se observó un gran número de jugadores que no había realizado ningún tiro desde ninguna posición en los partidos descargados. Es por este motivo que los jugadores que se encuentren en esta situación será eliminados del conjunto de datos.\n",
    "* *Variable *eFG%*.* Dentro del tablón de *estadísticas avanzadas individuales* se observó como había jugadores que su eficiencia en el tiro tomaba un valor superior al 100%, esto se debe a que la muestra con la que cuentan estos jugaores no es suficientes para tomar una valor real y por lo tanto serán eliminados.\n",
    "* *Variable *ORB%*.* Dentro del tablón de *estadísticas avanzadas individuales* se observó como había jugadores que su porcentaje de rebotes ofensivos tomaba un valor superior al 100%, esto se debe a que la muestra con la que cuentan estos jugaores no es suficientes para tomar una valor real y por lo tanto serán eliminados.\n",
    "\n",
    "Por lo tanto, se pasa a realizar los filtros comentados sobre el conjunto de datos:"
   ]
  },
  {
   "cell_type": "code",
   "execution_count": 4,
   "id": "e4d0530a-1b1a-4f6e-8581-89719826b425",
   "metadata": {},
   "outputs": [
    {
     "name": "stdout",
     "output_type": "stream",
     "text": [
      "#######################################\n",
      "# RESUMEN DEL TABLÓN DE ESTADISTICAS\n",
      "#######################################\n",
      "Nº de registros: 752\n",
      "Nº de columnas: 61\n",
      "Columnas de identificadores: DORSAL | JUGADOR | JUGADOR_BS | JUGADOR_CT | EQUIPO | TEMPORADA\n",
      "Columnas de estadísticas totales: MIN | PTS | RO | RD | RT | AS | PER | REC | TAP | TR | MAT | FP | FR | +- | VAL | T2A | T2L | T3A | T3L | TLA | TLL\n",
      "Columnas de estadísticas avanzadas: eFG% | 3Pr | FTr | ORB% | DRB% | STL% | BLK% | TOV% | AST% | USG% | STOP%\n",
      "Columnas de cartas de tiro: GRUPO 1_IN | GRUPO 1_OUT | GRUPO 10_IN | GRUPO 10_OUT | GRUPO 11_IN | GRUPO 11_OUT | GRUPO 2_IN | GRUPO 2_OUT | GRUPO 3_IN | GRUPO 3_OUT | GRUPO 4_IN | GRUPO 4_OUT | GRUPO 5_IN | GRUPO 5_OUT | GRUPO 6_IN | GRUPO 6_OUT | GRUPO 7_IN | GRUPO 7_OUT | GRUPO 8_IN | GRUPO 8_OUT | GRUPO 9_IN | GRUPO 9_OUT | Fuera de límites_OUT\n",
      "\n",
      "  DORSAL        JUGADOR  JUGADOR_BS  JUGADOR_CT     EQUIPO TEMPORADA  MIN  PTS   RO   RD   RT   AS  PER  REC  TAP   TR  MAT   FP   FR     +-   VAL  T2A  T2L  T3A  T3L  TLA  TLL   eFG%    3Pr    FTr   ORB%   DRB%   STL%   BLK%   TOV%   AST%   USG%  STOP%  GRUPO 1_IN  GRUPO 1_OUT  GRUPO 10_IN  GRUPO 10_OUT  GRUPO 11_IN  GRUPO 11_OUT  GRUPO 2_IN  GRUPO 2_OUT  GRUPO 3_IN  GRUPO 3_OUT  GRUPO 4_IN  GRUPO 4_OUT  GRUPO 5_IN  GRUPO 5_OUT  GRUPO 6_IN  GRUPO 6_OUT  GRUPO 7_IN  GRUPO 7_OUT  GRUPO 8_IN  GRUPO 8_OUT  GRUPO 9_IN  GRUPO 9_OUT  Fuera de límites_OUT\n",
      "      1     Johnny Dee      J. Dee      J. Dee Acunsa GBC      2020  747  382   11   57   68   41   52   29    1    6    0 83.0   56 -187.0 238.0   38  100   86  214   48   56 0.5318 0.6815 0.1783 0.0164 0.1055 0.0210 0.0014 0.1343 0.0445 0.2430 0.3933        29.0         31.0         31.0          40.0          6.0           1.0         0.0          6.0         4.0         12.0         1.0          7.0         1.0          6.0         4.0          6.0         1.0          0.0        34.0         50.0        12.0         30.0                   NaN\n",
      "      2     Viny Okouo    V. Okouo    V. Okouo Acunsa GBC      2020  692  354   63  131  194    9   73   20   12    8   12 90.0   94 -271.0 327.0  145  284    0    2   64  108 0.5070 0.0070 0.3776 0.1013 0.2618 0.0157 0.0180 0.1886 0.0105 0.2730 0.5470       139.0        119.0          0.0           0.0          0.0           0.0         0.0          2.0         1.0          1.0         1.0          4.0         3.0         10.0         0.0          1.0         0.0          0.0         0.0          2.0         0.0          0.0                   NaN\n",
      "      3 Lucas Faggiano L. Faggiano L. Faggiano Acunsa GBC      2020  881  278   13   63   76  124   64   39    3   10    0 82.0   74 -384.0 267.0   66  156   36  102   38   53 0.4651 0.3953 0.2054 0.0164 0.0989 0.0240 0.0035 0.1889 0.1034 0.1821 0.4066        58.0         61.0          6.0          29.0          0.0           0.0         2.0          5.0         2.0          3.0         3.0          6.0         2.0         10.0         2.0          8.0         1.0          0.0        10.0         15.0        16.0         19.0                   NaN\n",
      "      5   Mike Carlson  M. Carlson  M. Carlson Acunsa GBC      2020  300  112   15   27   42   12   11    9    3    6    1 39.0   21   -5.0  77.0   29   52   15   52    9   15 0.4952 0.5000 0.1442 0.0557 0.1244 0.0162 0.0104 0.0925 0.0306 0.1884 0.4120        26.0         16.0          5.0          13.0          0.0           0.0         2.0          1.0         2.0          1.0         0.0          3.0         0.0          1.0         1.0          1.0         0.0          3.0         4.0         14.0         4.0          7.0                   NaN\n",
      "      6       Jan Span     J. Span     J. Span Acunsa GBC      2020  707  214   11   27   38   63   49   22    0    9    0 47.0   30 -272.0  54.0   44  118   39  168    9   14 0.3584 0.5874 0.0490 0.0173 0.0528 0.0169 0.0000 0.1446 0.0713 0.2242 0.3202        33.0         45.0         14.0          55.0          0.0           2.0         3.0          3.0         2.0          8.0         5.0          9.0         1.0          8.0         2.0          5.0         1.0          2.0        11.0         33.0        11.0         33.0                   NaN\n"
     ]
    }
   ],
   "source": [
    "# Eliminación de jugadores que hayan jugado menos de 100 minutos\n",
    "df_tablon_estadisticas = df_tablon_estadisticas[df_tablon_estadisticas['MIN'] > 100]\n",
    "\n",
    "# Eliminación de jugadores de los que no se tenga información en tiros de campo\n",
    "df_tablon_estadisticas = df_tablon_estadisticas[~df_tablon_estadisticas['GRUPO 1_IN'].isna()]\n",
    "\n",
    "# Eliminación de jugadores que tengan valores incoherentes en la variable eFG%\n",
    "df_tablon_estadisticas = df_tablon_estadisticas[(df_tablon_estadisticas['eFG%'] > 0) & (df_tablon_estadisticas['eFG%'] <= 1)]\n",
    "\n",
    "# Eliminación de jugadores que tengan valores incoherentes en la variable ORB%\n",
    "df_tablon_estadisticas = df_tablon_estadisticas[(df_tablon_estadisticas['ORB%'] > 0) & (df_tablon_estadisticas['ORB%'] <= 1)]\n",
    "\n",
    "# Eliminación de jugadores que tengan valores incoherentes en la variable FTr\n",
    "df_tablon_estadisticas = df_tablon_estadisticas[(df_tablon_estadisticas['FTr'] > 0) & (df_tablon_estadisticas['FTr'] <= 1)]\n",
    "\n",
    "print(\"#######################################\")\n",
    "print(\"# RESUMEN DEL TABLÓN DE ESTADISTICAS\")\n",
    "print(\"#######################################\")\n",
    "print(\"Nº de registros:\",df_tablon_estadisticas.shape[0])\n",
    "print(\"Nº de columnas:\",df_tablon_estadisticas.shape[1])\n",
    "print(\"Columnas de identificadores:\", (' | ').join(df_tablon_estadisticas.columns[0:6]))\n",
    "print(\"Columnas de estadísticas totales:\", (' | ').join(df_tablon_estadisticas.columns[6:27]))\n",
    "print(\"Columnas de estadísticas avanzadas:\", (' | ').join(df_tablon_estadisticas.columns[27:38]))\n",
    "print(\"Columnas de cartas de tiro:\", (' | ').join(df_tablon_estadisticas.columns[38:]))\n",
    "print(\"\\n\",df_tablon_estadisticas.head().to_string(index=False, col_space=4))"
   ]
  },
  {
   "cell_type": "markdown",
   "id": "a1673274-3f27-449e-9817-f932ae5ef38c",
   "metadata": {},
   "source": [
    "Como puede observarse, tras la aplicación de los filtros, el número de jugadores para los que se tiene información es de **752**. "
   ]
  },
  {
   "cell_type": "markdown",
   "id": "6e20e0cb-7569-4bbc-bfd7-690f0ba64059",
   "metadata": {},
   "source": [
    "## 3. Construcción de variables."
   ]
  },
  {
   "cell_type": "markdown",
   "id": "974713c2-0e04-479e-ab8a-d4136c0cfe38",
   "metadata": {},
   "source": [
    "Adicionalmente a las variables a las variables ya definidas en el resto de estadísticas, se ha visto la necesidad de crear 9 variables adicionales con respecto a las estadísticas de tiro que permitan representar cual es la zona de tiro preferida por el jugador y cual es la zona de tiro en la que el jugador tengan una mayor eficiencia. Es por este motivo que estas nuevas variables pueden dividirse en:\n",
    "* Volumetrías de zonas tiro:\n",
    "    * Volumen de tiro en *Pintura*. Representa los tiros realizados por el jugador dentro del grupo 1 con respecto al total de tiros realizados.\n",
    "    * Volumen de tiro en *Media distancia*. Representa los tiros realizados por el jugador desde el grupo 2, 3, 4 y 6 con respecto al total de tiros realizados.\n",
    "    * Volumen de tiro en *Triple frontal* . Representa los tiros realizados por el jugadores desde el grupo 8, 9 y 10 con respecto al total de tiros realizados.\n",
    "    * Volumen de tiro en *Triple desde las esquinas*. Representa los tiros realizados por el jugadores desde el grupo 7 y 11 con respecto al total de tiros realizados.\n",
    "* Porcentaje por zonas tiro:\n",
    "    * Porcentaje de acierto en *Pintura*. Representa el porcentaje de acierto del jugador en el grupo 1. \n",
    "    * Porcentaje de acierto en *Media distancia*. Representa el porcentaje de acierto del jugador en los grupos 2, 3, 4 y 6.\n",
    "    * Porcentaje de acierto en *Triple frontal*. Representa el porcentaje de acierto del jugador en los grupos 8, 9 y 10.\n",
    "    * Porcentaje de acierto en *Triple desde las esquinas*. Representa el porcentaje de acierto del jugador en los grupos 7 y 11.\n",
    "    * Porcentaje de acierto en *Tiro Libre*. Representa el porcentaje de acierto del jugador en el tiro libre.\n",
    " \n",
    "Es por esto que se pasa a la creación de estas estadísticas y se pasa a mostras el resultado final del conjunto de datos:"
   ]
  },
  {
   "cell_type": "code",
   "execution_count": 5,
   "id": "0f6cbb2c-7d97-4d16-b75e-cfe8858a397c",
   "metadata": {},
   "outputs": [
    {
     "name": "stdout",
     "output_type": "stream",
     "text": [
      "#######################################\n",
      "# RESUMEN DEL TABLÓN DE ESTADISTICAS\n",
      "#######################################\n",
      "Nº de registros: 752\n",
      "Nº de columnas: 70\n",
      "Columnas de identificadores: DORSAL | JUGADOR | JUGADOR_BS | JUGADOR_CT | EQUIPO | TEMPORADA\n",
      "Columnas de estadísticas totales: MIN | PTS | RO | RD | RT | AS | PER | REC | TAP | TR | MAT | FP | FR | +- | VAL | T2A | T2L | T3A | T3L | TLA | TLL\n",
      "Columnas de estadísticas avanzadas: eFG% | 3Pr | FTr | ORB% | DRB% | STL% | BLK% | TOV% | AST% | USG% | STOP%\n",
      "Columnas de cartas de tiro: GRUPO 1_IN | GRUPO 1_OUT | GRUPO 10_IN | GRUPO 10_OUT | GRUPO 11_IN | GRUPO 11_OUT | GRUPO 2_IN | GRUPO 2_OUT | GRUPO 3_IN | GRUPO 3_OUT | GRUPO 4_IN | GRUPO 4_OUT | GRUPO 5_IN | GRUPO 5_OUT | GRUPO 6_IN | GRUPO 6_OUT | GRUPO 7_IN | GRUPO 7_OUT | GRUPO 8_IN | GRUPO 8_OUT | GRUPO 9_IN | GRUPO 9_OUT | Fuera de límites_OUT | PINTURA_p | MID_RANGE_p | 3FRONT_p | 3CORNER_p | PINTURA_v | 3CORNER_v | 3FRONT_v | MID_RANGE_v | TL%\n",
      "\n",
      "  DORSAL        JUGADOR  JUGADOR_BS  JUGADOR_CT     EQUIPO TEMPORADA  MIN  PTS   RO   RD   RT   AS  PER  REC  TAP   TR  MAT   FP   FR     +-   VAL  T2A  T2L  T3A  T3L  TLA  TLL   eFG%    3Pr    FTr   ORB%   DRB%   STL%   BLK%   TOV%   AST%   USG%  STOP%  GRUPO 1_IN  GRUPO 1_OUT  GRUPO 10_IN  GRUPO 10_OUT  GRUPO 11_IN  GRUPO 11_OUT  GRUPO 2_IN  GRUPO 2_OUT  GRUPO 3_IN  GRUPO 3_OUT  GRUPO 4_IN  GRUPO 4_OUT  GRUPO 5_IN  GRUPO 5_OUT  GRUPO 6_IN  GRUPO 6_OUT  GRUPO 7_IN  GRUPO 7_OUT  GRUPO 8_IN  GRUPO 8_OUT  GRUPO 9_IN  GRUPO 9_OUT  Fuera de límites_OUT  PINTURA_p  MID_RANGE_p  3FRONT_p  3CORNER_p  PINTURA_v  3CORNER_v  3FRONT_v  MID_RANGE_v      TL%\n",
      "      1     Johnny Dee      J. Dee      J. Dee Acunsa GBC      2020  747  382   11   57   68   41   52   29    1    6    0 83.0   56 -187.0 238.0   38  100   86  214   48   56 0.5318 0.6815 0.1783 0.0164 0.1055 0.0210 0.0014 0.1343 0.0445 0.2430 0.3933        29.0         31.0         31.0          40.0          6.0           1.0         0.0          6.0         4.0         12.0         1.0          7.0         1.0          6.0         4.0          6.0         1.0          0.0        34.0         50.0        12.0         30.0                   0.0   0.483333     0.212766  0.390863      0.875   0.192308   0.025641  0.631410     0.150641 0.857143\n",
      "      2     Viny Okouo    V. Okouo    V. Okouo Acunsa GBC      2020  692  354   63  131  194    9   73   20   12    8   12 90.0   94 -271.0 327.0  145  284    0    2   64  108 0.5070 0.0070 0.3776 0.1013 0.2618 0.0157 0.0180 0.1886 0.0105 0.2730 0.5470       139.0        119.0          0.0           0.0          0.0           0.0         0.0          2.0         1.0          1.0         1.0          4.0         3.0         10.0         0.0          1.0         0.0          0.0         0.0          2.0         0.0          0.0                   0.0   0.538760     0.217391  0.000000      0.000   0.911661   0.000000  0.007067     0.081272 0.592593\n",
      "      3 Lucas Faggiano L. Faggiano L. Faggiano Acunsa GBC      2020  881  278   13   63   76  124   64   39    3   10    0 82.0   74 -384.0 267.0   66  156   36  102   38   53 0.4651 0.3953 0.2054 0.0164 0.0989 0.0240 0.0035 0.1889 0.1034 0.1821 0.4066        58.0         61.0          6.0          29.0          0.0           0.0         2.0          5.0         2.0          3.0         3.0          6.0         2.0         10.0         2.0          8.0         1.0          0.0        10.0         15.0        16.0         19.0                   0.0   0.487395     0.255814  0.336842      1.000   0.461240   0.003876  0.368217     0.166667 0.716981\n",
      "      5   Mike Carlson  M. Carlson  M. Carlson Acunsa GBC      2020  300  112   15   27   42   12   11    9    3    6    1 39.0   21   -5.0  77.0   29   52   15   52    9   15 0.4952 0.5000 0.1442 0.0557 0.1244 0.0162 0.0104 0.0925 0.0306 0.1884 0.4120        26.0         16.0          5.0          13.0          0.0           0.0         2.0          1.0         2.0          1.0         0.0          3.0         0.0          1.0         1.0          1.0         0.0          3.0         4.0         14.0         4.0          7.0                   0.0   0.619048     0.416667  0.276596      0.000   0.403846   0.028846  0.451923     0.115385 0.600000\n",
      "      6       Jan Span     J. Span     J. Span Acunsa GBC      2020  707  214   11   27   38   63   49   22    0    9    0 47.0   30 -272.0  54.0   44  118   39  168    9   14 0.3584 0.5874 0.0490 0.0173 0.0528 0.0169 0.0000 0.1446 0.0713 0.2242 0.3202        33.0         45.0         14.0          55.0          0.0           2.0         3.0          3.0         2.0          8.0         5.0          9.0         1.0          8.0         2.0          5.0         1.0          2.0        11.0         33.0        11.0         33.0                   0.0   0.423077     0.282609  0.229299      0.200   0.272727   0.017483  0.548951     0.160839 0.642857\n"
     ]
    }
   ],
   "source": [
    "# Se realiza el sumatorio de los tiros totales de cada uno de los jugadores\n",
    "tiros_totales = (df_tablon_estadisticas['GRUPO 1_OUT'] + df_tablon_estadisticas['GRUPO 1_IN']) + (df_tablon_estadisticas['GRUPO 2_OUT'] + df_tablon_estadisticas['GRUPO 2_IN']) + (df_tablon_estadisticas['GRUPO 3_OUT'] + df_tablon_estadisticas['GRUPO 3_IN']) + (df_tablon_estadisticas['GRUPO 4_OUT'] + df_tablon_estadisticas['GRUPO 4_IN']) + (df_tablon_estadisticas['GRUPO 5_OUT'] + df_tablon_estadisticas['GRUPO 5_IN']) + (df_tablon_estadisticas['GRUPO 6_OUT'] + df_tablon_estadisticas['GRUPO 6_IN']) +(df_tablon_estadisticas['GRUPO 7_OUT'] + df_tablon_estadisticas['GRUPO 7_IN']) + (df_tablon_estadisticas['GRUPO 8_OUT'] + df_tablon_estadisticas['GRUPO 8_IN']) + (df_tablon_estadisticas['GRUPO 9_OUT'] + df_tablon_estadisticas['GRUPO 9_IN']) + (df_tablon_estadisticas['GRUPO 10_OUT'] + df_tablon_estadisticas['GRUPO 10_IN']) +(df_tablon_estadisticas['GRUPO 11_OUT'] + df_tablon_estadisticas['GRUPO 11_IN'])\n",
    "\n",
    "# Se realiza la creación de los volumenes de tiro por zona \n",
    "df_tablon_estadisticas['PINTURA_p'] = df_tablon_estadisticas['GRUPO 1_IN'] / (df_tablon_estadisticas['GRUPO 1_OUT'] + df_tablon_estadisticas['GRUPO 1_IN'])\n",
    "df_tablon_estadisticas['MID_RANGE_p'] = (df_tablon_estadisticas['GRUPO 2_IN'] + df_tablon_estadisticas['GRUPO 3_IN'] + df_tablon_estadisticas['GRUPO 4_IN'] + df_tablon_estadisticas['GRUPO 5_IN'] + df_tablon_estadisticas['GRUPO 6_IN']) / ((df_tablon_estadisticas['GRUPO 2_OUT'] + df_tablon_estadisticas['GRUPO 2_IN']) + (df_tablon_estadisticas['GRUPO 3_OUT'] + df_tablon_estadisticas['GRUPO 3_IN']) + (df_tablon_estadisticas['GRUPO 4_OUT'] + df_tablon_estadisticas['GRUPO 4_IN']) + (df_tablon_estadisticas['GRUPO 5_OUT'] + df_tablon_estadisticas['GRUPO 5_IN']) + (df_tablon_estadisticas['GRUPO 6_OUT'] + df_tablon_estadisticas['GRUPO 6_IN']))\n",
    "df_tablon_estadisticas['3FRONT_p'] = (df_tablon_estadisticas['GRUPO 8_IN'] + df_tablon_estadisticas['GRUPO 9_IN'] + df_tablon_estadisticas['GRUPO 10_IN'])/ ((df_tablon_estadisticas['GRUPO 8_OUT'] + df_tablon_estadisticas['GRUPO 8_IN']) + (df_tablon_estadisticas['GRUPO 9_OUT'] + df_tablon_estadisticas['GRUPO 9_IN']) + (df_tablon_estadisticas['GRUPO 10_OUT'] + df_tablon_estadisticas['GRUPO 10_IN']))\n",
    "df_tablon_estadisticas['3CORNER_p'] = (df_tablon_estadisticas['GRUPO 7_IN'] + df_tablon_estadisticas['GRUPO 11_IN'])/ ((df_tablon_estadisticas['GRUPO 7_OUT'] + df_tablon_estadisticas['GRUPO 7_IN']) + (df_tablon_estadisticas['GRUPO 11_OUT'] + df_tablon_estadisticas['GRUPO 11_IN']))\n",
    "\n",
    "# Se realiza la creación de los porcentaje de acierto por zona \n",
    "df_tablon_estadisticas['PINTURA_v'] = (df_tablon_estadisticas['GRUPO 1_OUT'] + df_tablon_estadisticas['GRUPO 1_IN']) / tiros_totales\n",
    "df_tablon_estadisticas['3CORNER_v'] = ((df_tablon_estadisticas['GRUPO 7_OUT'] + df_tablon_estadisticas['GRUPO 7_IN']) + (df_tablon_estadisticas['GRUPO 11_OUT'] + df_tablon_estadisticas['GRUPO 11_IN'])) / tiros_totales\n",
    "df_tablon_estadisticas['3FRONT_v'] = ((df_tablon_estadisticas['GRUPO 8_OUT'] + df_tablon_estadisticas['GRUPO 8_IN']) + (df_tablon_estadisticas['GRUPO 9_OUT'] + df_tablon_estadisticas['GRUPO 9_IN']) + (df_tablon_estadisticas['GRUPO 10_OUT'] + df_tablon_estadisticas['GRUPO 10_IN'])) / tiros_totales\n",
    "df_tablon_estadisticas['MID_RANGE_v'] = ((df_tablon_estadisticas['GRUPO 2_OUT'] + df_tablon_estadisticas['GRUPO 2_IN']) + (df_tablon_estadisticas['GRUPO 3_OUT'] + df_tablon_estadisticas['GRUPO 3_IN']) + (df_tablon_estadisticas['GRUPO 4_OUT'] + df_tablon_estadisticas['GRUPO 4_IN']) + (df_tablon_estadisticas['GRUPO 5_OUT'] + df_tablon_estadisticas['GRUPO 5_IN']) + (df_tablon_estadisticas['GRUPO 6_OUT'] + df_tablon_estadisticas['GRUPO 6_IN'])) / tiros_totales\n",
    "\n",
    "# Se realiza el cálculo del porcentaje de acierto desde la línea de tiros libres\n",
    "df_tablon_estadisticas['TL%'] = df_tablon_estadisticas['TLA'] / df_tablon_estadisticas['TLL']\n",
    "df_tablon_estadisticas = df_tablon_estadisticas.fillna(0.00)\n",
    "\n",
    "print(\"#######################################\")\n",
    "print(\"# RESUMEN DEL TABLÓN DE ESTADISTICAS\")\n",
    "print(\"#######################################\")\n",
    "print(\"Nº de registros:\",df_tablon_estadisticas.shape[0])\n",
    "print(\"Nº de columnas:\",df_tablon_estadisticas.shape[1])\n",
    "print(\"Columnas de identificadores:\", (' | ').join(df_tablon_estadisticas.columns[0:6]))\n",
    "print(\"Columnas de estadísticas totales:\", (' | ').join(df_tablon_estadisticas.columns[6:27]))\n",
    "print(\"Columnas de estadísticas avanzadas:\", (' | ').join(df_tablon_estadisticas.columns[27:38]))\n",
    "print(\"Columnas de cartas de tiro:\", (' | ').join(df_tablon_estadisticas.columns[38:]))\n",
    "print(\"\\n\",df_tablon_estadisticas.head().to_string(index=False, col_space=4))"
   ]
  },
  {
   "cell_type": "markdown",
   "id": "7638dc72-7bf1-4e83-95d2-9d79b29943a1",
   "metadata": {},
   "source": [
    "Como puede observarse, tras la creación de las nueve estadísticas, el conjunto de datos cuenta con **70** variables."
   ]
  },
  {
   "cell_type": "markdown",
   "id": "f9513640-31aa-4ccb-bc7d-c6e4704c74a6",
   "metadata": {},
   "source": [
    "## 4. Creación del tablón de estadísticas"
   ]
  },
  {
   "cell_type": "markdown",
   "id": "0649340b-1293-4046-b12d-6e0ca3ed3f4c",
   "metadata": {},
   "source": [
    "Tras la realización de los pasos anteriores, se pasa a realizar la construcción del *Tablon de estadísticas* en el cual será representado cada jugador a partir de diferentes variables estadísticas que permitan conocer el desempeño de este durante los partidos de baloncesto. Es por este motivo que, las variables que han sido seleccionadas son las siguientes:\n",
    "* *ORB%*. Se selecciona el porcentaje de rebote ofensivo capturado por un jugador debido a que esta variable permite poner el valor del RO en el contexto de cuantos rebotes había disponibles.\n",
    "* *DRB%*. Se selecciona el porcentaje de rebote defensivo capturado por un jugador debido a que esta variable permite poner el valor del RD en el contexto de cuantos rebotes había disponibles.\n",
    "* *STL%*. Se selecciona el porcentaje de pérdidas realizadas debido a que esta variable permite conocer el volumen de perdidas realizadas por un jugador en función de su contexto.\n",
    "* *BLK%*. Se selecciona el porcentaje de tapones realizadas debido a que esta variable permite conocer el volumen de tapones realizadas por un jugador en función de su contexto.\n",
    "* *TOV%*. Se selecciona el porcentaje de pérdidas realizadas debido a que esta variable permite conocer el volumen de acciones que finalizó el jugador y que acabaron en pérdida.\n",
    "* *AST%*. Se selecciona el porcentaje de asistencias realizadas debido a que esta variable permite conocer el volumen de asistencias realizadas por un jugador en función de su contexto.\n",
    "* *FTr*. Se selecciona el volumen de tiros libres debido a que esta variable permite conocer la verticalidad que tiene un jugador de baloncesto.\n",
    "* *Volumen y porcentajes de zonas de tiro.* Se seleccionan las variables construidas con respecto a las zonas de tiro para conocer las preferencias de los jugadores y zonas en los que estos son más efectivos.\n",
    "\n",
    "Se pasa a la construcción y guardado del *Tablon de estadísticas* el cual contará con 16 variables y estadísticas y 4 variables identificadoras para dar información a 756 registros:"
   ]
  },
  {
   "cell_type": "code",
   "execution_count": 6,
   "id": "20128b9f-20e2-43bf-8fd9-574ea33a8a44",
   "metadata": {},
   "outputs": [
    {
     "name": "stdout",
     "output_type": "stream",
     "text": [
      "#######################################\n",
      "# RESUMEN DEL TABLÓN DE ESTADISTICAS\n",
      "#######################################\n",
      "Nº de registros: 752\n",
      "Nº de columnas: 20\n",
      "Columnas de identificadores: TEMPORADA | EQUIPO | DORSAL | JUGADOR_BS\n",
      "Columnas de estadísticas: STL% | BLK% | TOV% | AST% | FTr | TL% | PINTURA_p | PINTURA_v | MID_RANGE_p | MID_RANGE_v | 3FRONT_p | 3FRONT_v | 3CORNER_p | 3CORNER_v\n",
      "\n",
      " TEMPORADA     EQUIPO  DORSAL  JUGADOR_BS   ORB%   DRB%   STL%   BLK%   TOV%   AST%    FTr      TL%  PINTURA_p  PINTURA_v  MID_RANGE_p  MID_RANGE_v  3FRONT_p  3FRONT_v  3CORNER_p  3CORNER_v\n",
      "     2020 Acunsa GBC       1      J. Dee 0.0164 0.1055 0.0210 0.0014 0.1343 0.0445 0.1783 0.857143   0.483333   0.192308     0.212766     0.150641  0.390863  0.631410      0.875   0.025641\n",
      "     2020 Acunsa GBC       2    V. Okouo 0.1013 0.2618 0.0157 0.0180 0.1886 0.0105 0.3776 0.592593   0.538760   0.911661     0.217391     0.081272  0.000000  0.007067      0.000   0.000000\n",
      "     2020 Acunsa GBC       3 L. Faggiano 0.0164 0.0989 0.0240 0.0035 0.1889 0.1034 0.2054 0.716981   0.487395   0.461240     0.255814     0.166667  0.336842  0.368217      1.000   0.003876\n",
      "     2020 Acunsa GBC       5  M. Carlson 0.0557 0.1244 0.0162 0.0104 0.0925 0.0306 0.1442 0.600000   0.619048   0.403846     0.416667     0.115385  0.276596  0.451923      0.000   0.028846\n",
      "     2020 Acunsa GBC       6     J. Span 0.0173 0.0528 0.0169 0.0000 0.1446 0.0713 0.0490 0.642857   0.423077   0.272727     0.282609     0.160839  0.229299  0.548951      0.200   0.017483\n"
     ]
    }
   ],
   "source": [
    "# Se realiza la selección de las variables\n",
    "df_tablon_estadísticas_final = df_tablon_estadisticas[['TEMPORADA', 'EQUIPO', 'DORSAL', 'JUGADOR_BS','ORB%','DRB%', 'STL%', 'BLK%', 'TOV%', 'AST%','FTr','TL%', 'PINTURA_p', 'PINTURA_v', 'MID_RANGE_p', 'MID_RANGE_v','3FRONT_p', '3FRONT_v', '3CORNER_p', '3CORNER_v']]\n",
    "\n",
    "# Se realiza el guardado de las variables\n",
    "ruta_tablon = 'E:/TFM/02. Datos/ACB/TABLON ESTADÍSTICAS'\n",
    "df_tablon_estadísticas_final.to_csv(ruta_tablon + \"/\" + \"TABLON_ESTADISTICAS_FINAL.csv\", sep = ';', index=False)\n",
    "\n",
    "print(\"#######################################\")\n",
    "print(\"# RESUMEN DEL TABLÓN DE ESTADISTICAS\")\n",
    "print(\"#######################################\")\n",
    "print(\"Nº de registros:\",df_tablon_estadísticas_final.shape[0])\n",
    "print(\"Nº de columnas:\",df_tablon_estadísticas_final.shape[1])\n",
    "print(\"Columnas de identificadores:\", (' | ').join(df_tablon_estadísticas_final.columns[0:4]))\n",
    "print(\"Columnas de estadísticas:\", (' | ').join(df_tablon_estadísticas_final.columns[6:]))\n",
    "print(\"\\n\",df_tablon_estadísticas_final.head().to_string(index=False, col_space=4))"
   ]
  },
  {
   "cell_type": "code",
   "execution_count": null,
   "id": "13914a3d-5377-4af8-81c8-115a4f88c7ad",
   "metadata": {},
   "outputs": [],
   "source": []
  }
 ],
 "metadata": {
  "kernelspec": {
   "display_name": "Python 3 (ipykernel)",
   "language": "python",
   "name": "python3"
  },
  "language_info": {
   "codemirror_mode": {
    "name": "ipython",
    "version": 3
   },
   "file_extension": ".py",
   "mimetype": "text/x-python",
   "name": "python",
   "nbconvert_exporter": "python",
   "pygments_lexer": "ipython3",
   "version": "3.11.7"
  }
 },
 "nbformat": 4,
 "nbformat_minor": 5
}
