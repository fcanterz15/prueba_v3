{
 "cells": [
  {
   "cell_type": "code",
   "execution_count": 1,
   "id": "e97665ce-926d-4b55-b864-163dbcc8c70b",
   "metadata": {},
   "outputs": [],
   "source": [
    "import pandas as pd\n",
    "import os\n",
    "from funciones_auxiliares import *\n",
    "import warnings\n",
    "warnings.filterwarnings('ignore')"
   ]
  },
  {
   "cell_type": "markdown",
   "id": "6eeda309-79ef-4f0b-b9a7-e1250251247a",
   "metadata": {},
   "source": [
    "# 2.3 Descarga de *Box Score*"
   ]
  },
  {
   "cell_type": "markdown",
   "id": "7d1a90fa-da6d-4000-afb1-605c25a4f11f",
   "metadata": {},
   "source": [
    "La tabla del *Box Score* es la tabla de información que se utilizaba habitualmente en los partidos de baloncesto para reflejar las estadísticas obtenidas por los jugadores durante estos. A través de este notebook se buscará dar explicación del lugar de donde ha sido extraida la informació como a que información ha sido descargada. Para ello, se estructurará el notebook en los siguiente puntos:\n",
    "\n",
    "* **1. Descripción del portal web.** Se hará una revisión de la información que es almacenada dentro del portal y se explicará el método de descarga de cada uno de los box scores obtenidos por los equipos.\n",
    "* **2. Revisión de información y estructura de los ficheros.** Tras la descarga de la información, se hará una revisión de la información individualizada de los ficheros descargados y la revisión conjunta de los ficheros descargados.\n",
    "\n",
    "A través de esos puntos se realizará la comprensión y entendimiento del trabajo realizado para la descarga de los ficheros referentes al box score."
   ]
  },
  {
   "cell_type": "markdown",
   "id": "5c176db5-9bc6-4e93-9346-dc82de8bb476",
   "metadata": {},
   "source": [
    "## 1. Descripción del portal web y método de descarga"
   ]
  },
  {
   "cell_type": "markdown",
   "id": "787e8583-4003-445b-a81c-d81851a218ac",
   "metadata": {},
   "source": [
    "Para la descarga del *Box Score* de cada uno de los partidos ha sido utilizado la página web https://jv.acb.com/es/ que como se ha comentado en la sección de la creación del *Diccionario de partidos* es la página web en la que los aficionados puede ver los resultados y estadísticas de los partidos disputados. Como se mostró durante la creación del diccionario, cada partido disputado tiene una url la cual permite al usuario acceder a las estadísticas del partido. Esta url, está compuesta por el enlace a la página oficial de la jornada virtual de la liga junto a un identificador numérico del partido y la sección que se quiere visitar. Es por este motivo, que para poder acceder al *Box Score* de cualquier partido la url debe estar compuesta por la url (https://jv.acb.com/es/), el identificador del partido y la sección *estadisticas/ficha*.\n",
    "\n",
    "Teniendo esto presente, se muestra a continuación el partido disputado en la temporada *2022-2023* entre el Básquet Girona y el Real Madrid durante la primera jornada de la temporada a la que se puede tener acceso mediante el enlace https://jv.acb.com/es/103350/estadisticas/ficha. Dentro de la página web del partido, podemos encontras dos secciones, la primera de ellas es la siguiente:\n",
    "\n",
    "![imagen](imagenes/ACB_MENU_BOX_SCORE.png)\n",
    "\n",
    "En esta primera sección podemos encontrar los equipos participantes en el encuentro, la fecha y el resultado del partido junto al tanteo por cuartos. Además, se puede observar como el *Box Score* se encuentra dentro del apartado *Estadísticas* en su sección de *Ficha*.\n",
    "\n",
    "Por otro lado, la segunda sección de la página web es en la que se muestra el *Box Score* de los equipos. Esta sección es la siguiente:\n",
    "\n",
    "![imagen](imagenes/ACB_BOX_SCORE.png)\n",
    "\n",
    "Esta sección está compuesta por dos botones principales los cuales nos permiten seleccionar el equipo del que se quieren visualizar las estadísticas además de cinco botones secundarios los cuales permiten visualizar la estadísticas complentas del partido o las estadísticas de un cuarto específico. Dentro del *Box Score* podemos encontrar que se almacena la información de cada uno de los jugadores que participaron en el encuentro para uno de los equipos junto a las estadísticas del equipo y las estadísticas totales del equipo. Dentro de la información que es almacenada en el *Box Score* encontramos la siguiente:\n",
    "\n",
    "* NO. Número del jugador.\r\n",
    "* JUGADOR. Nombre del jugador.\r\n",
    "* MIN. Minutos disputados por el jugador.\r\n",
    "* PTS. Puntos realizados por el jugador.\r\n",
    "* T2. Tiros anotados y realizados de dos puntos por el jugador.\r\n",
    "* T2%. Porcentaje de tiros anotados con respecto a los lanzados de dos puntos por el jugador.\r\n",
    "* T3. Tiros anotados y realizados de tres puntos por el jugador.\r\n",
    "* T3%. Porcentaje de tiros anotados con respecto a los lanzados de tres puntos por el jugador.\r\n",
    "* TL. Tiros libres anotados y realizados por el jugador.\r\n",
    "* TL%. Porcentaje de tiros libres anotados con respecto a los lanzados por el jugador.\r\n",
    "* RO. Rebotes ofensivos capturados por el jugador.\r\n",
    "* RD. Rebotes defensivos capturados por el jugador.\r\n",
    "* RT. Rebotes totales capturados por el jugador.\r\n",
    "* AS. Asistencias realizadas por el jugador.\r\n",
    "* PÉR. Pérdidas cometidas por el jugador.\r\n",
    "* REC. Recuperaciones realizadas por el jugador.\r\n",
    "* TAP. Tapones realizados por el jugador.\r\n",
    "* TR. Tapones realizados por el jugador.\r\n",
    "* MAT. Mates realizados por el jugador.\r\n",
    "* FP. Faltas personales realizadas por el jugador.\r\n",
    "* FR. Faltas recibidas por el jugador.\r\n",
    "* '+-'. Puntos a favor o en contra dugador está en pista.\n",
    "* VAL. Valoración del jugador en el partido.\n",
    "\n",
    "A través del *Diccionario de partidos* y técnicas de web scrapping que permite la interacción con el navegador y la descargar del código fuente de partidos, han sido descargados todos los *Box Scores* de los partidos recogidos dentro del diccionario. Para esta descarga, ha sido desarrolla el script de código [03_Descarga_Box_Score](03_Descarga_Box_Score.py) que permite la descarga y almacenamiento de los *Box Score* de ambos equipos en las rutas establecidas.aloración del jugador."
   ]
  },
  {
   "cell_type": "markdown",
   "id": "29a9b714-0594-4f55-bc27-447b2d5f4b7f",
   "metadata": {},
   "source": [
    "## 2. Revisión de información y estructura de los ficheros"
   ]
  },
  {
   "cell_type": "markdown",
   "id": "5e50f35d-cc3f-4ebc-8f0d-39bcfdfa855c",
   "metadata": {},
   "source": [
    "Como ha sido comentado durante el apartado anterior, se ha realizado la descarga de todos los *Box Scores* de los partidos almacenados en el *Diccionario de partidos*. Es por este motivo que para entender y explicar que información ha sido descargada, se pasa a realizar la carga del primer partido disputado en cada temporada en la primera jornada:"
   ]
  },
  {
   "cell_type": "code",
   "execution_count": 2,
   "id": "7b8e3ff9-4c7b-46d0-bf4f-3c53f09a3682",
   "metadata": {},
   "outputs": [],
   "source": [
    "# Ruta para acceder a la información de las jornas de cada una de las temporadas\n",
    "ruta_jornadas = 'E:/TFM/02. Datos/ACB/JORNADAS'\n",
    "\n",
    "# Ruta al primer partido de cada temporada\n",
    "partido_2019 = 'E:/TFM/02. Datos/ACB/JORNADAS/2019/Jornada 1/20190924_Montakit Fuenlabrada_VS_San Pablo Burgos/Montakit Fuenlabrada.csv'\n",
    "partido_2020 = 'E:/TFM/02. Datos/ACB/JORNADAS/2020/Jornada 1/20200919_Acunsa GBC_VS_Real Madrid/Acunsa GBC.csv'\n",
    "partido_2021 = 'E:/TFM/02. Datos/ACB/JORNADAS/2021/Jornada 1/20210918_Coosur Real Betis_VS_MoraBanc Andorra/Coosur Real Betis.csv'\n",
    "partido_2022 = 'E:/TFM/02. Datos/ACB/JORNADAS/2022/Jornada 1/20220928_Bàsquet Girona_VS_Real Madrid/Bàsquet Girona.csv'\n",
    "\n",
    "# Lectura de un partido de muestra cada temporada\n",
    "df_partido_2019 = pd.read_csv(partido_2019, sep=';')\n",
    "df_partido_2020 = pd.read_csv(partido_2020, sep=';')\n",
    "df_partido_2021 = pd.read_csv(partido_2021, sep=';')\n",
    "df_partido_2022 = pd.read_csv(partido_2022, sep=';')"
   ]
  },
  {
   "cell_type": "markdown",
   "id": "aae310fa-c390-4d64-970e-04fc33f11249",
   "metadata": {},
   "source": [
    "Tras realizar la carga de los cuatro partidos, se pasa a mostrar que información ha sido cargada de cada uno de los *Box scores*:"
   ]
  },
  {
   "cell_type": "code",
   "execution_count": 3,
   "id": "22eb66bb-3be2-454d-9a71-a62221a1ed48",
   "metadata": {},
   "outputs": [
    {
     "name": "stdout",
     "output_type": "stream",
     "text": [
      "###############################################\n",
      "# COLUMNAS DEL BOX SCORE EN CADA TEMPORADA\n",
      "###############################################\n",
      "TEMPORADA 2019: Unnamed: 0 | NO. | JUGADOR | MIN | PTS | T2 | T2% | T3 | T3% | TL | TL% | RO | RD | RT | AS | PÉR | REC | TAP | TR | MAT | FP | FR | +- | VAL\n",
      "TEMPORADA 2020: Unnamed: 0 | NO. | JUGADOR | MIN | PTS | T2 | T2% | T3 | T3% | TL | TL% | RO | RD | RT | AS | PÉR | REC | TAP | TR | MAT | FP | FR | +- | VAL\n",
      "TEMPORADA 2021: Unnamed: 0 | NO. | JUGADOR | MIN | PTS | T2 | T2% | T3 | T3% | TL | TL% | RO | RD | RT | AS | PÉR | REC | TAP | TR | MAT | FP | FR | +- | VAL\n",
      "TEMPORADA 2022: Unnamed: 0 | NO. | JUGADOR | MIN | PTS | T2 | T2% | T3 | T3% | TL | TL% | RO | RD | RT | AS | PÉR | REC | TAP | TR | MAT | FP | FR | +- | VAL\n"
     ]
    }
   ],
   "source": [
    "# Visualización de columnas de cada dataframe\n",
    "print(\"###############################################\")\n",
    "print(\"# COLUMNAS DEL BOX SCORE EN CADA TEMPORADA\")\n",
    "print(\"###############################################\")\n",
    "l_col_2019 = [col for col in df_partido_2019.columns]\n",
    "print(\"TEMPORADA 2019:\",' | '.join(l_col_2019))\n",
    "l_col_2020 = [col for col in df_partido_2020.columns]\n",
    "print(\"TEMPORADA 2020:\",' | '.join(l_col_2020))\n",
    "l_col_2021 = [col for col in df_partido_2021.columns]\n",
    "print(\"TEMPORADA 2021:\",' | '.join(l_col_2021))\n",
    "l_col_2022 = [col for col in df_partido_2022.columns]\n",
    "print(\"TEMPORADA 2022:\",' | '.join(l_col_2022))"
   ]
  },
  {
   "cell_type": "markdown",
   "id": "1f9c050e-dee8-467e-bfed-75f9878033bf",
   "metadata": {},
   "source": [
    "Como puede observar, cada uno de los *Box Scores* almacena la misma información para cada una de las temporadas. Sin embargo, se observa que en todas las temporadas existe una columna llamada *Unnamed: 0* por lo que se pasa revisar la estructura del primer partido de la temporada *2022-2023*:"
   ]
  },
  {
   "cell_type": "code",
   "execution_count": 4,
   "id": "da85e2ea-6e43-48b5-a36d-8d0fc3d8caf4",
   "metadata": {},
   "outputs": [
    {
     "name": "stdout",
     "output_type": "stream",
     "text": [
      "###############################################\n",
      "# ANÁLISIS DE BOX SCORE 2022\n",
      "###############################################\n",
      "Nº de columnas: 24\n",
      "Nº de registros: 14\n",
      "Box Score 2022:\n",
      "Unnamed: 0  NO.      JUGADOR   MIN  PTS   T2  T2%    T3  T3%    TL  TL%   RO   RD   RT   AS  PÉR  REC  TAP   TR  MAT   FP   FR    +-  VAL\n",
      "       NaN  4.0      E. Vila 24:32    6  3/6  50%   0/3   0%   0/0   0%    1    6    7    0    0    1    0    2    0    1    1  21.0  6.0\n",
      "       NaN  5.0    K. Taylor 26:00   22  4/9  44%   2/2 100%   8/9  88%    3    2    5    6    3    2    0    1    1    3    4  11.0 26.0\n",
      "       NaN 11.0   D. Miletic 25:22   13  5/5 100%   0/1   0%   3/4  75%    1    3    4    0    2    0    3    0    2    3    2   9.0 15.0\n",
      "       NaN 24.0    J. Franch 13:24    2  1/2  50%   0/2   0%   0/0   0%    0    0    0    2    3    2    0    0    0    2    2   7.0  0.0\n",
      "       NaN 33.0     M. Gasol 25:22   21  1/5  20%   3/3 100% 10/12  83%    1    6    7    7    0    0    1    2    0    1    7  11.0 34.0\n",
      "       NaN  2.0 M. Fjellerup 14:24    8  4/6  66%   0/3   0%   0/0   0%    1    1    2    0    0    1    0    1    0    2    0  -2.0  3.0\n",
      "       NaN  7.0  P. Figueras 18:14    6  0/3   0%   2/4  50%   0/0   0%    0    0    0    2    0    1    0    0    0    0    0  -8.0  4.0\n",
      "       NaN  8.0   R. Prkacin 10:00    0  0/4   0%   0/1   0%   0/0   0%    1    2    3    1    0    0    0    0    0    0    0 -21.0 -1.0\n",
      "       NaN 10.0     Q. Colom 17:55    7  1/2  50%   1/3  33%   2/2 100%    0    1    1    3    1    0    0    0    0    1    4 -14.0 10.0\n",
      "       NaN 21.0    A. Bursac 12:46    3  0/0   0%   1/1 100%   0/0   0%    1    1    2    0    2    1    0    0    0    1    1 -17.0  4.0\n",
      "       NaN 28.0   O. Hanzlik  3:32    0  0/0   0%   0/0   0%   0/0   0%    0    0    0    0    0    0    0    0    0    0    0 -12.0  0.0\n",
      "       NaN 29.0    P. Garino  8:22    0  0/0   0%   0/1   0%   0/0   0%    1    0    1    0    0    1    0    0    0    0    0 -15.0  1.0\n",
      "    Equipo  NaN            0   0/0    0  0/0    0   0/0    0     0    1    1    0    0    0    0    0    0    0    0    0    1   NaN  NaN\n",
      "   Totales  NaN           88 19/42   45 9/24   37 23/27   85    10   23   33   21   11    9    4    6    3   14   21   -6  103   NaN  NaN\n"
     ]
    }
   ],
   "source": [
    "print(\"###############################################\")\n",
    "print(\"# ANÁLISIS DE BOX SCORE 2022\")\n",
    "print(\"###############################################\")\n",
    "\n",
    "print(\"Nº de columnas:\", len(df_partido_2022.columns))\n",
    "print(\"Nº de registros:\", len(df_partido_2022))\n",
    "print(\"Box Score 2022:\")\n",
    "print(df_partido_2022.to_string(index=False, col_space=4))"
   ]
  },
  {
   "cell_type": "markdown",
   "id": "5f0cfde0-901c-4302-a308-e9eda89ec3e3",
   "metadata": {},
   "source": [
    "Como puede observarse, la columna *Unnamed: 0* es la que permite diferencias las estadísticas de equipo y los totales del equipo con respecto a las estadísticas de jugadores. Por otro lado, se puede observar los siguientes aspectos del resto de columnas:\n",
    "* MIN. En la columna se muestran los minutos disputados por el jugador en formato de minutos:segundos.\r\n",
    "* T2. Se muestran los tiros anotados y lanzados de dos puntos por el jugador con el carácter */* como separador.\r\n",
    "* T2%. Se muestra el valor numérico del porcentaje obtenido con respecto a los tiros de dos puntos junto al caracter *%*.\r\n",
    "* T3. Se muestran los tiros anotados y lanzados de tres puntos por el jugador con el carácter */* como separador.\r\n",
    "* T3%. Se muestra el valor numérico del porcentaje obtenido con respecto a los tiros de tres puntos junto al caracter *%*.\r\n",
    "* TL. Se muestran los tiros libres anotados y lanzados por el jugador con el carácter */* como separador.\r\n",
    "* TL%. Se muestra el valor numérico del porcentaje obtenido con respecto a los tiros libres junto al caracter *%*.\r\n",
    "* '+-'. Se representa con el valor numérico negativo con el caract\n",
    "\n",
    "Analizada la información descargada, se pasa a realizar el análisis de volumetrías con respecto a los datos descargados para poder saber el volumen de información con la que se trabajará:er *-*."
   ]
  },
  {
   "cell_type": "code",
   "execution_count": 5,
   "id": "87e646f3-a3f4-4f33-9452-bd640bce1d89",
   "metadata": {},
   "outputs": [
    {
     "name": "stdout",
     "output_type": "stream",
     "text": [
      "###############################################\n",
      "# ANÁLISIS DE CONSISTENCIA EN LOS BOX SCORE\n",
      "###############################################\n",
      "El número de partidos descargados es: 1192\n",
      "El número de ficheros de box score descargados es: 2384\n",
      "El número de registros de box score descargados es: 28295\n",
      "El número de valores vacíos dentro del dataframe es: 0\n",
      "El número de valores nulos ('') dentro del dataframe es: 0\n"
     ]
    }
   ],
   "source": [
    "# Se seleccionan los directorios de las jornadas\n",
    "l_dir_temporada = os.listdir(ruta_jornadas)\n",
    "\n",
    "# Se inicializan los contadores para el estudio\n",
    "contador_vacios = 0\n",
    "contador_nulos = 0 \n",
    "contador_registros = 0\n",
    "contador_ficheros = 0\n",
    "contador_partidos = 0\n",
    "\n",
    "for dir_temporada in l_dir_temporada:\n",
    "    ruta_temporada = ruta_jornadas + '/' + dir_temporada\n",
    "    l_dir_jornadas = os.listdir(ruta_temporada)\n",
    "    \n",
    "    for dir_jornada in l_dir_jornadas:\n",
    "        ruta_jornada = ruta_temporada + '/' + dir_jornada\n",
    "        l_dir_partido = os.listdir(ruta_jornada)\n",
    "        \n",
    "        for dir_partido in l_dir_partido:\n",
    "            \n",
    "            # Se extraen los elemenos del partido\n",
    "            ruta_partido = ruta_jornada + '/' + dir_partido\n",
    "            l_elementos_partido = os.listdir(ruta_partido)\n",
    "            \n",
    "            # Se selecciona el nombre de los equipos del partido\n",
    "            equipo_1 = dir_partido.split('_VS_')[0].split('_')[1]\n",
    "            equipo_2 = dir_partido.split('_VS_')[1]\n",
    "            \n",
    "            # Se seleccionan los ficheros a cargar y se realizar su carga\n",
    "            bs_equipo_1 = [elem for elem in l_elementos_partido if equipo_1 in elem and 'CARTA_TIRO' not in elem and 'VS' not in elem][0]\n",
    "            bs_equipo_2 = [elem for elem in l_elementos_partido if equipo_2 in elem and 'CARTA_TIRO' not in elem and 'VS' not in elem][0]\n",
    "            df_equipo_1 = pd.read_csv(ruta_partido + '/' + bs_equipo_1, sep=';')\n",
    "            df_equipo_2 = pd.read_csv(ruta_partido + '/' + bs_equipo_2, sep=';')\n",
    "            \n",
    "            # Se seleccionan los registros de jugador y se elimina la columna vacía\n",
    "            df_equipo_1 = df_equipo_1[~df_equipo_1['NO.'].isna()].drop('Unnamed: 0',axis=1)\n",
    "            df_equipo_2 = df_equipo_2[~df_equipo_2['NO.'].isna()].drop('Unnamed: 0',axis=1) \n",
    "            \n",
    "            contador_vacios = contador_vacios + df_equipo_1.isna().sum().sum() + df_equipo_2.isna().sum().sum()\n",
    "            contador_registros = contador_registros + len(df_equipo_1) + len(df_equipo_2)\n",
    "            contador_ficheros = contador_ficheros + 2\n",
    "            contador_nulos = contador_nulos + (df_equipo_1 == '').sum().sum() + (df_equipo_2 == '').sum().sum()\n",
    "            contador_partidos = contador_partidos + 1\n",
    "            \n",
    "print(\"###############################################\")\n",
    "print(\"# ANÁLISIS DE CONSISTENCIA EN LOS BOX SCORE\")\n",
    "print(\"###############################################\")            \n",
    "print(\"El número de partidos descargados es:\", contador_partidos)\n",
    "print(\"El número de ficheros de box score descargados es:\",contador_ficheros)\n",
    "print(\"El número de registros de box score descargados es:\",contador_registros)\n",
    "print(\"El número de valores vacíos dentro del dataframe es:\",contador_vacios)\n",
    "print(\"El número de valores nulos ('') dentro del dataframe es:\",contador_nulos)"
   ]
  },
  {
   "cell_type": "markdown",
   "id": "de4d8c6a-0894-460e-9b65-d8b74908c278",
   "metadata": {},
   "source": [
    "Como se puede observar, el número de partidos para los que se ha descargado información es de 1.192 en los cuales se almacena información de 2.384 box scores. Dentro de estos box scores descargados se almacena información de 28.295 registros en los que no se encuentra ningún elemento vacío o nulo."
   ]
  },
  {
   "cell_type": "code",
   "execution_count": null,
   "id": "cc7dc465-66e4-4967-b633-86efd45e67d6",
   "metadata": {},
   "outputs": [],
   "source": []
  }
 ],
 "metadata": {
  "kernelspec": {
   "display_name": "Python 3 (ipykernel)",
   "language": "python",
   "name": "python3"
  },
  "language_info": {
   "codemirror_mode": {
    "name": "ipython",
    "version": 3
   },
   "file_extension": ".py",
   "mimetype": "text/x-python",
   "name": "python",
   "nbconvert_exporter": "python",
   "pygments_lexer": "ipython3",
   "version": "3.11.7"
  }
 },
 "nbformat": 4,
 "nbformat_minor": 5
}
